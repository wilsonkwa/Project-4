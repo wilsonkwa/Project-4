{
 "cells": [
  {
   "cell_type": "markdown",
   "metadata": {},
   "source": [
    "## First we explore the spray.csv"
   ]
  },
  {
   "cell_type": "code",
   "execution_count": 63,
   "metadata": {},
   "outputs": [],
   "source": [
    "# import libraries\n",
    "\n",
    "# maths\n",
    "import numpy as np\n",
    "import pandas as pd\n",
    "import scipy.stats as stats\n",
    "from pandas.api.types import is_numeric_dtype\n",
    "\n",
    "# visual\n",
    "#from matplotlib_venn import venn2\n",
    "import seaborn as sns\n",
    "import matplotlib.pyplot as plt\n",
    "%matplotlib inline\n",
    "\n",
    "import descartes\n",
    "import geopandas as gpd\n",
    "from shapely.geometry import Point, Polygon"
   ]
  },
  {
   "cell_type": "code",
   "execution_count": 3,
   "metadata": {},
   "outputs": [],
   "source": [
    "import pandas as pd\n",
    "import numpy as np\n",
    "spray = pd.read_csv('../assets/spray.csv')"
   ]
  },
  {
   "cell_type": "code",
   "execution_count": 4,
   "metadata": {},
   "outputs": [
    {
     "data": {
      "text/html": [
       "<div>\n",
       "<style scoped>\n",
       "    .dataframe tbody tr th:only-of-type {\n",
       "        vertical-align: middle;\n",
       "    }\n",
       "\n",
       "    .dataframe tbody tr th {\n",
       "        vertical-align: top;\n",
       "    }\n",
       "\n",
       "    .dataframe thead th {\n",
       "        text-align: right;\n",
       "    }\n",
       "</style>\n",
       "<table border=\"1\" class=\"dataframe\">\n",
       "  <thead>\n",
       "    <tr style=\"text-align: right;\">\n",
       "      <th></th>\n",
       "      <th>Date</th>\n",
       "      <th>Time</th>\n",
       "      <th>Latitude</th>\n",
       "      <th>Longitude</th>\n",
       "    </tr>\n",
       "  </thead>\n",
       "  <tbody>\n",
       "    <tr>\n",
       "      <th>0</th>\n",
       "      <td>2011-08-29</td>\n",
       "      <td>6:56:58 PM</td>\n",
       "      <td>42.391623</td>\n",
       "      <td>-88.089163</td>\n",
       "    </tr>\n",
       "    <tr>\n",
       "      <th>1</th>\n",
       "      <td>2011-08-29</td>\n",
       "      <td>6:57:08 PM</td>\n",
       "      <td>42.391348</td>\n",
       "      <td>-88.089163</td>\n",
       "    </tr>\n",
       "    <tr>\n",
       "      <th>2</th>\n",
       "      <td>2011-08-29</td>\n",
       "      <td>6:57:18 PM</td>\n",
       "      <td>42.391022</td>\n",
       "      <td>-88.089157</td>\n",
       "    </tr>\n",
       "    <tr>\n",
       "      <th>3</th>\n",
       "      <td>2011-08-29</td>\n",
       "      <td>6:57:28 PM</td>\n",
       "      <td>42.390637</td>\n",
       "      <td>-88.089158</td>\n",
       "    </tr>\n",
       "    <tr>\n",
       "      <th>4</th>\n",
       "      <td>2011-08-29</td>\n",
       "      <td>6:57:38 PM</td>\n",
       "      <td>42.390410</td>\n",
       "      <td>-88.088858</td>\n",
       "    </tr>\n",
       "  </tbody>\n",
       "</table>\n",
       "</div>"
      ],
      "text/plain": [
       "         Date        Time   Latitude  Longitude\n",
       "0  2011-08-29  6:56:58 PM  42.391623 -88.089163\n",
       "1  2011-08-29  6:57:08 PM  42.391348 -88.089163\n",
       "2  2011-08-29  6:57:18 PM  42.391022 -88.089157\n",
       "3  2011-08-29  6:57:28 PM  42.390637 -88.089158\n",
       "4  2011-08-29  6:57:38 PM  42.390410 -88.088858"
      ]
     },
     "execution_count": 4,
     "metadata": {},
     "output_type": "execute_result"
    }
   ],
   "source": [
    "spray.head()"
   ]
  },
  {
   "cell_type": "code",
   "execution_count": 5,
   "metadata": {
    "scrolled": true
   },
   "outputs": [
    {
     "name": "stdout",
     "output_type": "stream",
     "text": [
      "(14835, 4)\n",
      "\n",
      "         Date        Time   Latitude  Longitude\n",
      "0  2011-08-29  6:56:58 PM  42.391623 -88.089163\n",
      "1  2011-08-29  6:57:08 PM  42.391348 -88.089163\n",
      "2  2011-08-29  6:57:18 PM  42.391022 -88.089157\n",
      "3  2011-08-29  6:57:28 PM  42.390637 -88.089158\n",
      "4  2011-08-29  6:57:38 PM  42.390410 -88.088858\n",
      "\n",
      "Date          object\n",
      "Time          object\n",
      "Latitude     float64\n",
      "Longitude    float64\n",
      "dtype: object\n",
      "\n",
      "Date           0\n",
      "Time         584\n",
      "Latitude       0\n",
      "Longitude      0\n",
      "dtype: int64\n",
      "\n",
      "           Latitude     Longitude\n",
      "count  14835.000000  14835.000000\n",
      "mean      41.904828    -87.736690\n",
      "std        0.104381      0.067292\n",
      "min       41.713925    -88.096468\n",
      "25%       41.785001    -87.794225\n",
      "50%       41.940075    -87.727853\n",
      "75%       41.980978    -87.694108\n",
      "max       42.395983    -87.586727\n"
     ]
    }
   ],
   "source": [
    "def explore(df):\n",
    "    print(df.shape)\n",
    "    print(\"\")\n",
    "    print(df.head())\n",
    "    print(\"\")\n",
    "    print(df.dtypes)\n",
    "    print(\"\")\n",
    "    print(df.isnull().sum())\n",
    "    print(\"\")\n",
    "    print(df.describe())\n",
    "    \n",
    "explore(spray)"
   ]
  },
  {
   "cell_type": "code",
   "execution_count": 6,
   "metadata": {},
   "outputs": [
    {
     "data": {
      "text/html": [
       "<div>\n",
       "<style scoped>\n",
       "    .dataframe tbody tr th:only-of-type {\n",
       "        vertical-align: middle;\n",
       "    }\n",
       "\n",
       "    .dataframe tbody tr th {\n",
       "        vertical-align: top;\n",
       "    }\n",
       "\n",
       "    .dataframe thead th {\n",
       "        text-align: right;\n",
       "    }\n",
       "</style>\n",
       "<table border=\"1\" class=\"dataframe\">\n",
       "  <thead>\n",
       "    <tr style=\"text-align: right;\">\n",
       "      <th></th>\n",
       "      <th>Time</th>\n",
       "      <th>Latitude</th>\n",
       "      <th>Longitude</th>\n",
       "    </tr>\n",
       "    <tr>\n",
       "      <th>Date</th>\n",
       "      <th></th>\n",
       "      <th></th>\n",
       "      <th></th>\n",
       "    </tr>\n",
       "  </thead>\n",
       "  <tbody>\n",
       "    <tr>\n",
       "      <th>2011-08-29</th>\n",
       "      <td>95</td>\n",
       "      <td>95</td>\n",
       "      <td>95</td>\n",
       "    </tr>\n",
       "    <tr>\n",
       "      <th>2011-09-07</th>\n",
       "      <td>1530</td>\n",
       "      <td>2114</td>\n",
       "      <td>2114</td>\n",
       "    </tr>\n",
       "    <tr>\n",
       "      <th>2013-07-17</th>\n",
       "      <td>2202</td>\n",
       "      <td>2202</td>\n",
       "      <td>2202</td>\n",
       "    </tr>\n",
       "    <tr>\n",
       "      <th>2013-07-25</th>\n",
       "      <td>1607</td>\n",
       "      <td>1607</td>\n",
       "      <td>1607</td>\n",
       "    </tr>\n",
       "    <tr>\n",
       "      <th>2013-08-08</th>\n",
       "      <td>1195</td>\n",
       "      <td>1195</td>\n",
       "      <td>1195</td>\n",
       "    </tr>\n",
       "    <tr>\n",
       "      <th>2013-08-15</th>\n",
       "      <td>2668</td>\n",
       "      <td>2668</td>\n",
       "      <td>2668</td>\n",
       "    </tr>\n",
       "    <tr>\n",
       "      <th>2013-08-16</th>\n",
       "      <td>141</td>\n",
       "      <td>141</td>\n",
       "      <td>141</td>\n",
       "    </tr>\n",
       "    <tr>\n",
       "      <th>2013-08-22</th>\n",
       "      <td>1587</td>\n",
       "      <td>1587</td>\n",
       "      <td>1587</td>\n",
       "    </tr>\n",
       "    <tr>\n",
       "      <th>2013-08-29</th>\n",
       "      <td>2302</td>\n",
       "      <td>2302</td>\n",
       "      <td>2302</td>\n",
       "    </tr>\n",
       "    <tr>\n",
       "      <th>2013-09-05</th>\n",
       "      <td>924</td>\n",
       "      <td>924</td>\n",
       "      <td>924</td>\n",
       "    </tr>\n",
       "  </tbody>\n",
       "</table>\n",
       "</div>"
      ],
      "text/plain": [
       "            Time  Latitude  Longitude\n",
       "Date                                 \n",
       "2011-08-29    95        95         95\n",
       "2011-09-07  1530      2114       2114\n",
       "2013-07-17  2202      2202       2202\n",
       "2013-07-25  1607      1607       1607\n",
       "2013-08-08  1195      1195       1195\n",
       "2013-08-15  2668      2668       2668\n",
       "2013-08-16   141       141        141\n",
       "2013-08-22  1587      1587       1587\n",
       "2013-08-29  2302      2302       2302\n",
       "2013-09-05   924       924        924"
      ]
     },
     "execution_count": 6,
     "metadata": {},
     "output_type": "execute_result"
    }
   ],
   "source": [
    "#checking the list of date that spraying occured\n",
    "spray['Date'] = pd.to_datetime(spray['Date'])\n",
    "spray['Time'] = pd.to_timedelta(spray['Time'])\n",
    "spray.groupby(['Date']).count()"
   ]
  },
  {
   "cell_type": "code",
   "execution_count": 7,
   "metadata": {
    "scrolled": true
   },
   "outputs": [
    {
     "data": {
      "text/html": [
       "<div>\n",
       "<style scoped>\n",
       "    .dataframe tbody tr th:only-of-type {\n",
       "        vertical-align: middle;\n",
       "    }\n",
       "\n",
       "    .dataframe tbody tr th {\n",
       "        vertical-align: top;\n",
       "    }\n",
       "\n",
       "    .dataframe thead th {\n",
       "        text-align: right;\n",
       "    }\n",
       "</style>\n",
       "<table border=\"1\" class=\"dataframe\">\n",
       "  <thead>\n",
       "    <tr style=\"text-align: right;\">\n",
       "      <th></th>\n",
       "      <th>Date</th>\n",
       "      <th>Time</th>\n",
       "      <th>Latitude</th>\n",
       "      <th>Longitude</th>\n",
       "    </tr>\n",
       "  </thead>\n",
       "  <tbody>\n",
       "    <tr>\n",
       "      <th>1030</th>\n",
       "      <td>2011-09-07</td>\n",
       "      <td>NaT</td>\n",
       "      <td>41.987092</td>\n",
       "      <td>-87.794286</td>\n",
       "    </tr>\n",
       "    <tr>\n",
       "      <th>1031</th>\n",
       "      <td>2011-09-07</td>\n",
       "      <td>NaT</td>\n",
       "      <td>41.987620</td>\n",
       "      <td>-87.794382</td>\n",
       "    </tr>\n",
       "    <tr>\n",
       "      <th>1032</th>\n",
       "      <td>2011-09-07</td>\n",
       "      <td>NaT</td>\n",
       "      <td>41.988004</td>\n",
       "      <td>-87.794574</td>\n",
       "    </tr>\n",
       "    <tr>\n",
       "      <th>1033</th>\n",
       "      <td>2011-09-07</td>\n",
       "      <td>NaT</td>\n",
       "      <td>41.988292</td>\n",
       "      <td>-87.795486</td>\n",
       "    </tr>\n",
       "    <tr>\n",
       "      <th>1034</th>\n",
       "      <td>2011-09-07</td>\n",
       "      <td>NaT</td>\n",
       "      <td>41.988100</td>\n",
       "      <td>-87.796014</td>\n",
       "    </tr>\n",
       "    <tr>\n",
       "      <th>1035</th>\n",
       "      <td>2011-09-07</td>\n",
       "      <td>NaT</td>\n",
       "      <td>41.986372</td>\n",
       "      <td>-87.794862</td>\n",
       "    </tr>\n",
       "    <tr>\n",
       "      <th>1036</th>\n",
       "      <td>2011-09-07</td>\n",
       "      <td>NaT</td>\n",
       "      <td>41.986228</td>\n",
       "      <td>-87.795582</td>\n",
       "    </tr>\n",
       "    <tr>\n",
       "      <th>1037</th>\n",
       "      <td>2011-09-07</td>\n",
       "      <td>NaT</td>\n",
       "      <td>41.984836</td>\n",
       "      <td>-87.793998</td>\n",
       "    </tr>\n",
       "    <tr>\n",
       "      <th>1038</th>\n",
       "      <td>2011-09-07</td>\n",
       "      <td>NaT</td>\n",
       "      <td>41.984836</td>\n",
       "      <td>-87.794670</td>\n",
       "    </tr>\n",
       "    <tr>\n",
       "      <th>1039</th>\n",
       "      <td>2011-09-07</td>\n",
       "      <td>NaT</td>\n",
       "      <td>41.984884</td>\n",
       "      <td>-87.795198</td>\n",
       "    </tr>\n",
       "    <tr>\n",
       "      <th>1040</th>\n",
       "      <td>2011-09-07</td>\n",
       "      <td>NaT</td>\n",
       "      <td>41.982820</td>\n",
       "      <td>-87.793182</td>\n",
       "    </tr>\n",
       "    <tr>\n",
       "      <th>1041</th>\n",
       "      <td>2011-09-07</td>\n",
       "      <td>NaT</td>\n",
       "      <td>41.982772</td>\n",
       "      <td>-87.793950</td>\n",
       "    </tr>\n",
       "    <tr>\n",
       "      <th>1042</th>\n",
       "      <td>2011-09-07</td>\n",
       "      <td>NaT</td>\n",
       "      <td>41.982772</td>\n",
       "      <td>-87.795006</td>\n",
       "    </tr>\n",
       "    <tr>\n",
       "      <th>1043</th>\n",
       "      <td>2011-09-07</td>\n",
       "      <td>NaT</td>\n",
       "      <td>41.983444</td>\n",
       "      <td>-87.795246</td>\n",
       "    </tr>\n",
       "    <tr>\n",
       "      <th>1044</th>\n",
       "      <td>2011-09-07</td>\n",
       "      <td>NaT</td>\n",
       "      <td>41.984068</td>\n",
       "      <td>-87.795438</td>\n",
       "    </tr>\n",
       "    <tr>\n",
       "      <th>1045</th>\n",
       "      <td>2011-09-07</td>\n",
       "      <td>NaT</td>\n",
       "      <td>41.984596</td>\n",
       "      <td>-87.795534</td>\n",
       "    </tr>\n",
       "    <tr>\n",
       "      <th>1046</th>\n",
       "      <td>2011-09-07</td>\n",
       "      <td>NaT</td>\n",
       "      <td>41.984980</td>\n",
       "      <td>-87.795630</td>\n",
       "    </tr>\n",
       "    <tr>\n",
       "      <th>1047</th>\n",
       "      <td>2011-09-07</td>\n",
       "      <td>NaT</td>\n",
       "      <td>41.986708</td>\n",
       "      <td>-87.796110</td>\n",
       "    </tr>\n",
       "    <tr>\n",
       "      <th>1048</th>\n",
       "      <td>2011-09-07</td>\n",
       "      <td>NaT</td>\n",
       "      <td>41.987524</td>\n",
       "      <td>-87.796302</td>\n",
       "    </tr>\n",
       "    <tr>\n",
       "      <th>1049</th>\n",
       "      <td>2011-09-07</td>\n",
       "      <td>NaT</td>\n",
       "      <td>41.988820</td>\n",
       "      <td>-87.796638</td>\n",
       "    </tr>\n",
       "    <tr>\n",
       "      <th>1050</th>\n",
       "      <td>2011-09-07</td>\n",
       "      <td>NaT</td>\n",
       "      <td>41.989444</td>\n",
       "      <td>-87.796830</td>\n",
       "    </tr>\n",
       "    <tr>\n",
       "      <th>1051</th>\n",
       "      <td>2011-09-07</td>\n",
       "      <td>NaT</td>\n",
       "      <td>41.990068</td>\n",
       "      <td>-87.796974</td>\n",
       "    </tr>\n",
       "    <tr>\n",
       "      <th>1052</th>\n",
       "      <td>2011-09-07</td>\n",
       "      <td>NaT</td>\n",
       "      <td>41.988244</td>\n",
       "      <td>-87.797022</td>\n",
       "    </tr>\n",
       "    <tr>\n",
       "      <th>1053</th>\n",
       "      <td>2011-09-07</td>\n",
       "      <td>NaT</td>\n",
       "      <td>41.988196</td>\n",
       "      <td>-87.797742</td>\n",
       "    </tr>\n",
       "    <tr>\n",
       "      <th>1054</th>\n",
       "      <td>2011-09-07</td>\n",
       "      <td>NaT</td>\n",
       "      <td>41.988196</td>\n",
       "      <td>-87.798366</td>\n",
       "    </tr>\n",
       "    <tr>\n",
       "      <th>1055</th>\n",
       "      <td>2011-09-07</td>\n",
       "      <td>NaT</td>\n",
       "      <td>41.988196</td>\n",
       "      <td>-87.798942</td>\n",
       "    </tr>\n",
       "    <tr>\n",
       "      <th>1056</th>\n",
       "      <td>2011-09-07</td>\n",
       "      <td>NaT</td>\n",
       "      <td>41.988196</td>\n",
       "      <td>-87.799422</td>\n",
       "    </tr>\n",
       "    <tr>\n",
       "      <th>1057</th>\n",
       "      <td>2011-09-07</td>\n",
       "      <td>NaT</td>\n",
       "      <td>41.986372</td>\n",
       "      <td>-87.796494</td>\n",
       "    </tr>\n",
       "    <tr>\n",
       "      <th>1058</th>\n",
       "      <td>2011-09-07</td>\n",
       "      <td>NaT</td>\n",
       "      <td>41.986372</td>\n",
       "      <td>-87.797310</td>\n",
       "    </tr>\n",
       "    <tr>\n",
       "      <th>1059</th>\n",
       "      <td>2011-09-07</td>\n",
       "      <td>NaT</td>\n",
       "      <td>41.986372</td>\n",
       "      <td>-87.798030</td>\n",
       "    </tr>\n",
       "    <tr>\n",
       "      <th>...</th>\n",
       "      <td>...</td>\n",
       "      <td>...</td>\n",
       "      <td>...</td>\n",
       "      <td>...</td>\n",
       "    </tr>\n",
       "    <tr>\n",
       "      <th>1584</th>\n",
       "      <td>2011-09-07</td>\n",
       "      <td>NaT</td>\n",
       "      <td>41.992372</td>\n",
       "      <td>-87.816367</td>\n",
       "    </tr>\n",
       "    <tr>\n",
       "      <th>1585</th>\n",
       "      <td>2011-09-07</td>\n",
       "      <td>NaT</td>\n",
       "      <td>41.992468</td>\n",
       "      <td>-87.815839</td>\n",
       "    </tr>\n",
       "    <tr>\n",
       "      <th>1586</th>\n",
       "      <td>2011-09-07</td>\n",
       "      <td>NaT</td>\n",
       "      <td>41.992516</td>\n",
       "      <td>-87.815311</td>\n",
       "    </tr>\n",
       "    <tr>\n",
       "      <th>1587</th>\n",
       "      <td>2011-09-07</td>\n",
       "      <td>NaT</td>\n",
       "      <td>41.992564</td>\n",
       "      <td>-87.814735</td>\n",
       "    </tr>\n",
       "    <tr>\n",
       "      <th>1588</th>\n",
       "      <td>2011-09-07</td>\n",
       "      <td>NaT</td>\n",
       "      <td>41.992612</td>\n",
       "      <td>-87.814303</td>\n",
       "    </tr>\n",
       "    <tr>\n",
       "      <th>1589</th>\n",
       "      <td>2011-09-07</td>\n",
       "      <td>NaT</td>\n",
       "      <td>41.992612</td>\n",
       "      <td>-87.813775</td>\n",
       "    </tr>\n",
       "    <tr>\n",
       "      <th>1590</th>\n",
       "      <td>2011-09-07</td>\n",
       "      <td>NaT</td>\n",
       "      <td>41.992612</td>\n",
       "      <td>-87.813343</td>\n",
       "    </tr>\n",
       "    <tr>\n",
       "      <th>1591</th>\n",
       "      <td>2011-09-07</td>\n",
       "      <td>NaT</td>\n",
       "      <td>41.992660</td>\n",
       "      <td>-87.812767</td>\n",
       "    </tr>\n",
       "    <tr>\n",
       "      <th>1592</th>\n",
       "      <td>2011-09-07</td>\n",
       "      <td>NaT</td>\n",
       "      <td>41.992660</td>\n",
       "      <td>-87.812191</td>\n",
       "    </tr>\n",
       "    <tr>\n",
       "      <th>1593</th>\n",
       "      <td>2011-09-07</td>\n",
       "      <td>NaT</td>\n",
       "      <td>41.992612</td>\n",
       "      <td>-87.811663</td>\n",
       "    </tr>\n",
       "    <tr>\n",
       "      <th>1594</th>\n",
       "      <td>2011-09-07</td>\n",
       "      <td>NaT</td>\n",
       "      <td>41.992660</td>\n",
       "      <td>-87.811279</td>\n",
       "    </tr>\n",
       "    <tr>\n",
       "      <th>1595</th>\n",
       "      <td>2011-09-07</td>\n",
       "      <td>NaT</td>\n",
       "      <td>41.992660</td>\n",
       "      <td>-87.810847</td>\n",
       "    </tr>\n",
       "    <tr>\n",
       "      <th>1596</th>\n",
       "      <td>2011-09-07</td>\n",
       "      <td>NaT</td>\n",
       "      <td>41.992612</td>\n",
       "      <td>-87.810415</td>\n",
       "    </tr>\n",
       "    <tr>\n",
       "      <th>1597</th>\n",
       "      <td>2011-09-07</td>\n",
       "      <td>NaT</td>\n",
       "      <td>41.992660</td>\n",
       "      <td>-87.809455</td>\n",
       "    </tr>\n",
       "    <tr>\n",
       "      <th>1598</th>\n",
       "      <td>2011-09-07</td>\n",
       "      <td>NaT</td>\n",
       "      <td>41.992660</td>\n",
       "      <td>-87.809983</td>\n",
       "    </tr>\n",
       "    <tr>\n",
       "      <th>1599</th>\n",
       "      <td>2011-09-07</td>\n",
       "      <td>NaT</td>\n",
       "      <td>41.992708</td>\n",
       "      <td>-87.808927</td>\n",
       "    </tr>\n",
       "    <tr>\n",
       "      <th>1600</th>\n",
       "      <td>2011-09-07</td>\n",
       "      <td>NaT</td>\n",
       "      <td>41.992708</td>\n",
       "      <td>-87.808399</td>\n",
       "    </tr>\n",
       "    <tr>\n",
       "      <th>1601</th>\n",
       "      <td>2011-09-07</td>\n",
       "      <td>NaT</td>\n",
       "      <td>41.992756</td>\n",
       "      <td>-87.807775</td>\n",
       "    </tr>\n",
       "    <tr>\n",
       "      <th>1602</th>\n",
       "      <td>2011-09-07</td>\n",
       "      <td>NaT</td>\n",
       "      <td>41.992756</td>\n",
       "      <td>-87.807199</td>\n",
       "    </tr>\n",
       "    <tr>\n",
       "      <th>1603</th>\n",
       "      <td>2011-09-07</td>\n",
       "      <td>NaT</td>\n",
       "      <td>41.996164</td>\n",
       "      <td>-87.813727</td>\n",
       "    </tr>\n",
       "    <tr>\n",
       "      <th>1604</th>\n",
       "      <td>2011-09-07</td>\n",
       "      <td>NaT</td>\n",
       "      <td>41.995732</td>\n",
       "      <td>-87.813679</td>\n",
       "    </tr>\n",
       "    <tr>\n",
       "      <th>1605</th>\n",
       "      <td>2011-09-07</td>\n",
       "      <td>NaT</td>\n",
       "      <td>41.994916</td>\n",
       "      <td>-87.813727</td>\n",
       "    </tr>\n",
       "    <tr>\n",
       "      <th>1606</th>\n",
       "      <td>2011-09-07</td>\n",
       "      <td>NaT</td>\n",
       "      <td>41.992948</td>\n",
       "      <td>-87.813775</td>\n",
       "    </tr>\n",
       "    <tr>\n",
       "      <th>1607</th>\n",
       "      <td>2011-09-07</td>\n",
       "      <td>NaT</td>\n",
       "      <td>41.996644</td>\n",
       "      <td>-87.811567</td>\n",
       "    </tr>\n",
       "    <tr>\n",
       "      <th>1608</th>\n",
       "      <td>2011-09-07</td>\n",
       "      <td>NaT</td>\n",
       "      <td>41.996260</td>\n",
       "      <td>-87.811567</td>\n",
       "    </tr>\n",
       "    <tr>\n",
       "      <th>1609</th>\n",
       "      <td>2011-09-07</td>\n",
       "      <td>NaT</td>\n",
       "      <td>41.995876</td>\n",
       "      <td>-87.811615</td>\n",
       "    </tr>\n",
       "    <tr>\n",
       "      <th>1610</th>\n",
       "      <td>2011-09-07</td>\n",
       "      <td>NaT</td>\n",
       "      <td>41.995972</td>\n",
       "      <td>-87.810271</td>\n",
       "    </tr>\n",
       "    <tr>\n",
       "      <th>1611</th>\n",
       "      <td>2011-09-07</td>\n",
       "      <td>NaT</td>\n",
       "      <td>41.995684</td>\n",
       "      <td>-87.810319</td>\n",
       "    </tr>\n",
       "    <tr>\n",
       "      <th>1612</th>\n",
       "      <td>2011-09-07</td>\n",
       "      <td>NaT</td>\n",
       "      <td>41.994724</td>\n",
       "      <td>-87.810415</td>\n",
       "    </tr>\n",
       "    <tr>\n",
       "      <th>1613</th>\n",
       "      <td>2011-09-07</td>\n",
       "      <td>NaT</td>\n",
       "      <td>41.993092</td>\n",
       "      <td>-87.810415</td>\n",
       "    </tr>\n",
       "  </tbody>\n",
       "</table>\n",
       "<p>584 rows × 4 columns</p>\n",
       "</div>"
      ],
      "text/plain": [
       "           Date Time   Latitude  Longitude\n",
       "1030 2011-09-07  NaT  41.987092 -87.794286\n",
       "1031 2011-09-07  NaT  41.987620 -87.794382\n",
       "1032 2011-09-07  NaT  41.988004 -87.794574\n",
       "1033 2011-09-07  NaT  41.988292 -87.795486\n",
       "1034 2011-09-07  NaT  41.988100 -87.796014\n",
       "1035 2011-09-07  NaT  41.986372 -87.794862\n",
       "1036 2011-09-07  NaT  41.986228 -87.795582\n",
       "1037 2011-09-07  NaT  41.984836 -87.793998\n",
       "1038 2011-09-07  NaT  41.984836 -87.794670\n",
       "1039 2011-09-07  NaT  41.984884 -87.795198\n",
       "1040 2011-09-07  NaT  41.982820 -87.793182\n",
       "1041 2011-09-07  NaT  41.982772 -87.793950\n",
       "1042 2011-09-07  NaT  41.982772 -87.795006\n",
       "1043 2011-09-07  NaT  41.983444 -87.795246\n",
       "1044 2011-09-07  NaT  41.984068 -87.795438\n",
       "1045 2011-09-07  NaT  41.984596 -87.795534\n",
       "1046 2011-09-07  NaT  41.984980 -87.795630\n",
       "1047 2011-09-07  NaT  41.986708 -87.796110\n",
       "1048 2011-09-07  NaT  41.987524 -87.796302\n",
       "1049 2011-09-07  NaT  41.988820 -87.796638\n",
       "1050 2011-09-07  NaT  41.989444 -87.796830\n",
       "1051 2011-09-07  NaT  41.990068 -87.796974\n",
       "1052 2011-09-07  NaT  41.988244 -87.797022\n",
       "1053 2011-09-07  NaT  41.988196 -87.797742\n",
       "1054 2011-09-07  NaT  41.988196 -87.798366\n",
       "1055 2011-09-07  NaT  41.988196 -87.798942\n",
       "1056 2011-09-07  NaT  41.988196 -87.799422\n",
       "1057 2011-09-07  NaT  41.986372 -87.796494\n",
       "1058 2011-09-07  NaT  41.986372 -87.797310\n",
       "1059 2011-09-07  NaT  41.986372 -87.798030\n",
       "...         ...  ...        ...        ...\n",
       "1584 2011-09-07  NaT  41.992372 -87.816367\n",
       "1585 2011-09-07  NaT  41.992468 -87.815839\n",
       "1586 2011-09-07  NaT  41.992516 -87.815311\n",
       "1587 2011-09-07  NaT  41.992564 -87.814735\n",
       "1588 2011-09-07  NaT  41.992612 -87.814303\n",
       "1589 2011-09-07  NaT  41.992612 -87.813775\n",
       "1590 2011-09-07  NaT  41.992612 -87.813343\n",
       "1591 2011-09-07  NaT  41.992660 -87.812767\n",
       "1592 2011-09-07  NaT  41.992660 -87.812191\n",
       "1593 2011-09-07  NaT  41.992612 -87.811663\n",
       "1594 2011-09-07  NaT  41.992660 -87.811279\n",
       "1595 2011-09-07  NaT  41.992660 -87.810847\n",
       "1596 2011-09-07  NaT  41.992612 -87.810415\n",
       "1597 2011-09-07  NaT  41.992660 -87.809455\n",
       "1598 2011-09-07  NaT  41.992660 -87.809983\n",
       "1599 2011-09-07  NaT  41.992708 -87.808927\n",
       "1600 2011-09-07  NaT  41.992708 -87.808399\n",
       "1601 2011-09-07  NaT  41.992756 -87.807775\n",
       "1602 2011-09-07  NaT  41.992756 -87.807199\n",
       "1603 2011-09-07  NaT  41.996164 -87.813727\n",
       "1604 2011-09-07  NaT  41.995732 -87.813679\n",
       "1605 2011-09-07  NaT  41.994916 -87.813727\n",
       "1606 2011-09-07  NaT  41.992948 -87.813775\n",
       "1607 2011-09-07  NaT  41.996644 -87.811567\n",
       "1608 2011-09-07  NaT  41.996260 -87.811567\n",
       "1609 2011-09-07  NaT  41.995876 -87.811615\n",
       "1610 2011-09-07  NaT  41.995972 -87.810271\n",
       "1611 2011-09-07  NaT  41.995684 -87.810319\n",
       "1612 2011-09-07  NaT  41.994724 -87.810415\n",
       "1613 2011-09-07  NaT  41.993092 -87.810415\n",
       "\n",
       "[584 rows x 4 columns]"
      ]
     },
     "execution_count": 7,
     "metadata": {},
     "output_type": "execute_result"
    }
   ],
   "source": [
    "#checking which are the dates that time is null\n",
    "nans = lambda spray: spray[spray.isnull().any(axis=1)]\n",
    "nans(spray)"
   ]
  },
  {
   "cell_type": "markdown",
   "metadata": {},
   "source": [
    "## Spray conclusion:\n",
    "    spray.shape = (14835, 4)\n",
    "    584 null values in Time column only, all null values are in 2011-09-07\n",
    "    However, not all 2011-09-07 time are null values (584/1530 are nulls)\n",
    "    \n",
    "    changed Date and Time to datetime and timedelta respectively\n",
    "    \n",
    "    2 sprays in 2011, once in Aug, once in Sept \n",
    "    8 sprays in 2013, twice in July, 5 times in Aug, once in Sept\n",
    "    \n",
    "sidenote: might be linked to weather conditions <br>\n",
    "(ie hotter in 2013 than 2011, or increased mosquitoes activites hence an increase in sprays)"
   ]
  },
  {
   "cell_type": "code",
   "execution_count": 8,
   "metadata": {},
   "outputs": [],
   "source": [
    "spray_2 = spray"
   ]
  },
  {
   "cell_type": "code",
   "execution_count": 9,
   "metadata": {},
   "outputs": [],
   "source": [
    "spray_2.to_csv(\"../assets/spray_2.csv\", index=False) \n"
   ]
  },
  {
   "cell_type": "markdown",
   "metadata": {},
   "source": [
    "## Now, we move on to explore \"weather.csv\""
   ]
  },
  {
   "cell_type": "code",
   "execution_count": 10,
   "metadata": {},
   "outputs": [],
   "source": [
    "weather = pd.read_csv('../assets/weather.csv')"
   ]
  },
  {
   "cell_type": "code",
   "execution_count": 11,
   "metadata": {
    "scrolled": true
   },
   "outputs": [
    {
     "data": {
      "text/html": [
       "<div>\n",
       "<style scoped>\n",
       "    .dataframe tbody tr th:only-of-type {\n",
       "        vertical-align: middle;\n",
       "    }\n",
       "\n",
       "    .dataframe tbody tr th {\n",
       "        vertical-align: top;\n",
       "    }\n",
       "\n",
       "    .dataframe thead th {\n",
       "        text-align: right;\n",
       "    }\n",
       "</style>\n",
       "<table border=\"1\" class=\"dataframe\">\n",
       "  <thead>\n",
       "    <tr style=\"text-align: right;\">\n",
       "      <th></th>\n",
       "      <th>Station</th>\n",
       "      <th>Date</th>\n",
       "      <th>Tmax</th>\n",
       "      <th>Tmin</th>\n",
       "      <th>Tavg</th>\n",
       "      <th>Depart</th>\n",
       "      <th>DewPoint</th>\n",
       "      <th>WetBulb</th>\n",
       "      <th>Heat</th>\n",
       "      <th>Cool</th>\n",
       "      <th>...</th>\n",
       "      <th>CodeSum</th>\n",
       "      <th>Depth</th>\n",
       "      <th>Water1</th>\n",
       "      <th>SnowFall</th>\n",
       "      <th>PrecipTotal</th>\n",
       "      <th>StnPressure</th>\n",
       "      <th>SeaLevel</th>\n",
       "      <th>ResultSpeed</th>\n",
       "      <th>ResultDir</th>\n",
       "      <th>AvgSpeed</th>\n",
       "    </tr>\n",
       "  </thead>\n",
       "  <tbody>\n",
       "    <tr>\n",
       "      <th>0</th>\n",
       "      <td>1</td>\n",
       "      <td>2007-05-01</td>\n",
       "      <td>83</td>\n",
       "      <td>50</td>\n",
       "      <td>67</td>\n",
       "      <td>14</td>\n",
       "      <td>51</td>\n",
       "      <td>56</td>\n",
       "      <td>0</td>\n",
       "      <td>2</td>\n",
       "      <td>...</td>\n",
       "      <td></td>\n",
       "      <td>0</td>\n",
       "      <td>M</td>\n",
       "      <td>0.0</td>\n",
       "      <td>0.00</td>\n",
       "      <td>29.10</td>\n",
       "      <td>29.82</td>\n",
       "      <td>1.7</td>\n",
       "      <td>27</td>\n",
       "      <td>9.2</td>\n",
       "    </tr>\n",
       "    <tr>\n",
       "      <th>1</th>\n",
       "      <td>2</td>\n",
       "      <td>2007-05-01</td>\n",
       "      <td>84</td>\n",
       "      <td>52</td>\n",
       "      <td>68</td>\n",
       "      <td>M</td>\n",
       "      <td>51</td>\n",
       "      <td>57</td>\n",
       "      <td>0</td>\n",
       "      <td>3</td>\n",
       "      <td>...</td>\n",
       "      <td></td>\n",
       "      <td>M</td>\n",
       "      <td>M</td>\n",
       "      <td>M</td>\n",
       "      <td>0.00</td>\n",
       "      <td>29.18</td>\n",
       "      <td>29.82</td>\n",
       "      <td>2.7</td>\n",
       "      <td>25</td>\n",
       "      <td>9.6</td>\n",
       "    </tr>\n",
       "    <tr>\n",
       "      <th>2</th>\n",
       "      <td>1</td>\n",
       "      <td>2007-05-02</td>\n",
       "      <td>59</td>\n",
       "      <td>42</td>\n",
       "      <td>51</td>\n",
       "      <td>-3</td>\n",
       "      <td>42</td>\n",
       "      <td>47</td>\n",
       "      <td>14</td>\n",
       "      <td>0</td>\n",
       "      <td>...</td>\n",
       "      <td>BR</td>\n",
       "      <td>0</td>\n",
       "      <td>M</td>\n",
       "      <td>0.0</td>\n",
       "      <td>0.00</td>\n",
       "      <td>29.38</td>\n",
       "      <td>30.09</td>\n",
       "      <td>13.0</td>\n",
       "      <td>4</td>\n",
       "      <td>13.4</td>\n",
       "    </tr>\n",
       "    <tr>\n",
       "      <th>3</th>\n",
       "      <td>2</td>\n",
       "      <td>2007-05-02</td>\n",
       "      <td>60</td>\n",
       "      <td>43</td>\n",
       "      <td>52</td>\n",
       "      <td>M</td>\n",
       "      <td>42</td>\n",
       "      <td>47</td>\n",
       "      <td>13</td>\n",
       "      <td>0</td>\n",
       "      <td>...</td>\n",
       "      <td>BR HZ</td>\n",
       "      <td>M</td>\n",
       "      <td>M</td>\n",
       "      <td>M</td>\n",
       "      <td>0.00</td>\n",
       "      <td>29.44</td>\n",
       "      <td>30.08</td>\n",
       "      <td>13.3</td>\n",
       "      <td>2</td>\n",
       "      <td>13.4</td>\n",
       "    </tr>\n",
       "    <tr>\n",
       "      <th>4</th>\n",
       "      <td>1</td>\n",
       "      <td>2007-05-03</td>\n",
       "      <td>66</td>\n",
       "      <td>46</td>\n",
       "      <td>56</td>\n",
       "      <td>2</td>\n",
       "      <td>40</td>\n",
       "      <td>48</td>\n",
       "      <td>9</td>\n",
       "      <td>0</td>\n",
       "      <td>...</td>\n",
       "      <td></td>\n",
       "      <td>0</td>\n",
       "      <td>M</td>\n",
       "      <td>0.0</td>\n",
       "      <td>0.00</td>\n",
       "      <td>29.39</td>\n",
       "      <td>30.12</td>\n",
       "      <td>11.7</td>\n",
       "      <td>7</td>\n",
       "      <td>11.9</td>\n",
       "    </tr>\n",
       "  </tbody>\n",
       "</table>\n",
       "<p>5 rows × 22 columns</p>\n",
       "</div>"
      ],
      "text/plain": [
       "   Station        Date  Tmax  Tmin Tavg Depart  DewPoint WetBulb Heat Cool  \\\n",
       "0        1  2007-05-01    83    50   67     14        51      56    0    2   \n",
       "1        2  2007-05-01    84    52   68      M        51      57    0    3   \n",
       "2        1  2007-05-02    59    42   51     -3        42      47   14    0   \n",
       "3        2  2007-05-02    60    43   52      M        42      47   13    0   \n",
       "4        1  2007-05-03    66    46   56      2        40      48    9    0   \n",
       "\n",
       "   ... CodeSum Depth Water1 SnowFall PrecipTotal StnPressure SeaLevel  \\\n",
       "0  ...             0      M      0.0        0.00       29.10    29.82   \n",
       "1  ...             M      M        M        0.00       29.18    29.82   \n",
       "2  ...      BR     0      M      0.0        0.00       29.38    30.09   \n",
       "3  ...   BR HZ     M      M        M        0.00       29.44    30.08   \n",
       "4  ...             0      M      0.0        0.00       29.39    30.12   \n",
       "\n",
       "  ResultSpeed ResultDir  AvgSpeed  \n",
       "0         1.7        27       9.2  \n",
       "1         2.7        25       9.6  \n",
       "2        13.0         4      13.4  \n",
       "3        13.3         2      13.4  \n",
       "4        11.7         7      11.9  \n",
       "\n",
       "[5 rows x 22 columns]"
      ]
     },
     "execution_count": 11,
     "metadata": {},
     "output_type": "execute_result"
    }
   ],
   "source": [
    "weather.head()"
   ]
  },
  {
   "cell_type": "code",
   "execution_count": 12,
   "metadata": {
    "scrolled": true
   },
   "outputs": [
    {
     "name": "stdout",
     "output_type": "stream",
     "text": [
      "(2944, 22)\n",
      "\n",
      "   Station        Date  Tmax  Tmin Tavg Depart  DewPoint WetBulb Heat Cool  \\\n",
      "0        1  2007-05-01    83    50   67     14        51      56    0    2   \n",
      "1        2  2007-05-01    84    52   68      M        51      57    0    3   \n",
      "2        1  2007-05-02    59    42   51     -3        42      47   14    0   \n",
      "3        2  2007-05-02    60    43   52      M        42      47   13    0   \n",
      "4        1  2007-05-03    66    46   56      2        40      48    9    0   \n",
      "\n",
      "   ... CodeSum Depth Water1 SnowFall PrecipTotal StnPressure SeaLevel  \\\n",
      "0  ...             0      M      0.0        0.00       29.10    29.82   \n",
      "1  ...             M      M        M        0.00       29.18    29.82   \n",
      "2  ...      BR     0      M      0.0        0.00       29.38    30.09   \n",
      "3  ...   BR HZ     M      M        M        0.00       29.44    30.08   \n",
      "4  ...             0      M      0.0        0.00       29.39    30.12   \n",
      "\n",
      "  ResultSpeed ResultDir  AvgSpeed  \n",
      "0         1.7        27       9.2  \n",
      "1         2.7        25       9.6  \n",
      "2        13.0         4      13.4  \n",
      "3        13.3         2      13.4  \n",
      "4        11.7         7      11.9  \n",
      "\n",
      "[5 rows x 22 columns]\n",
      "\n",
      "Station          int64\n",
      "Date            object\n",
      "Tmax             int64\n",
      "Tmin             int64\n",
      "Tavg            object\n",
      "Depart          object\n",
      "DewPoint         int64\n",
      "WetBulb         object\n",
      "Heat            object\n",
      "Cool            object\n",
      "Sunrise         object\n",
      "Sunset          object\n",
      "CodeSum         object\n",
      "Depth           object\n",
      "Water1          object\n",
      "SnowFall        object\n",
      "PrecipTotal     object\n",
      "StnPressure     object\n",
      "SeaLevel        object\n",
      "ResultSpeed    float64\n",
      "ResultDir        int64\n",
      "AvgSpeed        object\n",
      "dtype: object\n",
      "\n",
      "Station        0\n",
      "Date           0\n",
      "Tmax           0\n",
      "Tmin           0\n",
      "Tavg           0\n",
      "Depart         0\n",
      "DewPoint       0\n",
      "WetBulb        0\n",
      "Heat           0\n",
      "Cool           0\n",
      "Sunrise        0\n",
      "Sunset         0\n",
      "CodeSum        0\n",
      "Depth          0\n",
      "Water1         0\n",
      "SnowFall       0\n",
      "PrecipTotal    0\n",
      "StnPressure    0\n",
      "SeaLevel       0\n",
      "ResultSpeed    0\n",
      "ResultDir      0\n",
      "AvgSpeed       0\n",
      "dtype: int64\n",
      "\n",
      "           Station         Tmax         Tmin     DewPoint  ResultSpeed  \\\n",
      "count  2944.000000  2944.000000  2944.000000  2944.000000  2944.000000   \n",
      "mean      1.500000    76.166101    57.810462    53.457880     6.960666   \n",
      "std       0.500085    11.461970    10.381939    10.675181     3.587527   \n",
      "min       1.000000    41.000000    29.000000    22.000000     0.100000   \n",
      "25%       1.000000    69.000000    50.000000    46.000000     4.300000   \n",
      "50%       1.500000    78.000000    59.000000    54.000000     6.400000   \n",
      "75%       2.000000    85.000000    66.000000    62.000000     9.200000   \n",
      "max       2.000000   104.000000    83.000000    75.000000    24.100000   \n",
      "\n",
      "         ResultDir  \n",
      "count  2944.000000  \n",
      "mean     17.494905  \n",
      "std      10.063609  \n",
      "min       1.000000  \n",
      "25%       7.000000  \n",
      "50%      19.000000  \n",
      "75%      25.000000  \n",
      "max      36.000000  \n"
     ]
    }
   ],
   "source": [
    "explore(weather)"
   ]
  },
  {
   "cell_type": "code",
   "execution_count": 13,
   "metadata": {
    "scrolled": true
   },
   "outputs": [
    {
     "data": {
      "text/html": [
       "<div>\n",
       "<style scoped>\n",
       "    .dataframe tbody tr th:only-of-type {\n",
       "        vertical-align: middle;\n",
       "    }\n",
       "\n",
       "    .dataframe tbody tr th {\n",
       "        vertical-align: top;\n",
       "    }\n",
       "\n",
       "    .dataframe thead th {\n",
       "        text-align: right;\n",
       "    }\n",
       "</style>\n",
       "<table border=\"1\" class=\"dataframe\">\n",
       "  <thead>\n",
       "    <tr style=\"text-align: right;\">\n",
       "      <th></th>\n",
       "      <th>Station</th>\n",
       "      <th>Date</th>\n",
       "      <th>Tmax</th>\n",
       "      <th>Tmin</th>\n",
       "      <th>Tavg</th>\n",
       "      <th>Depart</th>\n",
       "      <th>DewPoint</th>\n",
       "      <th>WetBulb</th>\n",
       "      <th>Heat</th>\n",
       "      <th>Cool</th>\n",
       "      <th>...</th>\n",
       "      <th>SnowFall</th>\n",
       "      <th>PrecipTotal</th>\n",
       "      <th>StnPressure</th>\n",
       "      <th>SeaLevel</th>\n",
       "      <th>ResultSpeed</th>\n",
       "      <th>ResultDir</th>\n",
       "      <th>AvgSpeed</th>\n",
       "      <th>Year</th>\n",
       "      <th>Month</th>\n",
       "      <th>Day</th>\n",
       "    </tr>\n",
       "  </thead>\n",
       "  <tbody>\n",
       "    <tr>\n",
       "      <th>0</th>\n",
       "      <td>1</td>\n",
       "      <td>2007-05-01</td>\n",
       "      <td>83</td>\n",
       "      <td>50</td>\n",
       "      <td>67</td>\n",
       "      <td>14</td>\n",
       "      <td>51</td>\n",
       "      <td>56</td>\n",
       "      <td>0</td>\n",
       "      <td>2</td>\n",
       "      <td>...</td>\n",
       "      <td>0.0</td>\n",
       "      <td>0.00</td>\n",
       "      <td>29.10</td>\n",
       "      <td>29.82</td>\n",
       "      <td>1.7</td>\n",
       "      <td>27</td>\n",
       "      <td>9.2</td>\n",
       "      <td>2007</td>\n",
       "      <td>5</td>\n",
       "      <td>1</td>\n",
       "    </tr>\n",
       "    <tr>\n",
       "      <th>1</th>\n",
       "      <td>2</td>\n",
       "      <td>2007-05-01</td>\n",
       "      <td>84</td>\n",
       "      <td>52</td>\n",
       "      <td>68</td>\n",
       "      <td>M</td>\n",
       "      <td>51</td>\n",
       "      <td>57</td>\n",
       "      <td>0</td>\n",
       "      <td>3</td>\n",
       "      <td>...</td>\n",
       "      <td>M</td>\n",
       "      <td>0.00</td>\n",
       "      <td>29.18</td>\n",
       "      <td>29.82</td>\n",
       "      <td>2.7</td>\n",
       "      <td>25</td>\n",
       "      <td>9.6</td>\n",
       "      <td>2007</td>\n",
       "      <td>5</td>\n",
       "      <td>1</td>\n",
       "    </tr>\n",
       "    <tr>\n",
       "      <th>2</th>\n",
       "      <td>1</td>\n",
       "      <td>2007-05-02</td>\n",
       "      <td>59</td>\n",
       "      <td>42</td>\n",
       "      <td>51</td>\n",
       "      <td>-3</td>\n",
       "      <td>42</td>\n",
       "      <td>47</td>\n",
       "      <td>14</td>\n",
       "      <td>0</td>\n",
       "      <td>...</td>\n",
       "      <td>0.0</td>\n",
       "      <td>0.00</td>\n",
       "      <td>29.38</td>\n",
       "      <td>30.09</td>\n",
       "      <td>13.0</td>\n",
       "      <td>4</td>\n",
       "      <td>13.4</td>\n",
       "      <td>2007</td>\n",
       "      <td>5</td>\n",
       "      <td>2</td>\n",
       "    </tr>\n",
       "  </tbody>\n",
       "</table>\n",
       "<p>3 rows × 25 columns</p>\n",
       "</div>"
      ],
      "text/plain": [
       "   Station       Date  Tmax  Tmin Tavg Depart  DewPoint WetBulb Heat Cool  \\\n",
       "0        1 2007-05-01    83    50   67     14        51      56    0    2   \n",
       "1        2 2007-05-01    84    52   68      M        51      57    0    3   \n",
       "2        1 2007-05-02    59    42   51     -3        42      47   14    0   \n",
       "\n",
       "   ... SnowFall PrecipTotal StnPressure SeaLevel ResultSpeed ResultDir  \\\n",
       "0  ...      0.0        0.00       29.10    29.82         1.7        27   \n",
       "1  ...        M        0.00       29.18    29.82         2.7        25   \n",
       "2  ...      0.0        0.00       29.38    30.09        13.0         4   \n",
       "\n",
       "  AvgSpeed  Year Month  Day  \n",
       "0      9.2  2007     5    1  \n",
       "1      9.6  2007     5    1  \n",
       "2     13.4  2007     5    2  \n",
       "\n",
       "[3 rows x 25 columns]"
      ]
     },
     "execution_count": 13,
     "metadata": {},
     "output_type": "execute_result"
    }
   ],
   "source": [
    "#expand the Date column to Year,Month,Day to check on the period of data and see if there are any missing days/months\n",
    "from pandas import Timestamp\n",
    "\n",
    "weather['Date'] = pd.to_datetime(weather['Date'])\n",
    "weather['Year'] = weather['Date'].dt.year\n",
    "weather['Month'] = weather['Date'].dt.month\n",
    "weather['Day'] = weather['Date'].dt.day\n",
    "\n",
    "# Show three rows\n",
    "weather.head(3)"
   ]
  },
  {
   "cell_type": "code",
   "execution_count": 14,
   "metadata": {},
   "outputs": [
    {
     "name": "stderr",
     "output_type": "stream",
     "text": [
      "/anaconda3/lib/python3.7/site-packages/ipykernel_launcher.py:7: FutureWarning: set_value is deprecated and will be removed in a future release. Please use .at[] or .iat[] accessors instead\n",
      "  import sys\n",
      "/anaconda3/lib/python3.7/site-packages/ipykernel_launcher.py:9: FutureWarning: set_value is deprecated and will be removed in a future release. Please use .at[] or .iat[] accessors instead\n",
      "  if __name__ == '__main__':\n"
     ]
    }
   ],
   "source": [
    "#Creating dummy variables for the weather CodeSum data\n",
    "weather['CodeSum'] = weather['CodeSum'].apply(str.split)\n",
    "for i, list_ in enumerate(weather['CodeSum']):\n",
    "    for item in list_:\n",
    "        if item not in weather.columns:\n",
    "            weather[item] = 0\n",
    "            weather.set_value(col=item,index=i,value=1)\n",
    "        else:\n",
    "            weather.set_value(col=item,index=i,value=1)\n"
   ]
  },
  {
   "cell_type": "code",
   "execution_count": 15,
   "metadata": {},
   "outputs": [],
   "source": [
    "#replacing codes with other values\n",
    "weather = weather.replace('M',0)\n",
    "weather = weather.replace('-',np.nan)\n",
    "weather = weather.replace(' ',np.nan)\n",
    "weather = weather.replace('T',0.0005)"
   ]
  },
  {
   "cell_type": "code",
   "execution_count": 16,
   "metadata": {},
   "outputs": [],
   "source": [
    "#dropping these columns since they are used for winter purposes,\n",
    "#hence their values are zero and empty for the other weather station\n",
    "weather = weather.drop(['Depth','Water1','SnowFall'],axis=1)"
   ]
  },
  {
   "cell_type": "code",
   "execution_count": 17,
   "metadata": {},
   "outputs": [],
   "source": [
    "#To fill missing Tavg data with Average Temp.\n",
    "for i in range(weather.shape[0]):\n",
    "    if weather.loc[i,'Tavg'] == 0:\n",
    "        weather.loc[i,'Tavg'] = int(np.round((weather.loc[i,'Tmax'] + weather.loc[i,'Tmin'])/2))\n",
    "    else:\n",
    "        weather.loc[i,'Tavg'] = weather.loc[i,'Tavg']"
   ]
  },
  {
   "cell_type": "code",
   "execution_count": 18,
   "metadata": {},
   "outputs": [],
   "source": [
    "columns = ['Tavg',\n",
    "           'Depart']\n",
    "\n",
    "for i in columns:\n",
    "    weather[i] = weather[i].astype(str).astype(float)"
   ]
  },
  {
   "cell_type": "markdown",
   "metadata": {},
   "source": [
    "### Wet Bulb definition and approach\n",
    "#source: [https://www.theweatherprediction.com/habyhints/170/] <br>\n",
    "A quick technique that many forecasters use to determine the wet-bulb temperature <br>\n",
    "is called the \"1/3 rule\". The technique is to first find the dewpoint depression (temperature minus dewpoint). <br>\n",
    "Then take this number and divide by 3. Subtract this number from the temperature.<br>\n",
    "\n",
    "Since there are only 4 missing wetbulb cells, we will use this estimate<br>\n",
    "wet bulb might be linked to humidity, we might be able to create a feature engineer a new column<br>"
   ]
  },
  {
   "cell_type": "code",
   "execution_count": 19,
   "metadata": {
    "scrolled": false
   },
   "outputs": [],
   "source": [
    "#To estimate the value for 'WetBulb'\n",
    "for i in range(weather.shape[0]):\n",
    "    if weather.loc[i,'WetBulb'] == 0:\n",
    "        weather.loc[i,'WetBulb'] = np.round(weather.loc[i,'Tavg'] - (weather.loc[i,'Tavg'] - weather.loc[i,'Depart'])/3)\n",
    "                                                                    \n",
    "    else:\n",
    "        weather.loc[i,'WetBulb'] = weather.loc[i,'WetBulb']"
   ]
  },
  {
   "cell_type": "markdown",
   "metadata": {},
   "source": [
    "### Heat/Cool definition and approach\n",
    "#Heat\n",
    "A heating degree day (HDD) is a measurement designed to quantify the demand for energy \n",
    "needed to heat a building. It is the number of degrees that a day's average temperature \n",
    "is below 65o Fahrenheit (18o Celsius), which is the temperature below which buildings \n",
    "need to be heated. \n",
    "\n",
    "#Cool\n",
    "A cooling degree day (CDD) is a measurement designed to quantify the demand for energy \n",
    "needed to cool buildings. It is the number of degrees that a day's average temperature \n",
    "is above 65o Fahrenheit (18o Celsius)."
   ]
  },
  {
   "cell_type": "code",
   "execution_count": 20,
   "metadata": {},
   "outputs": [],
   "source": [
    "#To estimate the value for 'Heat' and 'Cool'\n",
    "for i in range(weather.shape[0]):\n",
    "    if weather.loc[i,'Heat'] == 0:\n",
    "        if 65 - weather.loc[i,'Tavg'] > 0:\n",
    "            weather.loc[i,'Heat'] = 65 - weather.loc[i,'Tavg']\n",
    "        else:\n",
    "            weather.loc[i,'Heat'] = 0 \n",
    "    else:\n",
    "        weather.loc[i,'Heat'] = weather.loc[i,'Heat']\n",
    "\n",
    "        \n",
    "\n",
    "for i in range(weather.shape[0]):\n",
    "    if weather.loc[i,'Cool'] == 0:\n",
    "        if  weather.loc[i,'Tavg'] - 65 > 0:\n",
    "            weather.loc[i,'Cool'] = weather.loc[i,'Tavg'] - 65\n",
    "        else:\n",
    "            weather.loc[i,'Cool'] = 0 \n",
    "    else:\n",
    "        weather.loc[i,'Cool'] = weather.loc[i,'Cool']"
   ]
  },
  {
   "cell_type": "code",
   "execution_count": 21,
   "metadata": {},
   "outputs": [],
   "source": [
    "#changing traces of precipation total to 0.005 so that we can use the values to analyse the model\n",
    "weather['PrecipTotal'] = weather['PrecipTotal'].replace(np.nan,'0.00')\n",
    "weather['PrecipTotal'] = weather['PrecipTotal'].replace('  T','0.005')"
   ]
  },
  {
   "cell_type": "code",
   "execution_count": 22,
   "metadata": {},
   "outputs": [],
   "source": [
    "#change station pressure np.nan to mean\n",
    "weather['StnPressure'] = weather['StnPressure'].replace(np.nan,0)\n",
    "weather['StnPressure'] = weather['StnPressure'].astype(str).astype(float)\n",
    "weather['StnPressure'] = weather['StnPressure'].replace(0,weather['StnPressure'].mean())"
   ]
  },
  {
   "cell_type": "code",
   "execution_count": 23,
   "metadata": {},
   "outputs": [],
   "source": [
    "#change sealevel np.nan to mean\n",
    "weather['SeaLevel'] = weather['SeaLevel'].replace(np.nan,0)\n",
    "weather['SeaLevel'] = weather['SeaLevel'].astype(str).astype(float)\n",
    "weather['SeaLevel'] = weather['SeaLevel'].replace(0,weather['StnPressure'].mean())"
   ]
  },
  {
   "cell_type": "code",
   "execution_count": 24,
   "metadata": {
    "scrolled": true
   },
   "outputs": [],
   "source": [
    "columns = ['WetBulb',\n",
    "           'Heat',\n",
    "           'Cool',\n",
    "           'PrecipTotal',\n",
    "           'AvgSpeed',\n",
    "           'Sunrise',\n",
    "           'Sunset']\n",
    "\n",
    "for i in columns:\n",
    "    weather[i] = weather[i].astype(str).astype(float)"
   ]
  },
  {
   "cell_type": "code",
   "execution_count": 25,
   "metadata": {},
   "outputs": [
    {
     "name": "stdout",
     "output_type": "stream",
     "text": [
      "(2944, 38)\n",
      "\n",
      "   Station       Date  Tmax  Tmin  Tavg  Depart  DewPoint  WetBulb  Heat  \\\n",
      "0        1 2007-05-01    83    50  67.0    14.0        51     56.0   0.0   \n",
      "1        2 2007-05-01    84    52  68.0     0.0        51     57.0   0.0   \n",
      "2        1 2007-05-02    59    42  51.0    -3.0        42     47.0  14.0   \n",
      "3        2 2007-05-02    60    43  52.0     0.0        42     47.0  13.0   \n",
      "4        1 2007-05-03    66    46  56.0     2.0        40     48.0   9.0   \n",
      "\n",
      "   Cool  ...  TS  DZ BCFG  FG+  MIFG  FG  SQ  SN  VCFG  GR  \n",
      "0   2.0  ...   0   0    0    0     0   0   0   0     0   0  \n",
      "1   3.0  ...   0   0    0    0     0   0   0   0     0   0  \n",
      "2   0.0  ...   0   0    0    0     0   0   0   0     0   0  \n",
      "3   0.0  ...   0   0    0    0     0   0   0   0     0   0  \n",
      "4   0.0  ...   0   0    0    0     0   0   0   0     0   0  \n",
      "\n",
      "[5 rows x 38 columns]\n",
      "\n",
      "Station                 int64\n",
      "Date           datetime64[ns]\n",
      "Tmax                    int64\n",
      "Tmin                    int64\n",
      "Tavg                  float64\n",
      "Depart                float64\n",
      "DewPoint                int64\n",
      "WetBulb               float64\n",
      "Heat                  float64\n",
      "Cool                  float64\n",
      "Sunrise               float64\n",
      "Sunset                float64\n",
      "CodeSum                object\n",
      "PrecipTotal           float64\n",
      "StnPressure           float64\n",
      "SeaLevel              float64\n",
      "ResultSpeed           float64\n",
      "ResultDir               int64\n",
      "AvgSpeed              float64\n",
      "Year                    int64\n",
      "Month                   int64\n",
      "Day                     int64\n",
      "BR                      int64\n",
      "HZ                      int64\n",
      "RA                      int64\n",
      "TSRA                    int64\n",
      "VCTS                    int64\n",
      "FU                      int64\n",
      "TS                      int64\n",
      "DZ                      int64\n",
      "BCFG                    int64\n",
      "FG+                     int64\n",
      "MIFG                    int64\n",
      "FG                      int64\n",
      "SQ                      int64\n",
      "SN                      int64\n",
      "VCFG                    int64\n",
      "GR                      int64\n",
      "dtype: object\n",
      "\n",
      "Station           0\n",
      "Date              0\n",
      "Tmax              0\n",
      "Tmin              0\n",
      "Tavg              0\n",
      "Depart            0\n",
      "DewPoint          0\n",
      "WetBulb           0\n",
      "Heat              0\n",
      "Cool              0\n",
      "Sunrise        1472\n",
      "Sunset         1472\n",
      "CodeSum           0\n",
      "PrecipTotal       0\n",
      "StnPressure       0\n",
      "SeaLevel          0\n",
      "ResultSpeed       0\n",
      "ResultDir         0\n",
      "AvgSpeed          0\n",
      "Year              0\n",
      "Month             0\n",
      "Day               0\n",
      "BR                0\n",
      "HZ                0\n",
      "RA                0\n",
      "TSRA              0\n",
      "VCTS              0\n",
      "FU                0\n",
      "TS                0\n",
      "DZ                0\n",
      "BCFG              0\n",
      "FG+               0\n",
      "MIFG              0\n",
      "FG                0\n",
      "SQ                0\n",
      "SN                0\n",
      "VCFG              0\n",
      "GR                0\n",
      "dtype: int64\n",
      "\n",
      "           Station         Tmax         Tmin         Tavg       Depart  \\\n",
      "count  2944.000000  2944.000000  2944.000000  2944.000000  2944.000000   \n",
      "mean      1.500000    76.166101    57.810462    67.239470     0.977242   \n",
      "std       0.500085    11.461970    10.381939    10.539316     4.934346   \n",
      "min       1.000000    41.000000    29.000000    36.000000   -17.000000   \n",
      "25%       1.000000    69.000000    50.000000    60.000000     0.000000   \n",
      "50%       1.500000    78.000000    59.000000    69.000000     0.000000   \n",
      "75%       2.000000    85.000000    66.000000    75.000000     2.000000   \n",
      "max       2.000000   104.000000    83.000000    94.000000    23.000000   \n",
      "\n",
      "          DewPoint      WetBulb         Heat         Cool      Sunrise  ...  \\\n",
      "count  2944.000000  2944.000000  2944.000000  2944.000000  1472.000000  ...   \n",
      "mean     53.457880    59.298573     3.402853     5.642323   480.646739  ...   \n",
      "std      10.675181     9.286920     5.946934     6.107219    65.344729  ...   \n",
      "min      22.000000    32.000000     0.000000     0.000000   416.000000  ...   \n",
      "25%      46.000000    53.000000     0.000000     0.000000   424.750000  ...   \n",
      "50%      54.000000    61.000000     0.000000     4.000000   446.500000  ...   \n",
      "75%      62.000000    67.000000     5.000000    10.000000   531.250000  ...   \n",
      "max      75.000000    78.000000    29.000000    29.000000   623.000000  ...   \n",
      "\n",
      "                TS           DZ         BCFG          FG+         MIFG  \\\n",
      "count  2944.000000  2944.000000  2944.000000  2944.000000  2944.000000   \n",
      "mean      0.034647     0.045177     0.001698     0.009171     0.001019   \n",
      "std       0.182914     0.207727     0.041183     0.095342     0.031911   \n",
      "min       0.000000     0.000000     0.000000     0.000000     0.000000   \n",
      "25%       0.000000     0.000000     0.000000     0.000000     0.000000   \n",
      "50%       0.000000     0.000000     0.000000     0.000000     0.000000   \n",
      "75%       0.000000     0.000000     0.000000     0.000000     0.000000   \n",
      "max       1.000000     1.000000     1.000000     1.000000     1.000000   \n",
      "\n",
      "                FG           SQ           SN         VCFG          GR  \n",
      "count  2944.000000  2944.000000  2944.000000  2944.000000  2944.00000  \n",
      "mean      0.005435     0.001019     0.002038     0.001359     0.00034  \n",
      "std       0.073533     0.031911     0.045106     0.036842     0.01843  \n",
      "min       0.000000     0.000000     0.000000     0.000000     0.00000  \n",
      "25%       0.000000     0.000000     0.000000     0.000000     0.00000  \n",
      "50%       0.000000     0.000000     0.000000     0.000000     0.00000  \n",
      "75%       0.000000     0.000000     0.000000     0.000000     0.00000  \n",
      "max       1.000000     1.000000     1.000000     1.000000     1.00000  \n",
      "\n",
      "[8 rows x 36 columns]\n"
     ]
    }
   ],
   "source": [
    "explore(weather)"
   ]
  },
  {
   "cell_type": "code",
   "execution_count": 26,
   "metadata": {},
   "outputs": [
    {
     "data": {
      "text/plain": [
       "(2944, 38)"
      ]
     },
     "execution_count": 26,
     "metadata": {},
     "output_type": "execute_result"
    }
   ],
   "source": [
    "weather.shape"
   ]
  },
  {
   "cell_type": "code",
   "execution_count": 27,
   "metadata": {},
   "outputs": [],
   "source": [
    "weather_2 = weather.groupby('Date').agg({'Year':'max',\n",
    "                                         'Month':'max',\n",
    "                                         'Day':'max',\n",
    "                                         'Tmax':'mean', \n",
    "                                         'Tmin':'mean', \n",
    "                                         'Tavg':'mean', \n",
    "                                         'Depart': 'sum', \n",
    "                                         'DewPoint':'mean',\n",
    "                                         'WetBulb':'mean',\n",
    "                                         'Heat':'mean',\n",
    "                                         'Cool':'mean',\n",
    "                                         'Sunrise':'mean',\n",
    "                                         'Sunset':'mean',\n",
    "                                         'PrecipTotal':'mean',\n",
    "                                         'StnPressure':'mean',\n",
    "                                         'SeaLevel':'mean',\n",
    "                                         'ResultSpeed':'mean',\n",
    "                                         'ResultDir':'mean',\n",
    "                                         'AvgSpeed':'mean',\n",
    "                                         'BR':'max',\n",
    "                                         'HZ':'max',\n",
    "                                         'RA':'max',\n",
    "                                         'TSRA':'max', \n",
    "                                         'VCTS':'max', \n",
    "                                         'FU':'max',\n",
    "                                         'TS':'max',\n",
    "                                         'DZ':'max',\n",
    "                                         'BCFG':'max',\n",
    "                                         'FG+':'max',\n",
    "                                         'MIFG':'max',\n",
    "                                         'SQ':'max',\n",
    "                                         'SN':'max',\n",
    "                                         'VCFG':'max',\n",
    "                                         'GR':'max'})"
   ]
  },
  {
   "cell_type": "code",
   "execution_count": 28,
   "metadata": {},
   "outputs": [
    {
     "name": "stdout",
     "output_type": "stream",
     "text": [
      "(1472, 34)\n",
      "\n",
      "            Year  Month  Day  Tmax  Tmin  Tavg  Depart  DewPoint  WetBulb  \\\n",
      "Date                                                                        \n",
      "2007-05-01  2007      5    1  83.5  51.0  67.5    14.0      51.0     56.5   \n",
      "2007-05-02  2007      5    2  59.5  42.5  51.5    -3.0      42.0     47.0   \n",
      "2007-05-03  2007      5    3  66.5  47.0  57.0     2.0      40.0     49.0   \n",
      "2007-05-04  2007      5    4  72.0  50.0  61.0     4.0      41.5     50.0   \n",
      "2007-05-05  2007      5    5  66.0  53.5  60.0     5.0      38.5     49.5   \n",
      "\n",
      "            Heat  ...  FU  TS  DZ  BCFG  FG+  MIFG  SQ  SN  VCFG  GR  \n",
      "Date              ...                                                 \n",
      "2007-05-01   0.0  ...   0   0   0     0    0     0   0   0     0   0  \n",
      "2007-05-02  13.5  ...   0   0   0     0    0     0   0   0     0   0  \n",
      "2007-05-03   8.0  ...   0   0   0     0    0     0   0   0     0   0  \n",
      "2007-05-04   4.0  ...   0   0   0     0    0     0   0   0     0   0  \n",
      "2007-05-05   5.0  ...   0   0   0     0    0     0   0   0     0   0  \n",
      "\n",
      "[5 rows x 34 columns]\n",
      "\n",
      "Year             int64\n",
      "Month            int64\n",
      "Day              int64\n",
      "Tmax           float64\n",
      "Tmin           float64\n",
      "Tavg           float64\n",
      "Depart         float64\n",
      "DewPoint       float64\n",
      "WetBulb        float64\n",
      "Heat           float64\n",
      "Cool           float64\n",
      "Sunrise        float64\n",
      "Sunset         float64\n",
      "PrecipTotal    float64\n",
      "StnPressure    float64\n",
      "SeaLevel       float64\n",
      "ResultSpeed    float64\n",
      "ResultDir      float64\n",
      "AvgSpeed       float64\n",
      "BR               int64\n",
      "HZ               int64\n",
      "RA               int64\n",
      "TSRA             int64\n",
      "VCTS             int64\n",
      "FU               int64\n",
      "TS               int64\n",
      "DZ               int64\n",
      "BCFG             int64\n",
      "FG+              int64\n",
      "MIFG             int64\n",
      "SQ               int64\n",
      "SN               int64\n",
      "VCFG             int64\n",
      "GR               int64\n",
      "dtype: object\n",
      "\n",
      "Year           0\n",
      "Month          0\n",
      "Day            0\n",
      "Tmax           0\n",
      "Tmin           0\n",
      "Tavg           0\n",
      "Depart         0\n",
      "DewPoint       0\n",
      "WetBulb        0\n",
      "Heat           0\n",
      "Cool           0\n",
      "Sunrise        0\n",
      "Sunset         0\n",
      "PrecipTotal    0\n",
      "StnPressure    0\n",
      "SeaLevel       0\n",
      "ResultSpeed    0\n",
      "ResultDir      0\n",
      "AvgSpeed       0\n",
      "BR             0\n",
      "HZ             0\n",
      "RA             0\n",
      "TSRA           0\n",
      "VCTS           0\n",
      "FU             0\n",
      "TS             0\n",
      "DZ             0\n",
      "BCFG           0\n",
      "FG+            0\n",
      "MIFG           0\n",
      "SQ             0\n",
      "SN             0\n",
      "VCFG           0\n",
      "GR             0\n",
      "dtype: int64\n",
      "\n",
      "              Year        Month          Day         Tmax         Tmin  \\\n",
      "count  1472.000000  1472.000000  1472.000000  1472.000000  1472.000000   \n",
      "mean   2010.500000     7.500000    15.836957    76.166101    57.810462   \n",
      "std       2.292067     1.710526     8.857236    11.424705    10.270115   \n",
      "min    2007.000000     5.000000     1.000000    41.500000    29.000000   \n",
      "25%    2008.750000     6.000000     8.000000    68.500000    50.500000   \n",
      "50%    2010.500000     7.500000    16.000000    78.500000    59.500000   \n",
      "75%    2012.250000     9.000000    23.250000    84.500000    65.500000   \n",
      "max    2014.000000    10.000000    31.000000   103.500000    82.500000   \n",
      "\n",
      "             Tavg       Depart     DewPoint      WetBulb         Heat  ...  \\\n",
      "count  1472.00000  1472.000000  1472.000000  1472.000000  1472.000000  ...   \n",
      "mean     67.23947     1.954484    53.457880    59.298573     3.402853  ...   \n",
      "std      10.49547     6.841110    10.649199     9.262268     5.920106  ...   \n",
      "min      36.00000   -17.000000    22.500000    32.500000     0.000000  ...   \n",
      "25%      60.50000    -3.000000    46.000000    53.000000     0.000000  ...   \n",
      "50%      69.00000     2.000000    54.500000    60.500000     0.000000  ...   \n",
      "75%      75.50000     7.000000    61.500000    66.500000     4.500000  ...   \n",
      "max      93.50000    23.000000    74.500000    77.500000    29.000000  ...   \n",
      "\n",
      "                FU           TS           DZ         BCFG          FG+  \\\n",
      "count  1472.000000  1472.000000  1472.000000  1472.000000  1472.000000   \n",
      "mean      0.004076     0.057065     0.065897     0.002717     0.014266   \n",
      "std       0.063736     0.232046     0.248186     0.052075     0.118627   \n",
      "min       0.000000     0.000000     0.000000     0.000000     0.000000   \n",
      "25%       0.000000     0.000000     0.000000     0.000000     0.000000   \n",
      "50%       0.000000     0.000000     0.000000     0.000000     0.000000   \n",
      "75%       0.000000     0.000000     0.000000     0.000000     0.000000   \n",
      "max       1.000000     1.000000     1.000000     1.000000     1.000000   \n",
      "\n",
      "              MIFG           SQ           SN         VCFG           GR  \n",
      "count  1472.000000  1472.000000  1472.000000  1472.000000  1472.000000  \n",
      "mean      0.002038     0.002038     0.003397     0.002717     0.000679  \n",
      "std       0.045114     0.045114     0.058202     0.052075     0.026064  \n",
      "min       0.000000     0.000000     0.000000     0.000000     0.000000  \n",
      "25%       0.000000     0.000000     0.000000     0.000000     0.000000  \n",
      "50%       0.000000     0.000000     0.000000     0.000000     0.000000  \n",
      "75%       0.000000     0.000000     0.000000     0.000000     0.000000  \n",
      "max       1.000000     1.000000     1.000000     1.000000     1.000000  \n",
      "\n",
      "[8 rows x 34 columns]\n"
     ]
    }
   ],
   "source": [
    "explore(weather_2)"
   ]
  },
  {
   "cell_type": "code",
   "execution_count": 29,
   "metadata": {},
   "outputs": [],
   "source": [
    "columns = ['Sunrise',\n",
    "           'Sunset']\n",
    "\n",
    "for i in columns:\n",
    "    weather_2[i] = weather_2[i].astype(float).astype(int)\n",
    "    weather_2[i] = weather_2[i].astype(int).astype(str)"
   ]
  },
  {
   "cell_type": "code",
   "execution_count": 30,
   "metadata": {},
   "outputs": [],
   "source": [
    "#changing Sunrise and Sunset to type - time\n",
    "weather_2['Sunrise'] = str(0) + weather_2['Sunrise']\n",
    "weather_2['Sunrise'] = weather_2['Sunrise'].str[0:2] + \":\" + weather_2['Sunrise'].str[2:4] + \":00\"\n",
    "\n",
    "weather_2['Sunset'] = weather_2['Sunset'].str[0:2] + \":\" + weather_2['Sunset'].str[2:4] + \":00\"\n",
    "\n",
    "\n",
    "weather_2['Sunrise'] = pd.to_timedelta(weather_2['Sunrise'])\n",
    "weather_2['Sunset'] = pd.to_timedelta(weather_2['Sunset'])"
   ]
  },
  {
   "cell_type": "code",
   "execution_count": 31,
   "metadata": {},
   "outputs": [],
   "source": [
    "weather_2 = weather_2.reset_index()"
   ]
  },
  {
   "cell_type": "code",
   "execution_count": 32,
   "metadata": {},
   "outputs": [],
   "source": [
    "weather_2.to_csv(\"../assets/weather_2.csv\", index=False) "
   ]
  },
  {
   "cell_type": "markdown",
   "metadata": {},
   "source": [
    "## Conclusion Weather:\n",
    "weather.shape = (1472, 36) <br>\n",
    "\n",
    "change the CodeSum to dummies"
   ]
  },
  {
   "cell_type": "markdown",
   "metadata": {},
   "source": [
    "# Next, to explore train and test sets\n",
    "\n",
    "Will merge both data sets, do data cleaning on both.\n",
    "Then seperate them indivdually again"
   ]
  },
  {
   "cell_type": "code",
   "execution_count": 33,
   "metadata": {},
   "outputs": [],
   "source": [
    "train = pd.read_csv('../assets/train.csv')\n",
    "test = pd.read_csv('../assets/test.csv')"
   ]
  },
  {
   "cell_type": "code",
   "execution_count": 34,
   "metadata": {
    "scrolled": false
   },
   "outputs": [
    {
     "data": {
      "text/plain": [
       "Index(['Date', 'Address', 'Species', 'Block', 'Street', 'Trap',\n",
       "       'AddressNumberAndStreet', 'Latitude', 'Longitude', 'AddressAccuracy',\n",
       "       'NumMosquitos', 'WnvPresent'],\n",
       "      dtype='object')"
      ]
     },
     "execution_count": 34,
     "metadata": {},
     "output_type": "execute_result"
    }
   ],
   "source": [
    "train.columns"
   ]
  },
  {
   "cell_type": "code",
   "execution_count": 35,
   "metadata": {},
   "outputs": [
    {
     "data": {
      "text/plain": [
       "Index(['Id', 'Date', 'Address', 'Species', 'Block', 'Street', 'Trap',\n",
       "       'AddressNumberAndStreet', 'Latitude', 'Longitude', 'AddressAccuracy'],\n",
       "      dtype='object')"
      ]
     },
     "execution_count": 35,
     "metadata": {},
     "output_type": "execute_result"
    }
   ],
   "source": [
    "test.columns"
   ]
  },
  {
   "cell_type": "code",
   "execution_count": 36,
   "metadata": {},
   "outputs": [
    {
     "name": "stdout",
     "output_type": "stream",
     "text": [
      "(10506, 12)\n",
      "(116293, 11)\n"
     ]
    }
   ],
   "source": [
    "print(train.shape)\n",
    "print(test.shape)"
   ]
  },
  {
   "cell_type": "code",
   "execution_count": 37,
   "metadata": {},
   "outputs": [],
   "source": [
    "test = test.drop(['Id'], axis=1)"
   ]
  },
  {
   "cell_type": "code",
   "execution_count": 41,
   "metadata": {},
   "outputs": [],
   "source": [
    "train['Date'] = pd.to_datetime(train['Date'])\n",
    "train['Year'] = (train['Date'].dt.strftime('%Y')).astype(int)\n",
    "train['Month'] = (train['Date'].dt.month.astype(int))\n",
    "train['Week'] = (train['Date'].dt.strftime('%W')).astype(int)\n",
    "train['Day'] = (train['Date'].dt.day.astype(int))"
   ]
  },
  {
   "cell_type": "code",
   "execution_count": 44,
   "metadata": {
    "scrolled": true
   },
   "outputs": [
    {
     "data": {
      "text/plain": [
       "[2007, 2009, 2011, 2013]"
      ]
     },
     "execution_count": 44,
     "metadata": {},
     "output_type": "execute_result"
    }
   ],
   "source": [
    "train_year = list(train['Year'].unique())\n",
    "train_year"
   ]
  },
  {
   "cell_type": "code",
   "execution_count": 47,
   "metadata": {},
   "outputs": [
    {
     "data": {
      "image/png": "[encoded data removed]",
      "text/plain": [
       "<Figure size 864x576 with 4 Axes>"
      ]
     },
     "metadata": {
      "needs_background": "light"
     },
     "output_type": "display_data"
    }
   ],
   "source": [
    "#no. of mosquitoes by year\n",
    "#generally more cases in July and Aug- Higher temperatures in summer could lead to more mosquitoes\n",
    "fig, ax = plt.subplots(nrows=2, ncols=2, figsize=(12,8),sharey=True)\n",
    "ax = ax.ravel()\n",
    "plt.suptitle('Number of mosquitoes by year', fontsize=18, y=1.05)\n",
    "for i, y in enumerate(train_year):\n",
    "    train[train['Year']==y].groupby(['Year', 'Month']).NumMosquitos.sum().plot(kind='bar', ax=ax[i],color='darkred')\n",
    "    ax[i].set_title(y)\n",
    "plt.tight_layout()"
   ]
  },
  {
   "cell_type": "code",
   "execution_count": 48,
   "metadata": {},
   "outputs": [
    {
     "data": {
      "image/png": "[encoded data removed]",
      "text/plain": [
       "<Figure size 864x576 with 4 Axes>"
      ]
     },
     "metadata": {
      "needs_background": "light"
     },
     "output_type": "display_data"
    }
   ],
   "source": [
    "#different mosquitoes each year\n",
    "#Higher populations of certain species \n",
    "fig, ax = plt.subplots(nrows=2, ncols=2, figsize=(12,8),sharey=True)\n",
    "ax = ax.ravel()\n",
    "plt.suptitle('Different Species of mosquitoes by year', fontsize=18, y=1.05)\n",
    "for i, y in enumerate(train_year):\n",
    "    train[train['Year']==y].groupby(['Species']).NumMosquitos.sum().plot(kind='bar', ax=ax[i],color='darkred')\n",
    "    ax[i].set_title(y)\n",
    "plt.tight_layout()"
   ]
  },
  {
   "cell_type": "code",
   "execution_count": 49,
   "metadata": {},
   "outputs": [
    {
     "data": {
      "image/png": "[encoded data removed]",
      "text/plain": [
       "<Figure size 864x576 with 4 Axes>"
      ]
     },
     "metadata": {
      "needs_background": "light"
     },
     "output_type": "display_data"
    }
   ],
   "source": [
    "#number of mosquitoes by year and month\n",
    "fig, ax = plt.subplots(nrows=2, ncols=2, figsize=(12,8),sharey=True)\n",
    "ax = ax.ravel()\n",
    "plt.suptitle('Mosquitoes caught by year and month', fontsize=18, y=1.05)\n",
    "for i, y in enumerate(train_year):\n",
    "    train[train['Year']==y].groupby(['Year','Month','Species']).NumMosquitos.sum().plot(kind='barh', ax=ax[i],color='darkred')\n",
    "    ax[i].set_title(y)\n",
    "plt.tight_layout()"
   ]
  },
  {
   "cell_type": "code",
   "execution_count": 51,
   "metadata": {},
   "outputs": [
    {
     "data": {
      "image/png": "[encoded data removed]",
      "text/plain": [
       "<Figure size 864x576 with 4 Axes>"
      ]
     },
     "metadata": {
      "needs_background": "light"
     },
     "output_type": "display_data"
    }
   ],
   "source": [
    "#positive WNV by year and month\n",
    "#similarly, more positive cases during summer period\n",
    "fig, ax = plt.subplots(nrows=2, ncols=2, figsize=(12,8),sharey=True)\n",
    "ax = ax.ravel()\n",
    "plt.suptitle('Positive Cases by year', fontsize=18, y=1.05)\n",
    "for i, y in enumerate(train_year):\n",
    "    train[train['Year']==y].groupby(['Year','Month']).WnvPresent.sum().plot(kind='bar', ax=ax[i],color='darkred')\n",
    "    ax[i].set_title(y)\n",
    "plt.tight_layout()"
   ]
  },
  {
   "cell_type": "code",
   "execution_count": 52,
   "metadata": {},
   "outputs": [
    {
     "data": {
      "image/png": "[encoded data removed]",
      "text/plain": [
       "<Figure size 864x576 with 4 Axes>"
      ]
     },
     "metadata": {
      "needs_background": "light"
     },
     "output_type": "display_data"
    }
   ],
   "source": [
    "#positive WNV by by species\n",
    "fig, ax = plt.subplots(nrows=2, ncols=2, figsize=(12,8),sharey=True)\n",
    "ax = ax.ravel()\n",
    "plt.suptitle('Which mosquito species is a vector?', fontsize=18, y=1.05)\n",
    "for i, y in enumerate(train_year):\n",
    "    train[train['Year']==y].groupby(['Species']).WnvPresent.sum().plot(kind='bar', ax=ax[i],color='darkred')\n",
    "    ax[i].set_title(y)\n",
    "plt.tight_layout()"
   ]
  },
  {
   "cell_type": "code",
   "execution_count": 53,
   "metadata": {},
   "outputs": [
    {
     "data": {
      "image/png": "[encoded data removed]",
      "text/plain": [
       "<Figure size 864x576 with 4 Axes>"
      ]
     },
     "metadata": {
      "needs_background": "light"
     },
     "output_type": "display_data"
    }
   ],
   "source": [
    "#Positive WNV cases by year and month\n",
    "fig, ax = plt.subplots(nrows=2, ncols=2, figsize=(12,8),sharey=True)\n",
    "ax = ax.ravel()\n",
    "plt.suptitle('Positive WNV cases by year and month', fontsize=18, y=1.05)\n",
    "for i, y in enumerate(train_year):\n",
    "    train[train['Year']==y].groupby(['Year','Month','Species']).WnvPresent.sum().plot(kind='barh', ax=ax[i],color='darkred')\n",
    "    ax[i].set_title(y)\n",
    "plt.tight_layout()"
   ]
  },
  {
   "cell_type": "code",
   "execution_count": 55,
   "metadata": {},
   "outputs": [
    {
     "data": {
      "text/plain": [
       "<matplotlib.axes._subplots.AxesSubplot at 0x1a19f0b9e8>"
      ]
     },
     "execution_count": 55,
     "metadata": {},
     "output_type": "execute_result"
    },
    {
     "data": {
      "image/png": "[encoded data removed]",
      "text/plain": [
       "<Figure size 864x432 with 1 Axes>"
      ]
     },
     "metadata": {
      "needs_background": "light"
     },
     "output_type": "display_data"
    }
   ],
   "source": [
    "#countplot\n",
    "plt.figure(figsize=(12,6))\n",
    "sns.countplot(train.Species)"
   ]
  },
  {
   "cell_type": "code",
   "execution_count": 56,
   "metadata": {},
   "outputs": [
    {
     "data": {
      "text/plain": [
       "<matplotlib.axes._subplots.AxesSubplot at 0x1a22844860>"
      ]
     },
     "execution_count": 56,
     "metadata": {},
     "output_type": "execute_result"
    },
    {
     "data": {
      "image/png": "[encoded data removed]",
      "text/plain": [
       "<Figure size 432x288 with 1 Axes>"
      ]
     },
     "metadata": {
      "needs_background": "light"
     },
     "output_type": "display_data"
    }
   ],
   "source": [
    "#only these 3 species are vectors\n",
    "train.groupby('Species').WnvPresent.sum().plot(kind='bar',color='darkred')"
   ]
  },
  {
   "cell_type": "code",
   "execution_count": 57,
   "metadata": {},
   "outputs": [
    {
     "data": {
      "text/plain": [
       "<matplotlib.axes._subplots.AxesSubplot at 0x1a236d76a0>"
      ]
     },
     "execution_count": 57,
     "metadata": {},
     "output_type": "execute_result"
    },
    {
     "data": {
      "image/png": "[encoded data removed]",
      "text/plain": [
       "<Figure size 432x288 with 1 Axes>"
      ]
     },
     "metadata": {
      "needs_background": "light"
     },
     "output_type": "display_data"
    }
   ],
   "source": [
    "#more mosqutoes means more positive wnv\n",
    "sns.scatterplot(x=train.groupby(['Year', 'Month']).NumMosquitos.sum(),\n",
    "                y= train.groupby(['Year', 'Month']).WnvPresent.sum(),\n",
    "               data=train)"
   ]
  },
  {
   "cell_type": "code",
   "execution_count": null,
   "metadata": {},
   "outputs": [],
   "source": [
    "combined = pd.merge(train,test,how='outer')"
   ]
  },
  {
   "cell_type": "code",
   "execution_count": null,
   "metadata": {
    "scrolled": true
   },
   "outputs": [],
   "source": [
    "explore(combined)"
   ]
  },
  {
   "cell_type": "code",
   "execution_count": null,
   "metadata": {},
   "outputs": [],
   "source": [
    "#changing Date to type - date\n",
    "combined['Date'] = pd.to_datetime(combined['Date'])"
   ]
  },
  {
   "cell_type": "code",
   "execution_count": null,
   "metadata": {},
   "outputs": [],
   "source": [
    "#taking out the address out of the data frame and store it in address in case we need it\n",
    "Address = pd.DataFrame([combined.Address, combined.Block, combined.Street, combined.AddressNumberAndStreet, combined.AddressAccuracy])\n",
    "Address = Address.T\n",
    "\n",
    "#dropping duplicates\n",
    "Address = Address.drop_duplicates()\n",
    "print(Address.shape)"
   ]
  },
  {
   "cell_type": "code",
   "execution_count": null,
   "metadata": {},
   "outputs": [],
   "source": [
    "combined = combined.drop(['Address','Block','Street','AddressNumberAndStreet','AddressAccuracy'],axis=1)"
   ]
  },
  {
   "cell_type": "code",
   "execution_count": null,
   "metadata": {},
   "outputs": [],
   "source": [
    "combined.head()"
   ]
  },
  {
   "cell_type": "code",
   "execution_count": null,
   "metadata": {},
   "outputs": [],
   "source": [
    "#change Species into dummy variables\n",
    "column = ['Species']\n",
    "\n",
    "combined = pd.get_dummies(data = combined, prefix=column, columns = column, drop_first=True)"
   ]
  },
  {
   "cell_type": "code",
   "execution_count": null,
   "metadata": {},
   "outputs": [],
   "source": [
    "combined.head(2)"
   ]
  },
  {
   "cell_type": "code",
   "execution_count": null,
   "metadata": {},
   "outputs": [],
   "source": [
    "#do a groupby to combine the days where there are multiple trap rows\n",
    "#ie those traps that has more than 50 mosquitos\n",
    "\n",
    "combined_2 = combined.groupby(['Date','Trap']).agg({'Latitude':'max',\n",
    "                                                    'Longitude':'max',\n",
    "                                                    'Species_CULEX PIPIENS':'max',\n",
    "                                                    'Species_CULEX PIPIENS/RESTUANS':'max',\n",
    "                                                    'Species_CULEX RESTUANS':'max',\n",
    "                                                    'Species_CULEX SALINARIUS':'max',\n",
    "                                                    'Species_CULEX TARSALIS':'max',\n",
    "                                                    'Species_CULEX TERRITANS':'max',\n",
    "                                                    'Species_UNSPECIFIED CULEX':'max',\n",
    "                                                    'NumMosquitos':'sum',\n",
    "                                                    'WnvPresent':'max'})"
   ]
  },
  {
   "cell_type": "code",
   "execution_count": null,
   "metadata": {},
   "outputs": [],
   "source": [
    "combined_2.reset_index(inplace=True)"
   ]
  },
  {
   "cell_type": "code",
   "execution_count": null,
   "metadata": {},
   "outputs": [],
   "source": [
    "combined_2.shape"
   ]
  },
  {
   "cell_type": "code",
   "execution_count": null,
   "metadata": {},
   "outputs": [],
   "source": [
    "#Once we have combined all traps, we can use dummy variables on the Trap column\n",
    "column = ['Trap']\n",
    "combined_2 = pd.get_dummies(data = combined_2, prefix=column, columns = column, drop_first=True)"
   ]
  },
  {
   "cell_type": "code",
   "execution_count": null,
   "metadata": {
    "scrolled": true
   },
   "outputs": [],
   "source": [
    "combined_2.head()"
   ]
  },
  {
   "cell_type": "code",
   "execution_count": null,
   "metadata": {},
   "outputs": [],
   "source": [
    "combined_2.shape"
   ]
  },
  {
   "cell_type": "code",
   "execution_count": null,
   "metadata": {},
   "outputs": [],
   "source": [
    "combined_2.to_csv(\"../assets/combined_2.csv\", index=False) "
   ]
  },
  {
   "cell_type": "markdown",
   "metadata": {},
   "source": [
    "## Now to merge with weather"
   ]
  },
  {
   "cell_type": "code",
   "execution_count": null,
   "metadata": {},
   "outputs": [],
   "source": [
    "full = pd.merge(combined_2,weather_2, on='Date')"
   ]
  },
  {
   "cell_type": "code",
   "execution_count": null,
   "metadata": {},
   "outputs": [],
   "source": [
    "pd.options.display.max_columns = None\n",
    "full.head()"
   ]
  },
  {
   "cell_type": "code",
   "execution_count": null,
   "metadata": {},
   "outputs": [],
   "source": [
    "full.shape"
   ]
  },
  {
   "cell_type": "code",
   "execution_count": null,
   "metadata": {},
   "outputs": [],
   "source": [
    "full.to_csv(\"../assets/full.csv\", index=False) "
   ]
  },
  {
   "cell_type": "markdown",
   "metadata": {},
   "source": [
    "### train/test conclusion: \n",
    "train.shape = (10506, 12) <br>\n",
    "test.shape = (116293, 11) <br>\n",
    " \n",
    "shorten to <br>\n",
    "combined.shape = (18771, 161) <br>\n",
    "\n",
    "combined with weather <br>\n",
    "full.shape = (18771,194)<br>\n",
    "\n",
    "\n",
    "Condensed the total Mosquitoes collected in each trap <br>\n",
    "Change Species and Trap to dummies <br>\n",
    "Stored Addresses in another df <br>\n",
    "After dropping duplicates, only 151 unique addresses left <br>\n",
    "Removed all addresses except Latitude and Longitude <br>\n",
    "Changed Date to date format"
   ]
  },
  {
   "cell_type": "code",
   "execution_count": null,
   "metadata": {},
   "outputs": [],
   "source": [
    "train_2 = full.loc[full['Year'].isin([2007,2009,2011,2013])]\n",
    "test_2 = full.loc[full['Year'].isin([2008,2010,2012,2014])]"
   ]
  },
  {
   "cell_type": "code",
   "execution_count": null,
   "metadata": {},
   "outputs": [],
   "source": [
    "train_2 = train_2.reset_index()\n",
    "test_2 = test_2.reset_index()"
   ]
  },
  {
   "cell_type": "code",
   "execution_count": null,
   "metadata": {
    "scrolled": true
   },
   "outputs": [],
   "source": [
    "train_2 = train_2.drop(['index','Year'], axis = 1)\n",
    "test_2 = test_2.drop(['index','Year'], axis = 1)"
   ]
  },
  {
   "cell_type": "code",
   "execution_count": null,
   "metadata": {},
   "outputs": [],
   "source": [
    "train_2.to_csv(\"../assets/train_2.csv\", index=False) \n",
    "test_2.to_csv(\"../assets/test_2.csv\", index=False) "
   ]
  },
  {
   "cell_type": "code",
   "execution_count": 73,
   "metadata": {},
   "outputs": [],
   "source": [
    "map_plot = gpd.read_file('../assets/Chicago Boundaries/geo_export_d41dc94d-31ce-478c-902c-864695385885.shp')"
   ]
  },
  {
   "cell_type": "code",
   "execution_count": 74,
   "metadata": {},
   "outputs": [
    {
     "data": {
      "text/html": [
       "<div>\n",
       "<style scoped>\n",
       "    .dataframe tbody tr th:only-of-type {\n",
       "        vertical-align: middle;\n",
       "    }\n",
       "\n",
       "    .dataframe tbody tr th {\n",
       "        vertical-align: top;\n",
       "    }\n",
       "\n",
       "    .dataframe thead th {\n",
       "        text-align: right;\n",
       "    }\n",
       "</style>\n",
       "<table border=\"1\" class=\"dataframe\">\n",
       "  <thead>\n",
       "    <tr style=\"text-align: right;\">\n",
       "      <th></th>\n",
       "      <th>Date</th>\n",
       "      <th>Time</th>\n",
       "      <th>Latitude</th>\n",
       "      <th>Longitude</th>\n",
       "      <th>geometry</th>\n",
       "    </tr>\n",
       "  </thead>\n",
       "  <tbody>\n",
       "    <tr>\n",
       "      <th>0</th>\n",
       "      <td>2011-08-29</td>\n",
       "      <td>06:56:58</td>\n",
       "      <td>42.391623</td>\n",
       "      <td>-88.089163</td>\n",
       "      <td>POINT (-88.0891633333333 42.3916233333333)</td>\n",
       "    </tr>\n",
       "    <tr>\n",
       "      <th>1</th>\n",
       "      <td>2011-08-29</td>\n",
       "      <td>06:57:08</td>\n",
       "      <td>42.391348</td>\n",
       "      <td>-88.089163</td>\n",
       "      <td>POINT (-88.0891633333333 42.3913483333333)</td>\n",
       "    </tr>\n",
       "    <tr>\n",
       "      <th>2</th>\n",
       "      <td>2011-08-29</td>\n",
       "      <td>06:57:18</td>\n",
       "      <td>42.391022</td>\n",
       "      <td>-88.089157</td>\n",
       "      <td>POINT (-88.0891566666667 42.3910216666667)</td>\n",
       "    </tr>\n",
       "    <tr>\n",
       "      <th>3</th>\n",
       "      <td>2011-08-29</td>\n",
       "      <td>06:57:28</td>\n",
       "      <td>42.390637</td>\n",
       "      <td>-88.089158</td>\n",
       "      <td>POINT (-88.0891583333333 42.3906366666667)</td>\n",
       "    </tr>\n",
       "    <tr>\n",
       "      <th>4</th>\n",
       "      <td>2011-08-29</td>\n",
       "      <td>06:57:38</td>\n",
       "      <td>42.390410</td>\n",
       "      <td>-88.088858</td>\n",
       "      <td>POINT (-88.08885833333331 42.39041)</td>\n",
       "    </tr>\n",
       "  </tbody>\n",
       "</table>\n",
       "</div>"
      ],
      "text/plain": [
       "        Date     Time   Latitude  Longitude  \\\n",
       "0 2011-08-29 06:56:58  42.391623 -88.089163   \n",
       "1 2011-08-29 06:57:08  42.391348 -88.089163   \n",
       "2 2011-08-29 06:57:18  42.391022 -88.089157   \n",
       "3 2011-08-29 06:57:28  42.390637 -88.089158   \n",
       "4 2011-08-29 06:57:38  42.390410 -88.088858   \n",
       "\n",
       "                                     geometry  \n",
       "0  POINT (-88.0891633333333 42.3916233333333)  \n",
       "1  POINT (-88.0891633333333 42.3913483333333)  \n",
       "2  POINT (-88.0891566666667 42.3910216666667)  \n",
       "3  POINT (-88.0891583333333 42.3906366666667)  \n",
       "4         POINT (-88.08885833333331 42.39041)  "
      ]
     },
     "execution_count": 74,
     "metadata": {},
     "output_type": "execute_result"
    }
   ],
   "source": [
    "crs = {'init': 'epsg:4326'}\n",
    "\n",
    "geometry_spray = [Point(xy) for xy in zip(spray['Longitude'], spray['Latitude'])]\n",
    "geo_spray_df = gpd.GeoDataFrame(spray,\n",
    "                      crs=crs,\n",
    "                      geometry=geometry_spray)\n",
    "geo_spray_df.head()"
   ]
  },
  {
   "cell_type": "code",
   "execution_count": 75,
   "metadata": {},
   "outputs": [
    {
     "data": {
      "text/html": [
       "<div>\n",
       "<style scoped>\n",
       "    .dataframe tbody tr th:only-of-type {\n",
       "        vertical-align: middle;\n",
       "    }\n",
       "\n",
       "    .dataframe tbody tr th {\n",
       "        vertical-align: top;\n",
       "    }\n",
       "\n",
       "    .dataframe thead th {\n",
       "        text-align: right;\n",
       "    }\n",
       "</style>\n",
       "<table border=\"1\" class=\"dataframe\">\n",
       "  <thead>\n",
       "    <tr style=\"text-align: right;\">\n",
       "      <th></th>\n",
       "      <th>Date</th>\n",
       "      <th>Address</th>\n",
       "      <th>Species</th>\n",
       "      <th>Block</th>\n",
       "      <th>Street</th>\n",
       "      <th>Trap</th>\n",
       "      <th>AddressNumberAndStreet</th>\n",
       "      <th>Latitude</th>\n",
       "      <th>Longitude</th>\n",
       "      <th>AddressAccuracy</th>\n",
       "      <th>NumMosquitos</th>\n",
       "      <th>WnvPresent</th>\n",
       "      <th>Year</th>\n",
       "      <th>Month</th>\n",
       "      <th>Week</th>\n",
       "      <th>Day</th>\n",
       "      <th>geometry</th>\n",
       "    </tr>\n",
       "  </thead>\n",
       "  <tbody>\n",
       "    <tr>\n",
       "      <th>0</th>\n",
       "      <td>2007-05-29</td>\n",
       "      <td>4100 North Oak Park Avenue, Chicago, IL 60634,...</td>\n",
       "      <td>CULEX PIPIENS/RESTUANS</td>\n",
       "      <td>41</td>\n",
       "      <td>N OAK PARK AVE</td>\n",
       "      <td>T002</td>\n",
       "      <td>4100  N OAK PARK AVE, Chicago, IL</td>\n",
       "      <td>41.95469</td>\n",
       "      <td>-87.800991</td>\n",
       "      <td>9</td>\n",
       "      <td>1</td>\n",
       "      <td>0</td>\n",
       "      <td>2007</td>\n",
       "      <td>5</td>\n",
       "      <td>22</td>\n",
       "      <td>29</td>\n",
       "      <td>POINT (-87.800991 41.95469)</td>\n",
       "    </tr>\n",
       "    <tr>\n",
       "      <th>1</th>\n",
       "      <td>2007-05-29</td>\n",
       "      <td>4100 North Oak Park Avenue, Chicago, IL 60634,...</td>\n",
       "      <td>CULEX RESTUANS</td>\n",
       "      <td>41</td>\n",
       "      <td>N OAK PARK AVE</td>\n",
       "      <td>T002</td>\n",
       "      <td>4100  N OAK PARK AVE, Chicago, IL</td>\n",
       "      <td>41.95469</td>\n",
       "      <td>-87.800991</td>\n",
       "      <td>9</td>\n",
       "      <td>1</td>\n",
       "      <td>0</td>\n",
       "      <td>2007</td>\n",
       "      <td>5</td>\n",
       "      <td>22</td>\n",
       "      <td>29</td>\n",
       "      <td>POINT (-87.800991 41.95469)</td>\n",
       "    </tr>\n",
       "  </tbody>\n",
       "</table>\n",
       "</div>"
      ],
      "text/plain": [
       "        Date                                            Address  \\\n",
       "0 2007-05-29  4100 North Oak Park Avenue, Chicago, IL 60634,...   \n",
       "1 2007-05-29  4100 North Oak Park Avenue, Chicago, IL 60634,...   \n",
       "\n",
       "                  Species  Block           Street  Trap  \\\n",
       "0  CULEX PIPIENS/RESTUANS     41   N OAK PARK AVE  T002   \n",
       "1          CULEX RESTUANS     41   N OAK PARK AVE  T002   \n",
       "\n",
       "              AddressNumberAndStreet  Latitude  Longitude  AddressAccuracy  \\\n",
       "0  4100  N OAK PARK AVE, Chicago, IL  41.95469 -87.800991                9   \n",
       "1  4100  N OAK PARK AVE, Chicago, IL  41.95469 -87.800991                9   \n",
       "\n",
       "   NumMosquitos  WnvPresent  Year  Month  Week  Day  \\\n",
       "0             1           0  2007      5    22   29   \n",
       "1             1           0  2007      5    22   29   \n",
       "\n",
       "                      geometry  \n",
       "0  POINT (-87.800991 41.95469)  \n",
       "1  POINT (-87.800991 41.95469)  "
      ]
     },
     "execution_count": 75,
     "metadata": {},
     "output_type": "execute_result"
    }
   ],
   "source": [
    "geometry_train = [Point(xy) for xy in zip(train['Longitude'], train['Latitude'])]\n",
    "\n",
    "geo_df = gpd.GeoDataFrame(train,\n",
    "                      crs=crs,\n",
    "                      geometry=geometry_train)\n",
    "geo_df.head(2)"
   ]
  },
  {
   "cell_type": "code",
   "execution_count": 76,
   "metadata": {},
   "outputs": [
    {
     "data": {
      "text/plain": [
       "<matplotlib.legend.Legend at 0x1a22ad3b38>"
      ]
     },
     "execution_count": 76,
     "metadata": {},
     "output_type": "execute_result"
    },
    {
     "data": {
      "image/png": "[encoded data removed]",
      "text/plain": [
       "<Figure size 1080x1080 with 1 Axes>"
      ]
     },
     "metadata": {
      "needs_background": "light"
     },
     "output_type": "display_data"
    }
   ],
   "source": [
    "#no direct grouping or pattern at this moment\n",
    "fig, ax = plt.subplots(figsize=(15,15))\n",
    "map_plot.plot(ax=ax, alpha=0.4, color='grey')\n",
    "geo_df[geo_df['WnvPresent']==0].plot(ax=ax, markersize=20, color='blue', marker='o', label='Neg')\n",
    "geo_df[geo_df['WnvPresent']==1].plot(ax=ax, markersize=20, color='red', marker='o', label='Pos')\n",
    "plt.legend(prop={'size': 15})"
   ]
  },
  {
   "cell_type": "markdown",
   "metadata": {},
   "source": [
    "## Lastly, to check the format of the submission"
   ]
  },
  {
   "cell_type": "code",
   "execution_count": null,
   "metadata": {},
   "outputs": [],
   "source": [
    "sample = pd.read_csv('../assets/samplesubmission.csv')"
   ]
  },
  {
   "cell_type": "code",
   "execution_count": null,
   "metadata": {},
   "outputs": [],
   "source": [
    "sample.head()"
   ]
  },
  {
   "cell_type": "code",
   "execution_count": null,
   "metadata": {},
   "outputs": [],
   "source": []
  }
 ],
 "metadata": {
  "kernelspec": {
   "display_name": "Python 3",
   "language": "python",
   "name": "python3"
  },
  "language_info": {
   "codemirror_mode": {
    "name": "ipython",
    "version": 3
   },
   "file_extension": ".py",
   "mimetype": "text/x-python",
   "name": "python",
   "nbconvert_exporter": "python",
   "pygments_lexer": "ipython3",
   "version": "3.7.3"
  }
 },
 "nbformat": 4,
 "nbformat_minor": 2
}
