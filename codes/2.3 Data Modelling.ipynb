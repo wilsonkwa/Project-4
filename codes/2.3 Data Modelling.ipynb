{
 "cells": [
  {
   "cell_type": "code",
   "execution_count": 1,
   "metadata": {},
   "outputs": [],
   "source": [
    "#3rd trial\n",
    "#Preprocess the weather data more\n",
    "#Drop more useless columns to simplify the data"
   ]
  },
  {
   "cell_type": "code",
   "execution_count": 2,
   "metadata": {},
   "outputs": [],
   "source": [
    "import pandas as pd\n",
    "import numpy as np\n",
    "weather = pd.read_csv('../assets/weather_2.csv')"
   ]
  },
  {
   "cell_type": "code",
   "execution_count": 3,
   "metadata": {},
   "outputs": [],
   "source": [
    "import matplotlib.pyplot as plt\n",
    "%matplotlib inline\n",
    "import seaborn as sns"
   ]
  },
  {
   "cell_type": "markdown",
   "metadata": {},
   "source": [
    "### Restarting the pre-processing process to get a \"new-look\" for the weather data"
   ]
  },
  {
   "cell_type": "code",
   "execution_count": 4,
   "metadata": {
    "scrolled": true
   },
   "outputs": [
    {
     "data": {
      "text/html": [
       "<div>\n",
       "<style scoped>\n",
       "    .dataframe tbody tr th:only-of-type {\n",
       "        vertical-align: middle;\n",
       "    }\n",
       "\n",
       "    .dataframe tbody tr th {\n",
       "        vertical-align: top;\n",
       "    }\n",
       "\n",
       "    .dataframe thead th {\n",
       "        text-align: right;\n",
       "    }\n",
       "</style>\n",
       "<table border=\"1\" class=\"dataframe\">\n",
       "  <thead>\n",
       "    <tr style=\"text-align: right;\">\n",
       "      <th></th>\n",
       "      <th>Date</th>\n",
       "      <th>Year</th>\n",
       "      <th>Month</th>\n",
       "      <th>Day</th>\n",
       "      <th>Tmax</th>\n",
       "      <th>Tmin</th>\n",
       "      <th>Tavg</th>\n",
       "      <th>Depart</th>\n",
       "      <th>DewPoint</th>\n",
       "      <th>WetBulb</th>\n",
       "      <th>Heat</th>\n",
       "      <th>Cool</th>\n",
       "      <th>Sunrise</th>\n",
       "      <th>Sunset</th>\n",
       "      <th>PrecipTotal</th>\n",
       "      <th>StnPressure</th>\n",
       "      <th>SeaLevel</th>\n",
       "      <th>ResultSpeed</th>\n",
       "      <th>ResultDir</th>\n",
       "      <th>AvgSpeed</th>\n",
       "      <th>BR</th>\n",
       "      <th>HZ</th>\n",
       "      <th>RA</th>\n",
       "      <th>TSRA</th>\n",
       "      <th>VCTS</th>\n",
       "      <th>FU</th>\n",
       "      <th>TS</th>\n",
       "      <th>DZ</th>\n",
       "      <th>BCFG</th>\n",
       "      <th>FG+</th>\n",
       "      <th>MIFG</th>\n",
       "      <th>SQ</th>\n",
       "      <th>SN</th>\n",
       "      <th>VCFG</th>\n",
       "      <th>GR</th>\n",
       "    </tr>\n",
       "  </thead>\n",
       "  <tbody>\n",
       "    <tr>\n",
       "      <th>0</th>\n",
       "      <td>2007-05-01</td>\n",
       "      <td>2007</td>\n",
       "      <td>5</td>\n",
       "      <td>1</td>\n",
       "      <td>83.5</td>\n",
       "      <td>51.0</td>\n",
       "      <td>67.5</td>\n",
       "      <td>14.0</td>\n",
       "      <td>51.0</td>\n",
       "      <td>56.5</td>\n",
       "      <td>0.0</td>\n",
       "      <td>2.5</td>\n",
       "      <td>0 days 04:48:00.000000000</td>\n",
       "      <td>0 days 18:49:00.000000000</td>\n",
       "      <td>0.0</td>\n",
       "      <td>29.14</td>\n",
       "      <td>29.820</td>\n",
       "      <td>2.20</td>\n",
       "      <td>26.0</td>\n",
       "      <td>9.4</td>\n",
       "      <td>0</td>\n",
       "      <td>0</td>\n",
       "      <td>0</td>\n",
       "      <td>0</td>\n",
       "      <td>0</td>\n",
       "      <td>0</td>\n",
       "      <td>0</td>\n",
       "      <td>0</td>\n",
       "      <td>0</td>\n",
       "      <td>0</td>\n",
       "      <td>0</td>\n",
       "      <td>0</td>\n",
       "      <td>0</td>\n",
       "      <td>0</td>\n",
       "      <td>0</td>\n",
       "    </tr>\n",
       "    <tr>\n",
       "      <th>1</th>\n",
       "      <td>2007-05-02</td>\n",
       "      <td>2007</td>\n",
       "      <td>5</td>\n",
       "      <td>2</td>\n",
       "      <td>59.5</td>\n",
       "      <td>42.5</td>\n",
       "      <td>51.5</td>\n",
       "      <td>-3.0</td>\n",
       "      <td>42.0</td>\n",
       "      <td>47.0</td>\n",
       "      <td>13.5</td>\n",
       "      <td>0.0</td>\n",
       "      <td>0 days 04:47:00.000000000</td>\n",
       "      <td>0 days 18:50:00.000000000</td>\n",
       "      <td>0.0</td>\n",
       "      <td>29.41</td>\n",
       "      <td>30.085</td>\n",
       "      <td>13.15</td>\n",
       "      <td>3.0</td>\n",
       "      <td>13.4</td>\n",
       "      <td>1</td>\n",
       "      <td>1</td>\n",
       "      <td>0</td>\n",
       "      <td>0</td>\n",
       "      <td>0</td>\n",
       "      <td>0</td>\n",
       "      <td>0</td>\n",
       "      <td>0</td>\n",
       "      <td>0</td>\n",
       "      <td>0</td>\n",
       "      <td>0</td>\n",
       "      <td>0</td>\n",
       "      <td>0</td>\n",
       "      <td>0</td>\n",
       "      <td>0</td>\n",
       "    </tr>\n",
       "  </tbody>\n",
       "</table>\n",
       "</div>"
      ],
      "text/plain": [
       "         Date  Year  Month  Day  Tmax  Tmin  Tavg  Depart  DewPoint  WetBulb  \\\n",
       "0  2007-05-01  2007      5    1  83.5  51.0  67.5    14.0      51.0     56.5   \n",
       "1  2007-05-02  2007      5    2  59.5  42.5  51.5    -3.0      42.0     47.0   \n",
       "\n",
       "   Heat  Cool                    Sunrise                     Sunset  \\\n",
       "0   0.0   2.5  0 days 04:48:00.000000000  0 days 18:49:00.000000000   \n",
       "1  13.5   0.0  0 days 04:47:00.000000000  0 days 18:50:00.000000000   \n",
       "\n",
       "   PrecipTotal  StnPressure  SeaLevel  ResultSpeed  ResultDir  AvgSpeed  BR  \\\n",
       "0          0.0        29.14    29.820         2.20       26.0       9.4   0   \n",
       "1          0.0        29.41    30.085        13.15        3.0      13.4   1   \n",
       "\n",
       "   HZ  RA  TSRA  VCTS  FU  TS  DZ  BCFG  FG+  MIFG  SQ  SN  VCFG  GR  \n",
       "0   0   0     0     0   0   0   0     0    0     0   0   0     0   0  \n",
       "1   1   0     0     0   0   0   0     0    0     0   0   0     0   0  "
      ]
     },
     "execution_count": 4,
     "metadata": {},
     "output_type": "execute_result"
    }
   ],
   "source": [
    "pd.options.display.max_columns = None\n",
    "weather.head(2)"
   ]
  },
  {
   "cell_type": "code",
   "execution_count": 5,
   "metadata": {},
   "outputs": [
    {
     "data": {
      "text/plain": [
       "Index(['Date', 'Year', 'Month', 'Day', 'Tmax', 'Tmin', 'Tavg', 'Depart',\n",
       "       'DewPoint', 'WetBulb', 'Heat', 'Cool', 'Sunrise', 'Sunset',\n",
       "       'PrecipTotal', 'StnPressure', 'SeaLevel', 'ResultSpeed', 'ResultDir',\n",
       "       'AvgSpeed', 'BR', 'HZ', 'RA', 'TSRA', 'VCTS', 'FU', 'TS', 'DZ', 'BCFG',\n",
       "       'FG+', 'MIFG', 'SQ', 'SN', 'VCFG', 'GR'],\n",
       "      dtype='object')"
      ]
     },
     "execution_count": 5,
     "metadata": {},
     "output_type": "execute_result"
    }
   ],
   "source": [
    "weather.columns"
   ]
  },
  {
   "cell_type": "code",
   "execution_count": 6,
   "metadata": {},
   "outputs": [],
   "source": [
    "weather['Sunrise'] = pd.to_timedelta(weather['Sunrise'])\n",
    "weather['Sunset'] = pd.to_timedelta(weather['Sunset'])"
   ]
  },
  {
   "cell_type": "code",
   "execution_count": 7,
   "metadata": {},
   "outputs": [],
   "source": [
    "#Feature engineering: Daylight \n",
    "weather['Daylight'] = weather['Sunset'] - weather['Sunrise']"
   ]
  },
  {
   "cell_type": "code",
   "execution_count": 8,
   "metadata": {},
   "outputs": [],
   "source": [
    "weather = weather.drop(['Sunset','Sunrise'],axis=1)"
   ]
  },
  {
   "cell_type": "code",
   "execution_count": 9,
   "metadata": {},
   "outputs": [],
   "source": [
    "#changing Daylight back to float, numbers are in mintues!\n",
    "weather['Daylight'] = weather['Daylight'].astype('timedelta64[m]')"
   ]
  },
  {
   "cell_type": "code",
   "execution_count": 10,
   "metadata": {},
   "outputs": [],
   "source": [
    "#Dropping the Weather Code in this model to test\n",
    "weather = weather.drop(['BR', 'HZ', 'RA', 'TSRA', 'VCTS', 'FU',\n",
    "       'TS', 'DZ', 'BCFG', 'FG+', 'MIFG', 'SQ', 'SN', 'VCFG', 'GR'],axis=1)"
   ]
  },
  {
   "cell_type": "code",
   "execution_count": 11,
   "metadata": {
    "scrolled": true
   },
   "outputs": [
    {
     "data": {
      "text/html": [
       "<div>\n",
       "<style scoped>\n",
       "    .dataframe tbody tr th:only-of-type {\n",
       "        vertical-align: middle;\n",
       "    }\n",
       "\n",
       "    .dataframe tbody tr th {\n",
       "        vertical-align: top;\n",
       "    }\n",
       "\n",
       "    .dataframe thead th {\n",
       "        text-align: right;\n",
       "    }\n",
       "</style>\n",
       "<table border=\"1\" class=\"dataframe\">\n",
       "  <thead>\n",
       "    <tr style=\"text-align: right;\">\n",
       "      <th></th>\n",
       "      <th></th>\n",
       "      <th>Tmax</th>\n",
       "      <th>Tmin</th>\n",
       "      <th>Tavg</th>\n",
       "      <th>Depart</th>\n",
       "      <th>DewPoint</th>\n",
       "      <th>WetBulb</th>\n",
       "      <th>Heat</th>\n",
       "      <th>Cool</th>\n",
       "      <th>PrecipTotal</th>\n",
       "      <th>StnPressure</th>\n",
       "      <th>SeaLevel</th>\n",
       "      <th>ResultSpeed</th>\n",
       "      <th>ResultDir</th>\n",
       "      <th>AvgSpeed</th>\n",
       "      <th>Daylight</th>\n",
       "    </tr>\n",
       "    <tr>\n",
       "      <th>Year</th>\n",
       "      <th>Month</th>\n",
       "      <th></th>\n",
       "      <th></th>\n",
       "      <th></th>\n",
       "      <th></th>\n",
       "      <th></th>\n",
       "      <th></th>\n",
       "      <th></th>\n",
       "      <th></th>\n",
       "      <th></th>\n",
       "      <th></th>\n",
       "      <th></th>\n",
       "      <th></th>\n",
       "      <th></th>\n",
       "      <th></th>\n",
       "      <th></th>\n",
       "    </tr>\n",
       "  </thead>\n",
       "  <tbody>\n",
       "    <tr>\n",
       "      <th rowspan=\"6\" valign=\"top\">2007</th>\n",
       "      <th>5</th>\n",
       "      <td>75.758065</td>\n",
       "      <td>53.032258</td>\n",
       "      <td>64.612903</td>\n",
       "      <td>5.258065</td>\n",
       "      <td>45.790323</td>\n",
       "      <td>54.580645</td>\n",
       "      <td>3.483871</td>\n",
       "      <td>3.096774</td>\n",
       "      <td>0.058387</td>\n",
       "      <td>29.390484</td>\n",
       "      <td>30.079194</td>\n",
       "      <td>8.561290</td>\n",
       "      <td>14.612903</td>\n",
       "      <td>10.158065</td>\n",
       "      <td>872.806452</td>\n",
       "    </tr>\n",
       "    <tr>\n",
       "      <th>6</th>\n",
       "      <td>81.433333</td>\n",
       "      <td>62.516667</td>\n",
       "      <td>72.200000</td>\n",
       "      <td>3.333333</td>\n",
       "      <td>56.600000</td>\n",
       "      <td>62.983333</td>\n",
       "      <td>0.533333</td>\n",
       "      <td>7.733333</td>\n",
       "      <td>0.087333</td>\n",
       "      <td>29.268577</td>\n",
       "      <td>29.935740</td>\n",
       "      <td>7.130000</td>\n",
       "      <td>14.800000</td>\n",
       "      <td>8.568333</td>\n",
       "      <td>910.333333</td>\n",
       "    </tr>\n",
       "    <tr>\n",
       "      <th>7</th>\n",
       "      <td>83.177419</td>\n",
       "      <td>64.709677</td>\n",
       "      <td>74.193548</td>\n",
       "      <td>0.677419</td>\n",
       "      <td>58.838710</td>\n",
       "      <td>64.758065</td>\n",
       "      <td>0.000000</td>\n",
       "      <td>9.193548</td>\n",
       "      <td>0.112581</td>\n",
       "      <td>29.289355</td>\n",
       "      <td>29.967258</td>\n",
       "      <td>6.069355</td>\n",
       "      <td>17.112903</td>\n",
       "      <td>8.091935</td>\n",
       "      <td>893.483871</td>\n",
       "    </tr>\n",
       "    <tr>\n",
       "      <th>8</th>\n",
       "      <td>83.048387</td>\n",
       "      <td>67.145161</td>\n",
       "      <td>75.387097</td>\n",
       "      <td>3.322581</td>\n",
       "      <td>64.096774</td>\n",
       "      <td>68.161290</td>\n",
       "      <td>0.016129</td>\n",
       "      <td>10.403226</td>\n",
       "      <td>0.296855</td>\n",
       "      <td>29.290000</td>\n",
       "      <td>29.964355</td>\n",
       "      <td>4.788710</td>\n",
       "      <td>14.080645</td>\n",
       "      <td>6.900000</td>\n",
       "      <td>831.161290</td>\n",
       "    </tr>\n",
       "    <tr>\n",
       "      <th>9</th>\n",
       "      <td>79.200000</td>\n",
       "      <td>58.316667</td>\n",
       "      <td>68.916667</td>\n",
       "      <td>4.433333</td>\n",
       "      <td>53.050000</td>\n",
       "      <td>59.900000</td>\n",
       "      <td>1.700000</td>\n",
       "      <td>5.616667</td>\n",
       "      <td>0.042417</td>\n",
       "      <td>29.371833</td>\n",
       "      <td>30.056333</td>\n",
       "      <td>7.121667</td>\n",
       "      <td>16.816667</td>\n",
       "      <td>8.860000</td>\n",
       "      <td>749.566667</td>\n",
       "    </tr>\n",
       "    <tr>\n",
       "      <th>10</th>\n",
       "      <td>68.387097</td>\n",
       "      <td>50.822581</td>\n",
       "      <td>59.838710</td>\n",
       "      <td>7.129032</td>\n",
       "      <td>47.080645</td>\n",
       "      <td>53.177419</td>\n",
       "      <td>7.225806</td>\n",
       "      <td>2.064516</td>\n",
       "      <td>0.055161</td>\n",
       "      <td>29.297097</td>\n",
       "      <td>29.988387</td>\n",
       "      <td>8.935484</td>\n",
       "      <td>20.806452</td>\n",
       "      <td>10.066129</td>\n",
       "      <td>664.354839</td>\n",
       "    </tr>\n",
       "    <tr>\n",
       "      <th rowspan=\"6\" valign=\"top\">2008</th>\n",
       "      <th>5</th>\n",
       "      <td>66.129032</td>\n",
       "      <td>45.935484</td>\n",
       "      <td>56.322581</td>\n",
       "      <td>-2.935484</td>\n",
       "      <td>42.306452</td>\n",
       "      <td>49.741935</td>\n",
       "      <td>8.983871</td>\n",
       "      <td>0.306452</td>\n",
       "      <td>0.129597</td>\n",
       "      <td>29.172258</td>\n",
       "      <td>29.862581</td>\n",
       "      <td>8.293548</td>\n",
       "      <td>16.370968</td>\n",
       "      <td>10.217742</td>\n",
       "      <td>872.806452</td>\n",
       "    </tr>\n",
       "    <tr>\n",
       "      <th>6</th>\n",
       "      <td>81.016667</td>\n",
       "      <td>61.700000</td>\n",
       "      <td>71.616667</td>\n",
       "      <td>2.866667</td>\n",
       "      <td>57.333333</td>\n",
       "      <td>63.000000</td>\n",
       "      <td>0.083333</td>\n",
       "      <td>6.700000</td>\n",
       "      <td>0.131417</td>\n",
       "      <td>29.199333</td>\n",
       "      <td>29.871000</td>\n",
       "      <td>7.743333</td>\n",
       "      <td>20.266667</td>\n",
       "      <td>9.346667</td>\n",
       "      <td>910.333333</td>\n",
       "    </tr>\n",
       "    <tr>\n",
       "      <th>7</th>\n",
       "      <td>84.112903</td>\n",
       "      <td>64.693548</td>\n",
       "      <td>74.612903</td>\n",
       "      <td>0.935484</td>\n",
       "      <td>60.774194</td>\n",
       "      <td>66.096774</td>\n",
       "      <td>0.048387</td>\n",
       "      <td>9.661290</td>\n",
       "      <td>0.144758</td>\n",
       "      <td>29.254677</td>\n",
       "      <td>29.930000</td>\n",
       "      <td>6.841935</td>\n",
       "      <td>20.532258</td>\n",
       "      <td>8.370968</td>\n",
       "      <td>893.483871</td>\n",
       "    </tr>\n",
       "    <tr>\n",
       "      <th>8</th>\n",
       "      <td>81.774194</td>\n",
       "      <td>64.322581</td>\n",
       "      <td>73.306452</td>\n",
       "      <td>1.193548</td>\n",
       "      <td>59.419355</td>\n",
       "      <td>64.725806</td>\n",
       "      <td>0.000000</td>\n",
       "      <td>8.306452</td>\n",
       "      <td>0.072258</td>\n",
       "      <td>29.303710</td>\n",
       "      <td>29.981935</td>\n",
       "      <td>6.011290</td>\n",
       "      <td>15.000000</td>\n",
       "      <td>7.545161</td>\n",
       "      <td>831.161290</td>\n",
       "    </tr>\n",
       "    <tr>\n",
       "      <th>9</th>\n",
       "      <td>75.383333</td>\n",
       "      <td>58.166667</td>\n",
       "      <td>67.000000</td>\n",
       "      <td>2.500000</td>\n",
       "      <td>56.250000</td>\n",
       "      <td>60.600000</td>\n",
       "      <td>1.466667</td>\n",
       "      <td>3.466667</td>\n",
       "      <td>0.382333</td>\n",
       "      <td>29.393500</td>\n",
       "      <td>30.081833</td>\n",
       "      <td>5.636667</td>\n",
       "      <td>18.833333</td>\n",
       "      <td>6.836667</td>\n",
       "      <td>749.566667</td>\n",
       "    </tr>\n",
       "    <tr>\n",
       "      <th>10</th>\n",
       "      <td>61.870968</td>\n",
       "      <td>44.693548</td>\n",
       "      <td>53.500000</td>\n",
       "      <td>0.709677</td>\n",
       "      <td>40.580645</td>\n",
       "      <td>47.322581</td>\n",
       "      <td>11.967742</td>\n",
       "      <td>0.467742</td>\n",
       "      <td>0.076129</td>\n",
       "      <td>29.456774</td>\n",
       "      <td>30.158065</td>\n",
       "      <td>7.485484</td>\n",
       "      <td>20.903226</td>\n",
       "      <td>8.780645</td>\n",
       "      <td>664.354839</td>\n",
       "    </tr>\n",
       "    <tr>\n",
       "      <th rowspan=\"6\" valign=\"top\">2009</th>\n",
       "      <th>5</th>\n",
       "      <td>70.677419</td>\n",
       "      <td>50.419355</td>\n",
       "      <td>60.758065</td>\n",
       "      <td>1.322581</td>\n",
       "      <td>44.129032</td>\n",
       "      <td>52.193548</td>\n",
       "      <td>5.000000</td>\n",
       "      <td>0.758065</td>\n",
       "      <td>0.126935</td>\n",
       "      <td>29.288226</td>\n",
       "      <td>29.978871</td>\n",
       "      <td>7.127419</td>\n",
       "      <td>19.129032</td>\n",
       "      <td>8.862903</td>\n",
       "      <td>872.806452</td>\n",
       "    </tr>\n",
       "    <tr>\n",
       "      <th>6</th>\n",
       "      <td>77.183333</td>\n",
       "      <td>59.283333</td>\n",
       "      <td>68.516667</td>\n",
       "      <td>-0.366667</td>\n",
       "      <td>55.400000</td>\n",
       "      <td>60.533333</td>\n",
       "      <td>2.100000</td>\n",
       "      <td>5.616667</td>\n",
       "      <td>0.214000</td>\n",
       "      <td>29.183577</td>\n",
       "      <td>29.855240</td>\n",
       "      <td>6.155000</td>\n",
       "      <td>15.116667</td>\n",
       "      <td>7.945000</td>\n",
       "      <td>910.333333</td>\n",
       "    </tr>\n",
       "    <tr>\n",
       "      <th>7</th>\n",
       "      <td>78.629032</td>\n",
       "      <td>61.725806</td>\n",
       "      <td>70.403226</td>\n",
       "      <td>-3.774194</td>\n",
       "      <td>56.129032</td>\n",
       "      <td>62.032258</td>\n",
       "      <td>0.225806</td>\n",
       "      <td>5.629032</td>\n",
       "      <td>0.064113</td>\n",
       "      <td>29.256129</td>\n",
       "      <td>29.935161</td>\n",
       "      <td>5.812903</td>\n",
       "      <td>21.564516</td>\n",
       "      <td>7.288710</td>\n",
       "      <td>893.483871</td>\n",
       "    </tr>\n",
       "    <tr>\n",
       "      <th>8</th>\n",
       "      <td>79.225806</td>\n",
       "      <td>62.677419</td>\n",
       "      <td>71.225806</td>\n",
       "      <td>-1.064516</td>\n",
       "      <td>58.806452</td>\n",
       "      <td>63.596774</td>\n",
       "      <td>0.548387</td>\n",
       "      <td>6.774194</td>\n",
       "      <td>0.134355</td>\n",
       "      <td>29.306452</td>\n",
       "      <td>29.986613</td>\n",
       "      <td>7.038710</td>\n",
       "      <td>15.451613</td>\n",
       "      <td>8.500000</td>\n",
       "      <td>831.161290</td>\n",
       "    </tr>\n",
       "    <tr>\n",
       "      <th>9</th>\n",
       "      <td>74.066667</td>\n",
       "      <td>57.366667</td>\n",
       "      <td>65.983333</td>\n",
       "      <td>1.766667</td>\n",
       "      <td>55.616667</td>\n",
       "      <td>59.883333</td>\n",
       "      <td>1.583333</td>\n",
       "      <td>2.566667</td>\n",
       "      <td>0.034167</td>\n",
       "      <td>29.394833</td>\n",
       "      <td>30.069573</td>\n",
       "      <td>5.488333</td>\n",
       "      <td>11.066667</td>\n",
       "      <td>6.625000</td>\n",
       "      <td>749.566667</td>\n",
       "    </tr>\n",
       "    <tr>\n",
       "      <th>10</th>\n",
       "      <td>55.483871</td>\n",
       "      <td>42.951613</td>\n",
       "      <td>49.483871</td>\n",
       "      <td>-3.032258</td>\n",
       "      <td>41.580645</td>\n",
       "      <td>45.645161</td>\n",
       "      <td>15.516129</td>\n",
       "      <td>0.000000</td>\n",
       "      <td>0.208145</td>\n",
       "      <td>29.265645</td>\n",
       "      <td>29.970806</td>\n",
       "      <td>7.683871</td>\n",
       "      <td>19.564516</td>\n",
       "      <td>9.338710</td>\n",
       "      <td>664.354839</td>\n",
       "    </tr>\n",
       "    <tr>\n",
       "      <th rowspan=\"6\" valign=\"top\">2010</th>\n",
       "      <th>5</th>\n",
       "      <td>71.193548</td>\n",
       "      <td>53.161290</td>\n",
       "      <td>62.419355</td>\n",
       "      <td>3.193548</td>\n",
       "      <td>48.596774</td>\n",
       "      <td>54.854839</td>\n",
       "      <td>5.596774</td>\n",
       "      <td>3.016129</td>\n",
       "      <td>0.163468</td>\n",
       "      <td>29.278226</td>\n",
       "      <td>29.965484</td>\n",
       "      <td>7.109677</td>\n",
       "      <td>14.048387</td>\n",
       "      <td>9.180645</td>\n",
       "      <td>872.806452</td>\n",
       "    </tr>\n",
       "    <tr>\n",
       "      <th>6</th>\n",
       "      <td>80.216667</td>\n",
       "      <td>62.800000</td>\n",
       "      <td>71.800000</td>\n",
       "      <td>3.233333</td>\n",
       "      <td>60.350000</td>\n",
       "      <td>64.650000</td>\n",
       "      <td>0.166667</td>\n",
       "      <td>6.966667</td>\n",
       "      <td>0.231333</td>\n",
       "      <td>29.229833</td>\n",
       "      <td>29.905333</td>\n",
       "      <td>6.021667</td>\n",
       "      <td>17.783333</td>\n",
       "      <td>8.266667</td>\n",
       "      <td>910.333333</td>\n",
       "    </tr>\n",
       "    <tr>\n",
       "      <th>7</th>\n",
       "      <td>87.080645</td>\n",
       "      <td>69.080645</td>\n",
       "      <td>78.354839</td>\n",
       "      <td>4.612903</td>\n",
       "      <td>64.016129</td>\n",
       "      <td>69.064516</td>\n",
       "      <td>0.000000</td>\n",
       "      <td>13.354839</td>\n",
       "      <td>0.310726</td>\n",
       "      <td>29.273226</td>\n",
       "      <td>29.948065</td>\n",
       "      <td>6.232258</td>\n",
       "      <td>20.322581</td>\n",
       "      <td>7.861290</td>\n",
       "      <td>893.483871</td>\n",
       "    </tr>\n",
       "    <tr>\n",
       "      <th>8</th>\n",
       "      <td>85.451613</td>\n",
       "      <td>68.322581</td>\n",
       "      <td>77.112903</td>\n",
       "      <td>5.225806</td>\n",
       "      <td>63.564516</td>\n",
       "      <td>68.403226</td>\n",
       "      <td>0.000000</td>\n",
       "      <td>12.112903</td>\n",
       "      <td>0.087984</td>\n",
       "      <td>29.274194</td>\n",
       "      <td>29.948065</td>\n",
       "      <td>6.241935</td>\n",
       "      <td>20.129032</td>\n",
       "      <td>7.454839</td>\n",
       "      <td>831.161290</td>\n",
       "    </tr>\n",
       "    <tr>\n",
       "      <th>9</th>\n",
       "      <td>74.383333</td>\n",
       "      <td>56.816667</td>\n",
       "      <td>65.833333</td>\n",
       "      <td>1.566667</td>\n",
       "      <td>52.100000</td>\n",
       "      <td>58.033333</td>\n",
       "      <td>2.116667</td>\n",
       "      <td>2.950000</td>\n",
       "      <td>0.077583</td>\n",
       "      <td>29.278000</td>\n",
       "      <td>29.961833</td>\n",
       "      <td>7.441667</td>\n",
       "      <td>18.000000</td>\n",
       "      <td>9.171667</td>\n",
       "      <td>749.566667</td>\n",
       "    </tr>\n",
       "    <tr>\n",
       "      <th>10</th>\n",
       "      <td>66.790323</td>\n",
       "      <td>45.870968</td>\n",
       "      <td>56.612903</td>\n",
       "      <td>4.129032</td>\n",
       "      <td>40.177419</td>\n",
       "      <td>48.483871</td>\n",
       "      <td>8.919355</td>\n",
       "      <td>0.532258</td>\n",
       "      <td>0.050403</td>\n",
       "      <td>29.290000</td>\n",
       "      <td>29.984516</td>\n",
       "      <td>7.595161</td>\n",
       "      <td>21.725806</td>\n",
       "      <td>8.995161</td>\n",
       "      <td>664.354839</td>\n",
       "    </tr>\n",
       "    <tr>\n",
       "      <th rowspan=\"6\" valign=\"top\">2011</th>\n",
       "      <th>5</th>\n",
       "      <td>68.354839</td>\n",
       "      <td>49.193548</td>\n",
       "      <td>59.016129</td>\n",
       "      <td>-0.645161</td>\n",
       "      <td>47.967742</td>\n",
       "      <td>53.112903</td>\n",
       "      <td>8.306452</td>\n",
       "      <td>2.322581</td>\n",
       "      <td>0.199516</td>\n",
       "      <td>29.214194</td>\n",
       "      <td>29.904032</td>\n",
       "      <td>9.211290</td>\n",
       "      <td>11.145161</td>\n",
       "      <td>10.430645</td>\n",
       "      <td>872.806452</td>\n",
       "    </tr>\n",
       "    <tr>\n",
       "      <th>6</th>\n",
       "      <td>79.516667</td>\n",
       "      <td>60.733333</td>\n",
       "      <td>70.366667</td>\n",
       "      <td>1.400000</td>\n",
       "      <td>57.483333</td>\n",
       "      <td>62.666667</td>\n",
       "      <td>0.950000</td>\n",
       "      <td>6.316667</td>\n",
       "      <td>0.165333</td>\n",
       "      <td>29.215167</td>\n",
       "      <td>29.895000</td>\n",
       "      <td>7.496667</td>\n",
       "      <td>14.966667</td>\n",
       "      <td>8.993333</td>\n",
       "      <td>910.333333</td>\n",
       "    </tr>\n",
       "    <tr>\n",
       "      <th>7</th>\n",
       "      <td>88.967742</td>\n",
       "      <td>70.596774</td>\n",
       "      <td>80.064516</td>\n",
       "      <td>6.000000</td>\n",
       "      <td>64.548387</td>\n",
       "      <td>70.048387</td>\n",
       "      <td>0.000000</td>\n",
       "      <td>15.064516</td>\n",
       "      <td>0.193468</td>\n",
       "      <td>29.262419</td>\n",
       "      <td>29.932258</td>\n",
       "      <td>5.316129</td>\n",
       "      <td>15.370968</td>\n",
       "      <td>7.332258</td>\n",
       "      <td>893.483871</td>\n",
       "    </tr>\n",
       "    <tr>\n",
       "      <th>8</th>\n",
       "      <td>82.612903</td>\n",
       "      <td>65.338710</td>\n",
       "      <td>74.258065</td>\n",
       "      <td>2.000000</td>\n",
       "      <td>61.967742</td>\n",
       "      <td>66.516129</td>\n",
       "      <td>0.000000</td>\n",
       "      <td>9.258065</td>\n",
       "      <td>0.131210</td>\n",
       "      <td>29.221452</td>\n",
       "      <td>29.896935</td>\n",
       "      <td>5.159677</td>\n",
       "      <td>16.548387</td>\n",
       "      <td>6.800000</td>\n",
       "      <td>831.161290</td>\n",
       "    </tr>\n",
       "    <tr>\n",
       "      <th>9</th>\n",
       "      <td>70.216667</td>\n",
       "      <td>55.466667</td>\n",
       "      <td>63.050000</td>\n",
       "      <td>-1.400000</td>\n",
       "      <td>52.266667</td>\n",
       "      <td>56.983333</td>\n",
       "      <td>4.516667</td>\n",
       "      <td>2.566667</td>\n",
       "      <td>0.107583</td>\n",
       "      <td>29.297500</td>\n",
       "      <td>29.947552</td>\n",
       "      <td>7.221667</td>\n",
       "      <td>19.183333</td>\n",
       "      <td>8.591667</td>\n",
       "      <td>749.566667</td>\n",
       "    </tr>\n",
       "    <tr>\n",
       "      <th>10</th>\n",
       "      <td>64.887097</td>\n",
       "      <td>45.467742</td>\n",
       "      <td>55.370968</td>\n",
       "      <td>2.967742</td>\n",
       "      <td>42.177419</td>\n",
       "      <td>48.661290</td>\n",
       "      <td>10.338710</td>\n",
       "      <td>0.709677</td>\n",
       "      <td>0.067903</td>\n",
       "      <td>29.301935</td>\n",
       "      <td>29.999516</td>\n",
       "      <td>6.967742</td>\n",
       "      <td>21.725806</td>\n",
       "      <td>7.953226</td>\n",
       "      <td>664.354839</td>\n",
       "    </tr>\n",
       "    <tr>\n",
       "      <th rowspan=\"6\" valign=\"top\">2012</th>\n",
       "      <th>5</th>\n",
       "      <td>75.935484</td>\n",
       "      <td>55.354839</td>\n",
       "      <td>65.887097</td>\n",
       "      <td>7.064516</td>\n",
       "      <td>47.403226</td>\n",
       "      <td>55.983871</td>\n",
       "      <td>3.370968</td>\n",
       "      <td>4.258065</td>\n",
       "      <td>0.120403</td>\n",
       "      <td>29.273065</td>\n",
       "      <td>29.957419</td>\n",
       "      <td>7.708065</td>\n",
       "      <td>14.419355</td>\n",
       "      <td>9.622581</td>\n",
       "      <td>872.806452</td>\n",
       "    </tr>\n",
       "    <tr>\n",
       "      <th>6</th>\n",
       "      <td>84.816667</td>\n",
       "      <td>63.300000</td>\n",
       "      <td>74.316667</td>\n",
       "      <td>6.000000</td>\n",
       "      <td>53.733333</td>\n",
       "      <td>62.433333</td>\n",
       "      <td>0.466667</td>\n",
       "      <td>9.783333</td>\n",
       "      <td>0.032583</td>\n",
       "      <td>29.247500</td>\n",
       "      <td>29.922833</td>\n",
       "      <td>8.148333</td>\n",
       "      <td>17.600000</td>\n",
       "      <td>9.673333</td>\n",
       "      <td>910.333333</td>\n",
       "    </tr>\n",
       "    <tr>\n",
       "      <th>7</th>\n",
       "      <td>91.564516</td>\n",
       "      <td>71.790323</td>\n",
       "      <td>82.000000</td>\n",
       "      <td>8.000000</td>\n",
       "      <td>64.274194</td>\n",
       "      <td>70.306452</td>\n",
       "      <td>0.000000</td>\n",
       "      <td>17.000000</td>\n",
       "      <td>0.102339</td>\n",
       "      <td>29.269194</td>\n",
       "      <td>29.937581</td>\n",
       "      <td>6.353226</td>\n",
       "      <td>16.129032</td>\n",
       "      <td>8.316129</td>\n",
       "      <td>893.483871</td>\n",
       "    </tr>\n",
       "    <tr>\n",
       "      <th>8</th>\n",
       "      <td>84.209677</td>\n",
       "      <td>64.500000</td>\n",
       "      <td>74.580645</td>\n",
       "      <td>1.741935</td>\n",
       "      <td>58.225806</td>\n",
       "      <td>64.580645</td>\n",
       "      <td>0.000000</td>\n",
       "      <td>9.580645</td>\n",
       "      <td>0.135161</td>\n",
       "      <td>29.284677</td>\n",
       "      <td>29.948780</td>\n",
       "      <td>5.054839</td>\n",
       "      <td>17.161290</td>\n",
       "      <td>6.762903</td>\n",
       "      <td>831.161290</td>\n",
       "    </tr>\n",
       "    <tr>\n",
       "      <th>9</th>\n",
       "      <td>74.783333</td>\n",
       "      <td>55.233333</td>\n",
       "      <td>65.316667</td>\n",
       "      <td>0.600000</td>\n",
       "      <td>50.616667</td>\n",
       "      <td>57.083333</td>\n",
       "      <td>3.000000</td>\n",
       "      <td>3.316667</td>\n",
       "      <td>0.056750</td>\n",
       "      <td>29.312667</td>\n",
       "      <td>29.989573</td>\n",
       "      <td>7.073333</td>\n",
       "      <td>21.950000</td>\n",
       "      <td>8.670000</td>\n",
       "      <td>749.566667</td>\n",
       "    </tr>\n",
       "    <tr>\n",
       "      <th>10</th>\n",
       "      <td>60.887097</td>\n",
       "      <td>43.693548</td>\n",
       "      <td>52.500000</td>\n",
       "      <td>-0.419355</td>\n",
       "      <td>40.580645</td>\n",
       "      <td>46.983871</td>\n",
       "      <td>12.645161</td>\n",
       "      <td>0.145161</td>\n",
       "      <td>0.096371</td>\n",
       "      <td>29.245323</td>\n",
       "      <td>29.944032</td>\n",
       "      <td>9.650000</td>\n",
       "      <td>22.080645</td>\n",
       "      <td>11.233871</td>\n",
       "      <td>664.354839</td>\n",
       "    </tr>\n",
       "    <tr>\n",
       "      <th rowspan=\"6\" valign=\"top\">2013</th>\n",
       "      <th>5</th>\n",
       "      <td>71.741935</td>\n",
       "      <td>51.645161</td>\n",
       "      <td>62.000000</td>\n",
       "      <td>2.483871</td>\n",
       "      <td>47.709677</td>\n",
       "      <td>54.419355</td>\n",
       "      <td>5.806452</td>\n",
       "      <td>2.806452</td>\n",
       "      <td>0.171532</td>\n",
       "      <td>29.268065</td>\n",
       "      <td>29.959032</td>\n",
       "      <td>7.766129</td>\n",
       "      <td>14.241935</td>\n",
       "      <td>9.267742</td>\n",
       "      <td>872.806452</td>\n",
       "    </tr>\n",
       "    <tr>\n",
       "      <th>6</th>\n",
       "      <td>78.333333</td>\n",
       "      <td>59.800000</td>\n",
       "      <td>69.300000</td>\n",
       "      <td>0.533333</td>\n",
       "      <td>56.466667</td>\n",
       "      <td>61.550000</td>\n",
       "      <td>1.316667</td>\n",
       "      <td>5.616667</td>\n",
       "      <td>0.159083</td>\n",
       "      <td>29.225833</td>\n",
       "      <td>29.905167</td>\n",
       "      <td>6.923333</td>\n",
       "      <td>13.233333</td>\n",
       "      <td>8.550000</td>\n",
       "      <td>910.333333</td>\n",
       "    </tr>\n",
       "    <tr>\n",
       "      <th>7</th>\n",
       "      <td>82.225806</td>\n",
       "      <td>65.612903</td>\n",
       "      <td>74.129032</td>\n",
       "      <td>0.032258</td>\n",
       "      <td>61.112903</td>\n",
       "      <td>66.032258</td>\n",
       "      <td>0.209677</td>\n",
       "      <td>9.338710</td>\n",
       "      <td>0.055161</td>\n",
       "      <td>29.331613</td>\n",
       "      <td>30.008710</td>\n",
       "      <td>6.538710</td>\n",
       "      <td>15.822581</td>\n",
       "      <td>7.867742</td>\n",
       "      <td>893.483871</td>\n",
       "    </tr>\n",
       "    <tr>\n",
       "      <th>8</th>\n",
       "      <td>82.887097</td>\n",
       "      <td>64.403226</td>\n",
       "      <td>73.919355</td>\n",
       "      <td>1.483871</td>\n",
       "      <td>59.887097</td>\n",
       "      <td>64.548387</td>\n",
       "      <td>0.032258</td>\n",
       "      <td>8.951613</td>\n",
       "      <td>0.075081</td>\n",
       "      <td>29.339021</td>\n",
       "      <td>30.024032</td>\n",
       "      <td>5.980645</td>\n",
       "      <td>16.677419</td>\n",
       "      <td>7.527419</td>\n",
       "      <td>831.161290</td>\n",
       "    </tr>\n",
       "    <tr>\n",
       "      <th>9</th>\n",
       "      <td>77.716667</td>\n",
       "      <td>58.500000</td>\n",
       "      <td>68.400000</td>\n",
       "      <td>3.666667</td>\n",
       "      <td>54.816667</td>\n",
       "      <td>60.333333</td>\n",
       "      <td>1.833333</td>\n",
       "      <td>5.233333</td>\n",
       "      <td>0.061750</td>\n",
       "      <td>29.322500</td>\n",
       "      <td>30.005333</td>\n",
       "      <td>6.951667</td>\n",
       "      <td>17.000000</td>\n",
       "      <td>8.301667</td>\n",
       "      <td>749.566667</td>\n",
       "    </tr>\n",
       "    <tr>\n",
       "      <th>10</th>\n",
       "      <td>62.822581</td>\n",
       "      <td>45.129032</td>\n",
       "      <td>54.209677</td>\n",
       "      <td>1.258065</td>\n",
       "      <td>44.016129</td>\n",
       "      <td>49.177419</td>\n",
       "      <td>11.741935</td>\n",
       "      <td>0.951613</td>\n",
       "      <td>0.133306</td>\n",
       "      <td>29.296613</td>\n",
       "      <td>29.997581</td>\n",
       "      <td>7.206452</td>\n",
       "      <td>20.241935</td>\n",
       "      <td>8.400000</td>\n",
       "      <td>664.354839</td>\n",
       "    </tr>\n",
       "    <tr>\n",
       "      <th rowspan=\"6\" valign=\"top\">2014</th>\n",
       "      <th>5</th>\n",
       "      <td>72.193548</td>\n",
       "      <td>51.564516</td>\n",
       "      <td>62.145161</td>\n",
       "      <td>1.903226</td>\n",
       "      <td>46.596774</td>\n",
       "      <td>53.693548</td>\n",
       "      <td>5.532258</td>\n",
       "      <td>2.677419</td>\n",
       "      <td>0.152661</td>\n",
       "      <td>29.286129</td>\n",
       "      <td>29.973226</td>\n",
       "      <td>8.290323</td>\n",
       "      <td>14.580645</td>\n",
       "      <td>10.172581</td>\n",
       "      <td>872.806452</td>\n",
       "    </tr>\n",
       "    <tr>\n",
       "      <th>6</th>\n",
       "      <td>81.600000</td>\n",
       "      <td>62.350000</td>\n",
       "      <td>72.250000</td>\n",
       "      <td>2.966667</td>\n",
       "      <td>58.050000</td>\n",
       "      <td>63.633333</td>\n",
       "      <td>0.233333</td>\n",
       "      <td>7.483333</td>\n",
       "      <td>0.242083</td>\n",
       "      <td>29.229000</td>\n",
       "      <td>29.908000</td>\n",
       "      <td>7.070000</td>\n",
       "      <td>16.516667</td>\n",
       "      <td>9.376667</td>\n",
       "      <td>910.333333</td>\n",
       "    </tr>\n",
       "    <tr>\n",
       "      <th>7</th>\n",
       "      <td>80.354839</td>\n",
       "      <td>62.370968</td>\n",
       "      <td>71.645161</td>\n",
       "      <td>-2.709677</td>\n",
       "      <td>56.677419</td>\n",
       "      <td>62.790323</td>\n",
       "      <td>0.096774</td>\n",
       "      <td>6.741935</td>\n",
       "      <td>0.118468</td>\n",
       "      <td>29.296935</td>\n",
       "      <td>29.961200</td>\n",
       "      <td>7.140323</td>\n",
       "      <td>20.000000</td>\n",
       "      <td>8.901613</td>\n",
       "      <td>893.483871</td>\n",
       "    </tr>\n",
       "    <tr>\n",
       "      <th>8</th>\n",
       "      <td>82.532258</td>\n",
       "      <td>66.290323</td>\n",
       "      <td>74.629032</td>\n",
       "      <td>2.193548</td>\n",
       "      <td>62.274194</td>\n",
       "      <td>66.709677</td>\n",
       "      <td>0.000000</td>\n",
       "      <td>9.629032</td>\n",
       "      <td>0.268306</td>\n",
       "      <td>29.293387</td>\n",
       "      <td>29.970806</td>\n",
       "      <td>5.987097</td>\n",
       "      <td>16.451613</td>\n",
       "      <td>7.812903</td>\n",
       "      <td>831.161290</td>\n",
       "    </tr>\n",
       "    <tr>\n",
       "      <th>9</th>\n",
       "      <td>74.416667</td>\n",
       "      <td>55.616667</td>\n",
       "      <td>65.250000</td>\n",
       "      <td>0.333333</td>\n",
       "      <td>53.083333</td>\n",
       "      <td>58.166667</td>\n",
       "      <td>3.200000</td>\n",
       "      <td>3.450000</td>\n",
       "      <td>0.087500</td>\n",
       "      <td>29.387833</td>\n",
       "      <td>30.075167</td>\n",
       "      <td>5.828333</td>\n",
       "      <td>21.116667</td>\n",
       "      <td>7.753333</td>\n",
       "      <td>749.566667</td>\n",
       "    </tr>\n",
       "    <tr>\n",
       "      <th>10</th>\n",
       "      <td>61.548387</td>\n",
       "      <td>45.161290</td>\n",
       "      <td>53.661290</td>\n",
       "      <td>0.193548</td>\n",
       "      <td>42.354839</td>\n",
       "      <td>48.258065</td>\n",
       "      <td>11.516129</td>\n",
       "      <td>0.177419</td>\n",
       "      <td>0.099597</td>\n",
       "      <td>29.222258</td>\n",
       "      <td>29.917581</td>\n",
       "      <td>8.438710</td>\n",
       "      <td>21.370968</td>\n",
       "      <td>9.845161</td>\n",
       "      <td>664.354839</td>\n",
       "    </tr>\n",
       "  </tbody>\n",
       "</table>\n",
       "</div>"
      ],
      "text/plain": [
       "                 Tmax       Tmin       Tavg    Depart   DewPoint    WetBulb  \\\n",
       "Year Month                                                                    \n",
       "2007 5      75.758065  53.032258  64.612903  5.258065  45.790323  54.580645   \n",
       "     6      81.433333  62.516667  72.200000  3.333333  56.600000  62.983333   \n",
       "     7      83.177419  64.709677  74.193548  0.677419  58.838710  64.758065   \n",
       "     8      83.048387  67.145161  75.387097  3.322581  64.096774  68.161290   \n",
       "     9      79.200000  58.316667  68.916667  4.433333  53.050000  59.900000   \n",
       "     10     68.387097  50.822581  59.838710  7.129032  47.080645  53.177419   \n",
       "2008 5      66.129032  45.935484  56.322581 -2.935484  42.306452  49.741935   \n",
       "     6      81.016667  61.700000  71.616667  2.866667  57.333333  63.000000   \n",
       "     7      84.112903  64.693548  74.612903  0.935484  60.774194  66.096774   \n",
       "     8      81.774194  64.322581  73.306452  1.193548  59.419355  64.725806   \n",
       "     9      75.383333  58.166667  67.000000  2.500000  56.250000  60.600000   \n",
       "     10     61.870968  44.693548  53.500000  0.709677  40.580645  47.322581   \n",
       "2009 5      70.677419  50.419355  60.758065  1.322581  44.129032  52.193548   \n",
       "     6      77.183333  59.283333  68.516667 -0.366667  55.400000  60.533333   \n",
       "     7      78.629032  61.725806  70.403226 -3.774194  56.129032  62.032258   \n",
       "     8      79.225806  62.677419  71.225806 -1.064516  58.806452  63.596774   \n",
       "     9      74.066667  57.366667  65.983333  1.766667  55.616667  59.883333   \n",
       "     10     55.483871  42.951613  49.483871 -3.032258  41.580645  45.645161   \n",
       "2010 5      71.193548  53.161290  62.419355  3.193548  48.596774  54.854839   \n",
       "     6      80.216667  62.800000  71.800000  3.233333  60.350000  64.650000   \n",
       "     7      87.080645  69.080645  78.354839  4.612903  64.016129  69.064516   \n",
       "     8      85.451613  68.322581  77.112903  5.225806  63.564516  68.403226   \n",
       "     9      74.383333  56.816667  65.833333  1.566667  52.100000  58.033333   \n",
       "     10     66.790323  45.870968  56.612903  4.129032  40.177419  48.483871   \n",
       "2011 5      68.354839  49.193548  59.016129 -0.645161  47.967742  53.112903   \n",
       "     6      79.516667  60.733333  70.366667  1.400000  57.483333  62.666667   \n",
       "     7      88.967742  70.596774  80.064516  6.000000  64.548387  70.048387   \n",
       "     8      82.612903  65.338710  74.258065  2.000000  61.967742  66.516129   \n",
       "     9      70.216667  55.466667  63.050000 -1.400000  52.266667  56.983333   \n",
       "     10     64.887097  45.467742  55.370968  2.967742  42.177419  48.661290   \n",
       "2012 5      75.935484  55.354839  65.887097  7.064516  47.403226  55.983871   \n",
       "     6      84.816667  63.300000  74.316667  6.000000  53.733333  62.433333   \n",
       "     7      91.564516  71.790323  82.000000  8.000000  64.274194  70.306452   \n",
       "     8      84.209677  64.500000  74.580645  1.741935  58.225806  64.580645   \n",
       "     9      74.783333  55.233333  65.316667  0.600000  50.616667  57.083333   \n",
       "     10     60.887097  43.693548  52.500000 -0.419355  40.580645  46.983871   \n",
       "2013 5      71.741935  51.645161  62.000000  2.483871  47.709677  54.419355   \n",
       "     6      78.333333  59.800000  69.300000  0.533333  56.466667  61.550000   \n",
       "     7      82.225806  65.612903  74.129032  0.032258  61.112903  66.032258   \n",
       "     8      82.887097  64.403226  73.919355  1.483871  59.887097  64.548387   \n",
       "     9      77.716667  58.500000  68.400000  3.666667  54.816667  60.333333   \n",
       "     10     62.822581  45.129032  54.209677  1.258065  44.016129  49.177419   \n",
       "2014 5      72.193548  51.564516  62.145161  1.903226  46.596774  53.693548   \n",
       "     6      81.600000  62.350000  72.250000  2.966667  58.050000  63.633333   \n",
       "     7      80.354839  62.370968  71.645161 -2.709677  56.677419  62.790323   \n",
       "     8      82.532258  66.290323  74.629032  2.193548  62.274194  66.709677   \n",
       "     9      74.416667  55.616667  65.250000  0.333333  53.083333  58.166667   \n",
       "     10     61.548387  45.161290  53.661290  0.193548  42.354839  48.258065   \n",
       "\n",
       "                 Heat       Cool  PrecipTotal  StnPressure   SeaLevel  \\\n",
       "Year Month                                                              \n",
       "2007 5       3.483871   3.096774     0.058387    29.390484  30.079194   \n",
       "     6       0.533333   7.733333     0.087333    29.268577  29.935740   \n",
       "     7       0.000000   9.193548     0.112581    29.289355  29.967258   \n",
       "     8       0.016129  10.403226     0.296855    29.290000  29.964355   \n",
       "     9       1.700000   5.616667     0.042417    29.371833  30.056333   \n",
       "     10      7.225806   2.064516     0.055161    29.297097  29.988387   \n",
       "2008 5       8.983871   0.306452     0.129597    29.172258  29.862581   \n",
       "     6       0.083333   6.700000     0.131417    29.199333  29.871000   \n",
       "     7       0.048387   9.661290     0.144758    29.254677  29.930000   \n",
       "     8       0.000000   8.306452     0.072258    29.303710  29.981935   \n",
       "     9       1.466667   3.466667     0.382333    29.393500  30.081833   \n",
       "     10     11.967742   0.467742     0.076129    29.456774  30.158065   \n",
       "2009 5       5.000000   0.758065     0.126935    29.288226  29.978871   \n",
       "     6       2.100000   5.616667     0.214000    29.183577  29.855240   \n",
       "     7       0.225806   5.629032     0.064113    29.256129  29.935161   \n",
       "     8       0.548387   6.774194     0.134355    29.306452  29.986613   \n",
       "     9       1.583333   2.566667     0.034167    29.394833  30.069573   \n",
       "     10     15.516129   0.000000     0.208145    29.265645  29.970806   \n",
       "2010 5       5.596774   3.016129     0.163468    29.278226  29.965484   \n",
       "     6       0.166667   6.966667     0.231333    29.229833  29.905333   \n",
       "     7       0.000000  13.354839     0.310726    29.273226  29.948065   \n",
       "     8       0.000000  12.112903     0.087984    29.274194  29.948065   \n",
       "     9       2.116667   2.950000     0.077583    29.278000  29.961833   \n",
       "     10      8.919355   0.532258     0.050403    29.290000  29.984516   \n",
       "2011 5       8.306452   2.322581     0.199516    29.214194  29.904032   \n",
       "     6       0.950000   6.316667     0.165333    29.215167  29.895000   \n",
       "     7       0.000000  15.064516     0.193468    29.262419  29.932258   \n",
       "     8       0.000000   9.258065     0.131210    29.221452  29.896935   \n",
       "     9       4.516667   2.566667     0.107583    29.297500  29.947552   \n",
       "     10     10.338710   0.709677     0.067903    29.301935  29.999516   \n",
       "2012 5       3.370968   4.258065     0.120403    29.273065  29.957419   \n",
       "     6       0.466667   9.783333     0.032583    29.247500  29.922833   \n",
       "     7       0.000000  17.000000     0.102339    29.269194  29.937581   \n",
       "     8       0.000000   9.580645     0.135161    29.284677  29.948780   \n",
       "     9       3.000000   3.316667     0.056750    29.312667  29.989573   \n",
       "     10     12.645161   0.145161     0.096371    29.245323  29.944032   \n",
       "2013 5       5.806452   2.806452     0.171532    29.268065  29.959032   \n",
       "     6       1.316667   5.616667     0.159083    29.225833  29.905167   \n",
       "     7       0.209677   9.338710     0.055161    29.331613  30.008710   \n",
       "     8       0.032258   8.951613     0.075081    29.339021  30.024032   \n",
       "     9       1.833333   5.233333     0.061750    29.322500  30.005333   \n",
       "     10     11.741935   0.951613     0.133306    29.296613  29.997581   \n",
       "2014 5       5.532258   2.677419     0.152661    29.286129  29.973226   \n",
       "     6       0.233333   7.483333     0.242083    29.229000  29.908000   \n",
       "     7       0.096774   6.741935     0.118468    29.296935  29.961200   \n",
       "     8       0.000000   9.629032     0.268306    29.293387  29.970806   \n",
       "     9       3.200000   3.450000     0.087500    29.387833  30.075167   \n",
       "     10     11.516129   0.177419     0.099597    29.222258  29.917581   \n",
       "\n",
       "            ResultSpeed  ResultDir   AvgSpeed    Daylight  \n",
       "Year Month                                                 \n",
       "2007 5         8.561290  14.612903  10.158065  872.806452  \n",
       "     6         7.130000  14.800000   8.568333  910.333333  \n",
       "     7         6.069355  17.112903   8.091935  893.483871  \n",
       "     8         4.788710  14.080645   6.900000  831.161290  \n",
       "     9         7.121667  16.816667   8.860000  749.566667  \n",
       "     10        8.935484  20.806452  10.066129  664.354839  \n",
       "2008 5         8.293548  16.370968  10.217742  872.806452  \n",
       "     6         7.743333  20.266667   9.346667  910.333333  \n",
       "     7         6.841935  20.532258   8.370968  893.483871  \n",
       "     8         6.011290  15.000000   7.545161  831.161290  \n",
       "     9         5.636667  18.833333   6.836667  749.566667  \n",
       "     10        7.485484  20.903226   8.780645  664.354839  \n",
       "2009 5         7.127419  19.129032   8.862903  872.806452  \n",
       "     6         6.155000  15.116667   7.945000  910.333333  \n",
       "     7         5.812903  21.564516   7.288710  893.483871  \n",
       "     8         7.038710  15.451613   8.500000  831.161290  \n",
       "     9         5.488333  11.066667   6.625000  749.566667  \n",
       "     10        7.683871  19.564516   9.338710  664.354839  \n",
       "2010 5         7.109677  14.048387   9.180645  872.806452  \n",
       "     6         6.021667  17.783333   8.266667  910.333333  \n",
       "     7         6.232258  20.322581   7.861290  893.483871  \n",
       "     8         6.241935  20.129032   7.454839  831.161290  \n",
       "     9         7.441667  18.000000   9.171667  749.566667  \n",
       "     10        7.595161  21.725806   8.995161  664.354839  \n",
       "2011 5         9.211290  11.145161  10.430645  872.806452  \n",
       "     6         7.496667  14.966667   8.993333  910.333333  \n",
       "     7         5.316129  15.370968   7.332258  893.483871  \n",
       "     8         5.159677  16.548387   6.800000  831.161290  \n",
       "     9         7.221667  19.183333   8.591667  749.566667  \n",
       "     10        6.967742  21.725806   7.953226  664.354839  \n",
       "2012 5         7.708065  14.419355   9.622581  872.806452  \n",
       "     6         8.148333  17.600000   9.673333  910.333333  \n",
       "     7         6.353226  16.129032   8.316129  893.483871  \n",
       "     8         5.054839  17.161290   6.762903  831.161290  \n",
       "     9         7.073333  21.950000   8.670000  749.566667  \n",
       "     10        9.650000  22.080645  11.233871  664.354839  \n",
       "2013 5         7.766129  14.241935   9.267742  872.806452  \n",
       "     6         6.923333  13.233333   8.550000  910.333333  \n",
       "     7         6.538710  15.822581   7.867742  893.483871  \n",
       "     8         5.980645  16.677419   7.527419  831.161290  \n",
       "     9         6.951667  17.000000   8.301667  749.566667  \n",
       "     10        7.206452  20.241935   8.400000  664.354839  \n",
       "2014 5         8.290323  14.580645  10.172581  872.806452  \n",
       "     6         7.070000  16.516667   9.376667  910.333333  \n",
       "     7         7.140323  20.000000   8.901613  893.483871  \n",
       "     8         5.987097  16.451613   7.812903  831.161290  \n",
       "     9         5.828333  21.116667   7.753333  749.566667  \n",
       "     10        8.438710  21.370968   9.845161  664.354839  "
      ]
     },
     "execution_count": 11,
     "metadata": {},
     "output_type": "execute_result"
    }
   ],
   "source": [
    "#This is to prepare the data to be merged with train/test data\n",
    "\n",
    "weather_2 = weather.groupby(['Year','Month']).agg({'Tmax':'mean',\n",
    "                                                   'Tmin':'mean', \n",
    "                                                   'Tavg':'mean', \n",
    "                                                   'Depart':'mean', \n",
    "                                                   'DewPoint':'mean',\n",
    "                                                   'WetBulb':'mean',\n",
    "                                                   'Heat': 'mean',\n",
    "                                                   'Cool':'mean',\n",
    "                                                   'PrecipTotal':'mean',\n",
    "                                                   'StnPressure':'mean',\n",
    "                                                   'SeaLevel':'mean',\n",
    "                                                   'ResultSpeed':'mean',\n",
    "                                                   'ResultDir':'mean',\n",
    "                                                   'AvgSpeed':'mean',\n",
    "                                                   'Daylight':'mean'})\n",
    "\n",
    "weather_2"
   ]
  },
  {
   "cell_type": "code",
   "execution_count": 12,
   "metadata": {},
   "outputs": [],
   "source": [
    "weather_2 = weather_2.reset_index()"
   ]
  },
  {
   "cell_type": "code",
   "execution_count": 13,
   "metadata": {},
   "outputs": [
    {
     "data": {
      "text/plain": [
       "<matplotlib.axes._subplots.AxesSubplot at 0x1a19bdc2b0>"
      ]
     },
     "execution_count": 13,
     "metadata": {},
     "output_type": "execute_result"
    },
    {
     "data": {
      "image/png": "[encoded data removed]",
      "text/plain": [
       "<Figure size 1440x1440 with 2 Axes>"
      ]
     },
     "metadata": {
      "needs_background": "light"
     },
     "output_type": "display_data"
    }
   ],
   "source": [
    "#to find out the general correlation between variables first\n",
    "fig, ax = plt.subplots(figsize=(20,20)) \n",
    "ax.set_title('Heat Map for all columns')\n",
    "sns.heatmap(weather_2.corr(), ax = ax, annot=False, annot_kws={\"size\": 10})\n",
    "\n",
    "#Since there are quite a number of correlated variables\n",
    "#Will try to combine them via PCA"
   ]
  },
  {
   "cell_type": "code",
   "execution_count": 14,
   "metadata": {},
   "outputs": [],
   "source": [
    "#1st PCA using these 8 columns\n",
    "COLUMNS = ['Tmax', 'Tmin', 'Tavg', 'Depart','DewPoint', 'WetBulb', 'Heat', 'Cool',]\n",
    "\n",
    "X = weather_2[COLUMNS]"
   ]
  },
  {
   "cell_type": "code",
   "execution_count": 15,
   "metadata": {},
   "outputs": [],
   "source": [
    "from sklearn.preprocessing import StandardScaler\n",
    "\n",
    "ss = StandardScaler()\n",
    "Xn = ss.fit_transform(X)"
   ]
  },
  {
   "cell_type": "code",
   "execution_count": 16,
   "metadata": {},
   "outputs": [
    {
     "data": {
      "text/plain": [
       "PCA(copy=True, iterated_power='auto', n_components=None, random_state=None,\n",
       "  svd_solver='auto', tol=0.0, whiten=False)"
      ]
     },
     "execution_count": 16,
     "metadata": {},
     "output_type": "execute_result"
    }
   ],
   "source": [
    "from sklearn.decomposition import PCA\n",
    "\n",
    "pca = PCA()\n",
    "pca.fit(Xn)"
   ]
  },
  {
   "cell_type": "code",
   "execution_count": 17,
   "metadata": {
    "scrolled": true
   },
   "outputs": [
    {
     "data": {
      "text/plain": [
       "array([[-3.79206845e-01, -3.81892372e-01, -3.83004584e-01,\n",
       "        -1.41829064e-01, -3.70285283e-01, -3.80794968e-01,\n",
       "         3.60213736e-01, -3.62880774e-01],\n",
       "       [-3.74115707e-02,  7.60645396e-02,  1.88172048e-02,\n",
       "        -9.65458839e-01,  1.74305286e-01,  1.01440637e-01,\n",
       "        -1.14330998e-01, -8.12747900e-02],\n",
       "       [-1.42165910e-01,  6.73676808e-02, -3.70368763e-02,\n",
       "        -9.73560264e-02,  1.52349076e-01,  4.45625288e-02,\n",
       "         7.11089630e-01,  6.58449695e-01],\n",
       "       [ 4.76964335e-01, -5.74913326e-02,  2.14187081e-01,\n",
       "        -1.94682684e-01, -7.02221504e-01, -2.65614988e-01,\n",
       "        -6.50411484e-02,  3.42820074e-01],\n",
       "       [ 5.43988958e-01, -7.43247823e-01, -8.78876841e-02,\n",
       "        -1.98349987e-02,  3.27022791e-01,  1.37590906e-01,\n",
       "         1.27610073e-01, -3.71688124e-02],\n",
       "       [ 8.63101003e-02,  7.13058183e-02,  9.49376089e-02,\n",
       "         8.27711292e-04,  4.57322318e-01, -8.67784474e-01,\n",
       "        -1.00593895e-01,  7.83548621e-02],\n",
       "       [ 5.51110697e-01,  5.32002723e-01, -3.85300275e-01,\n",
       "        -3.03594240e-04,  9.67402002e-03, -1.36637257e-02,\n",
       "         3.69611811e-01, -3.57631839e-01],\n",
       "       [ 5.93487467e-15,  5.53134031e-15,  8.00319854e-01,\n",
       "        -2.22494989e-16,  2.94935996e-16, -8.93600871e-16,\n",
       "         4.29277673e-01, -4.18579515e-01]])"
      ]
     },
     "execution_count": 17,
     "metadata": {},
     "output_type": "execute_result"
    }
   ],
   "source": [
    "pca.components_"
   ]
  },
  {
   "cell_type": "code",
   "execution_count": 18,
   "metadata": {},
   "outputs": [
    {
     "data": {
      "text/plain": [
       "Tmax       -0.379207\n",
       "Tmin       -0.381892\n",
       "Tavg       -0.383005\n",
       "Depart     -0.141829\n",
       "DewPoint   -0.370285\n",
       "WetBulb    -0.380795\n",
       "Heat        0.360214\n",
       "Cool       -0.362881\n",
       "dtype: float64"
      ]
     },
     "execution_count": 18,
     "metadata": {},
     "output_type": "execute_result"
    }
   ],
   "source": [
    "pc1_ev = pca.components_[0]\n",
    "pc2_ev = pca.components_[1]\n",
    "# Quick way of viewing, rather than looping through each feature\n",
    "pd.Series(pc1_ev, index=COLUMNS)"
   ]
  },
  {
   "cell_type": "code",
   "execution_count": 19,
   "metadata": {
    "scrolled": true
   },
   "outputs": [
    {
     "data": {
      "text/html": [
       "<div>\n",
       "<style scoped>\n",
       "    .dataframe tbody tr th:only-of-type {\n",
       "        vertical-align: middle;\n",
       "    }\n",
       "\n",
       "    .dataframe tbody tr th {\n",
       "        vertical-align: top;\n",
       "    }\n",
       "\n",
       "    .dataframe thead th {\n",
       "        text-align: right;\n",
       "    }\n",
       "</style>\n",
       "<table border=\"1\" class=\"dataframe\">\n",
       "  <thead>\n",
       "    <tr style=\"text-align: right;\">\n",
       "      <th></th>\n",
       "      <th>PC1</th>\n",
       "      <th>PC2</th>\n",
       "      <th>PC3</th>\n",
       "      <th>PC4</th>\n",
       "      <th>PC5</th>\n",
       "      <th>PC6</th>\n",
       "      <th>PC7</th>\n",
       "      <th>PC8</th>\n",
       "    </tr>\n",
       "  </thead>\n",
       "  <tbody>\n",
       "    <tr>\n",
       "      <th>0</th>\n",
       "      <td>1.086340</td>\n",
       "      <td>-1.459570</td>\n",
       "      <td>-0.720604</td>\n",
       "      <td>0.397507</td>\n",
       "      <td>0.019844</td>\n",
       "      <td>-0.001802</td>\n",
       "      <td>0.003064</td>\n",
       "      <td>-3.425441e-16</td>\n",
       "    </tr>\n",
       "    <tr>\n",
       "      <th>1</th>\n",
       "      <td>-1.578003</td>\n",
       "      <td>-0.305570</td>\n",
       "      <td>-0.182808</td>\n",
       "      <td>0.088265</td>\n",
       "      <td>-0.046072</td>\n",
       "      <td>-0.007905</td>\n",
       "      <td>0.003293</td>\n",
       "      <td>3.300994e-16</td>\n",
       "    </tr>\n",
       "    <tr>\n",
       "      <th>2</th>\n",
       "      <td>-2.106591</td>\n",
       "      <td>0.745860</td>\n",
       "      <td>0.094519</td>\n",
       "      <td>0.272782</td>\n",
       "      <td>-0.032088</td>\n",
       "      <td>0.006640</td>\n",
       "      <td>0.000941</td>\n",
       "      <td>-3.106902e-16</td>\n",
       "    </tr>\n",
       "    <tr>\n",
       "      <th>3</th>\n",
       "      <td>-2.977264</td>\n",
       "      <td>-0.041406</td>\n",
       "      <td>0.341098</td>\n",
       "      <td>-0.446962</td>\n",
       "      <td>-0.013494</td>\n",
       "      <td>-0.043242</td>\n",
       "      <td>-0.004782</td>\n",
       "      <td>2.654493e-16</td>\n",
       "    </tr>\n",
       "    <tr>\n",
       "      <th>4</th>\n",
       "      <td>-0.532294</td>\n",
       "      <td>-0.864356</td>\n",
       "      <td>-0.439337</td>\n",
       "      <td>0.080195</td>\n",
       "      <td>0.063336</td>\n",
       "      <td>-0.003808</td>\n",
       "      <td>0.012264</td>\n",
       "      <td>5.397817e-16</td>\n",
       "    </tr>\n",
       "  </tbody>\n",
       "</table>\n",
       "</div>"
      ],
      "text/plain": [
       "        PC1       PC2       PC3       PC4       PC5       PC6       PC7  \\\n",
       "0  1.086340 -1.459570 -0.720604  0.397507  0.019844 -0.001802  0.003064   \n",
       "1 -1.578003 -0.305570 -0.182808  0.088265 -0.046072 -0.007905  0.003293   \n",
       "2 -2.106591  0.745860  0.094519  0.272782 -0.032088  0.006640  0.000941   \n",
       "3 -2.977264 -0.041406  0.341098 -0.446962 -0.013494 -0.043242 -0.004782   \n",
       "4 -0.532294 -0.864356 -0.439337  0.080195  0.063336 -0.003808  0.012264   \n",
       "\n",
       "            PC8  \n",
       "0 -3.425441e-16  \n",
       "1  3.300994e-16  \n",
       "2 -3.106902e-16  \n",
       "3  2.654493e-16  \n",
       "4  5.397817e-16  "
      ]
     },
     "execution_count": 19,
     "metadata": {},
     "output_type": "execute_result"
    }
   ],
   "source": [
    "weather_pca = pca.transform(Xn)\n",
    "weather_pca = pd.DataFrame(weather_pca, \n",
    "                       columns=['PC'+str(i+1) for i in range(len(COLUMNS))],\n",
    "                       index=weather_2.index)\n",
    "weather_pca.head()"
   ]
  },
  {
   "cell_type": "code",
   "execution_count": 20,
   "metadata": {},
   "outputs": [
    {
     "data": {
      "text/plain": [
       "array([8.48745757e-01, 1.15154603e-01, 2.63343108e-02, 8.97951834e-03,\n",
       "       7.25752155e-04, 5.74573830e-05, 2.60079795e-06, 1.63684427e-32])"
      ]
     },
     "execution_count": 20,
     "metadata": {},
     "output_type": "execute_result"
    }
   ],
   "source": [
    "exp_var = pca.explained_variance_ratio_\n",
    "exp_var"
   ]
  },
  {
   "cell_type": "code",
   "execution_count": 21,
   "metadata": {},
   "outputs": [
    {
     "data": {
      "text/plain": [
       "Text(0, 0.5, 'cumulative % of explained variance')"
      ]
     },
     "execution_count": 21,
     "metadata": {},
     "output_type": "execute_result"
    },
    {
     "data": {
      "image/png": "[encoded data removed]",
      "text/plain": [
       "<Figure size 432x288 with 1 Axes>"
      ]
     },
     "metadata": {
      "needs_background": "light"
     },
     "output_type": "display_data"
    }
   ],
   "source": [
    "for i in range(1,len(pca.explained_variance_ratio_)):\n",
    "    plt.scatter(i, sum(pca.explained_variance_ratio_[:i]), s=80)\n",
    "plt.xlabel(\"# of components\")\n",
    "plt.ylabel('cumulative % of explained variance')\n",
    "\n",
    "#The first two PC, PC1 and PC2 amounts to more than 95% of the information stored"
   ]
  },
  {
   "cell_type": "code",
   "execution_count": 22,
   "metadata": {},
   "outputs": [
    {
     "data": {
      "text/html": [
       "<div>\n",
       "<style scoped>\n",
       "    .dataframe tbody tr th:only-of-type {\n",
       "        vertical-align: middle;\n",
       "    }\n",
       "\n",
       "    .dataframe tbody tr th {\n",
       "        vertical-align: top;\n",
       "    }\n",
       "\n",
       "    .dataframe thead th {\n",
       "        text-align: right;\n",
       "    }\n",
       "</style>\n",
       "<table border=\"1\" class=\"dataframe\">\n",
       "  <thead>\n",
       "    <tr style=\"text-align: right;\">\n",
       "      <th></th>\n",
       "      <th>PC1</th>\n",
       "      <th>PC2</th>\n",
       "    </tr>\n",
       "  </thead>\n",
       "  <tbody>\n",
       "    <tr>\n",
       "      <th>Tmax</th>\n",
       "      <td>-0.379207</td>\n",
       "      <td>-0.037412</td>\n",
       "    </tr>\n",
       "    <tr>\n",
       "      <th>Tmin</th>\n",
       "      <td>-0.381892</td>\n",
       "      <td>0.076065</td>\n",
       "    </tr>\n",
       "    <tr>\n",
       "      <th>Tavg</th>\n",
       "      <td>-0.383005</td>\n",
       "      <td>0.018817</td>\n",
       "    </tr>\n",
       "    <tr>\n",
       "      <th>Depart</th>\n",
       "      <td>-0.141829</td>\n",
       "      <td>-0.965459</td>\n",
       "    </tr>\n",
       "    <tr>\n",
       "      <th>DewPoint</th>\n",
       "      <td>-0.370285</td>\n",
       "      <td>0.174305</td>\n",
       "    </tr>\n",
       "    <tr>\n",
       "      <th>WetBulb</th>\n",
       "      <td>-0.380795</td>\n",
       "      <td>0.101441</td>\n",
       "    </tr>\n",
       "    <tr>\n",
       "      <th>Heat</th>\n",
       "      <td>0.360214</td>\n",
       "      <td>-0.114331</td>\n",
       "    </tr>\n",
       "    <tr>\n",
       "      <th>Cool</th>\n",
       "      <td>-0.362881</td>\n",
       "      <td>-0.081275</td>\n",
       "    </tr>\n",
       "  </tbody>\n",
       "</table>\n",
       "</div>"
      ],
      "text/plain": [
       "               PC1       PC2\n",
       "Tmax     -0.379207 -0.037412\n",
       "Tmin     -0.381892  0.076065\n",
       "Tavg     -0.383005  0.018817\n",
       "Depart   -0.141829 -0.965459\n",
       "DewPoint -0.370285  0.174305\n",
       "WetBulb  -0.380795  0.101441\n",
       "Heat      0.360214 -0.114331\n",
       "Cool     -0.362881 -0.081275"
      ]
     },
     "execution_count": 22,
     "metadata": {},
     "output_type": "execute_result"
    }
   ],
   "source": [
    "pd.DataFrame({'PC1': pc1_ev, 'PC2': pc2_ev},\n",
    "             index=COLUMNS)"
   ]
  },
  {
   "cell_type": "code",
   "execution_count": 23,
   "metadata": {},
   "outputs": [
    {
     "data": {
      "image/png": "[encoded data removed]",
      "text/plain": [
       "<Figure size 720x576 with 1 Axes>"
      ]
     },
     "metadata": {
      "needs_background": "light"
     },
     "output_type": "display_data"
    }
   ],
   "source": [
    "fig, ax = plt.subplots(figsize=(10,8))\n",
    "ax.scatter(weather_pca.PC1.values, weather_pca.PC2.values, alpha=0.4)\n",
    "\n",
    "ax.set_title('PC1 vs. PC2')\n",
    "ax.set_xlabel('principal component 1')\n",
    "ax.set_ylabel('principal component 2')\n",
    "plt.show()"
   ]
  },
  {
   "cell_type": "code",
   "execution_count": 24,
   "metadata": {},
   "outputs": [],
   "source": [
    "#2st PCA using these 5 columns\n",
    "COLUMNS2 = ['PrecipTotal', 'StnPressure', 'SeaLevel', 'ResultSpeed', 'ResultDir','AvgSpeed']\n",
    "\n",
    "X2 = weather_2[COLUMNS2]"
   ]
  },
  {
   "cell_type": "code",
   "execution_count": 25,
   "metadata": {},
   "outputs": [
    {
     "data": {
      "text/plain": [
       "PCA(copy=True, iterated_power='auto', n_components=None, random_state=None,\n",
       "  svd_solver='auto', tol=0.0, whiten=False)"
      ]
     },
     "execution_count": 25,
     "metadata": {},
     "output_type": "execute_result"
    }
   ],
   "source": [
    "ss = StandardScaler()\n",
    "X2n = ss.fit_transform(X2)\n",
    "\n",
    "pca2 = PCA()\n",
    "pca2.fit(X2n)"
   ]
  },
  {
   "cell_type": "code",
   "execution_count": 26,
   "metadata": {},
   "outputs": [
    {
     "data": {
      "text/plain": [
       "PrecipTotal   -0.016251\n",
       "StnPressure    0.533180\n",
       "SeaLevel       0.494408\n",
       "ResultSpeed   -0.464062\n",
       "ResultDir      0.015601\n",
       "AvgSpeed      -0.505389\n",
       "dtype: float64"
      ]
     },
     "execution_count": 26,
     "metadata": {},
     "output_type": "execute_result"
    }
   ],
   "source": [
    "pc1_ev_2 = pca2.components_[0]\n",
    "pc2_ev_2 = pca2.components_[1]\n",
    "pc3_ev_2 = pca2.components_[2]\n",
    "# Quick way of viewing, rather than looping through each feature\n",
    "pd.Series(pc1_ev_2, index=COLUMNS2)"
   ]
  },
  {
   "cell_type": "code",
   "execution_count": 27,
   "metadata": {},
   "outputs": [
    {
     "data": {
      "text/html": [
       "<div>\n",
       "<style scoped>\n",
       "    .dataframe tbody tr th:only-of-type {\n",
       "        vertical-align: middle;\n",
       "    }\n",
       "\n",
       "    .dataframe tbody tr th {\n",
       "        vertical-align: top;\n",
       "    }\n",
       "\n",
       "    .dataframe thead th {\n",
       "        text-align: right;\n",
       "    }\n",
       "</style>\n",
       "<table border=\"1\" class=\"dataframe\">\n",
       "  <thead>\n",
       "    <tr style=\"text-align: right;\">\n",
       "      <th></th>\n",
       "      <th>PC1</th>\n",
       "      <th>PC2</th>\n",
       "      <th>PC3</th>\n",
       "      <th>PC4</th>\n",
       "      <th>PC5</th>\n",
       "      <th>PC6</th>\n",
       "    </tr>\n",
       "  </thead>\n",
       "  <tbody>\n",
       "    <tr>\n",
       "      <th>0</th>\n",
       "      <td>0.489807</td>\n",
       "      <td>2.961671</td>\n",
       "      <td>2.040255</td>\n",
       "      <td>0.297163</td>\n",
       "      <td>-0.127669</td>\n",
       "      <td>0.065849</td>\n",
       "    </tr>\n",
       "    <tr>\n",
       "      <th>1</th>\n",
       "      <td>-0.473280</td>\n",
       "      <td>-0.221587</td>\n",
       "      <td>0.679108</td>\n",
       "      <td>-0.883098</td>\n",
       "      <td>0.115408</td>\n",
       "      <td>0.138087</td>\n",
       "    </tr>\n",
       "    <tr>\n",
       "      <th>2</th>\n",
       "      <td>0.664262</td>\n",
       "      <td>-0.437710</td>\n",
       "      <td>-0.103607</td>\n",
       "      <td>-0.485611</td>\n",
       "      <td>-0.269077</td>\n",
       "      <td>-0.041264</td>\n",
       "    </tr>\n",
       "    <tr>\n",
       "      <th>3</th>\n",
       "      <td>1.700944</td>\n",
       "      <td>-2.880404</td>\n",
       "      <td>0.686141</td>\n",
       "      <td>0.861336</td>\n",
       "      <td>-0.159050</td>\n",
       "      <td>-0.034216</td>\n",
       "    </tr>\n",
       "    <tr>\n",
       "      <th>4</th>\n",
       "      <td>1.370244</td>\n",
       "      <td>1.877993</td>\n",
       "      <td>0.736614</td>\n",
       "      <td>-0.360015</td>\n",
       "      <td>-0.213333</td>\n",
       "      <td>0.002266</td>\n",
       "    </tr>\n",
       "  </tbody>\n",
       "</table>\n",
       "</div>"
      ],
      "text/plain": [
       "        PC1       PC2       PC3       PC4       PC5       PC6\n",
       "0  0.489807  2.961671  2.040255  0.297163 -0.127669  0.065849\n",
       "1 -0.473280 -0.221587  0.679108 -0.883098  0.115408  0.138087\n",
       "2  0.664262 -0.437710 -0.103607 -0.485611 -0.269077 -0.041264\n",
       "3  1.700944 -2.880404  0.686141  0.861336 -0.159050 -0.034216\n",
       "4  1.370244  1.877993  0.736614 -0.360015 -0.213333  0.002266"
      ]
     },
     "execution_count": 27,
     "metadata": {},
     "output_type": "execute_result"
    }
   ],
   "source": [
    "weather_pca2 = pca2.transform(X2n)\n",
    "weather_pca2 = pd.DataFrame(weather_pca2, \n",
    "                       columns=['PC'+str(i+1) for i in range(len(COLUMNS2))],\n",
    "                       index=weather_2.index)\n",
    "weather_pca2.head()"
   ]
  },
  {
   "cell_type": "code",
   "execution_count": 28,
   "metadata": {},
   "outputs": [
    {
     "data": {
      "text/plain": [
       "array([0.39275804, 0.32258355, 0.15673964, 0.12107136, 0.00518169,\n",
       "       0.00166572])"
      ]
     },
     "execution_count": 28,
     "metadata": {},
     "output_type": "execute_result"
    }
   ],
   "source": [
    "exp_var2 = pca2.explained_variance_ratio_\n",
    "exp_var2"
   ]
  },
  {
   "cell_type": "code",
   "execution_count": 29,
   "metadata": {},
   "outputs": [
    {
     "data": {
      "text/plain": [
       "Text(0, 0.5, 'cumulative % of explained variance')"
      ]
     },
     "execution_count": 29,
     "metadata": {},
     "output_type": "execute_result"
    },
    {
     "data": {
      "image/png": "[encoded data removed]",
      "text/plain": [
       "<Figure size 432x288 with 1 Axes>"
      ]
     },
     "metadata": {
      "needs_background": "light"
     },
     "output_type": "display_data"
    }
   ],
   "source": [
    "for i in range(1,len(pca2.explained_variance_ratio_)):\n",
    "    plt.scatter(i, sum(pca2.explained_variance_ratio_[:i]), s=80)\n",
    "plt.xlabel(\"# of components\")\n",
    "plt.ylabel('cumulative % of explained variance')\n",
    "\n",
    "#The first 3 PCs, PC1,PC2,PC3 amounts to more than 80% of the information stored"
   ]
  },
  {
   "cell_type": "code",
   "execution_count": 30,
   "metadata": {},
   "outputs": [
    {
     "data": {
      "text/html": [
       "<div>\n",
       "<style scoped>\n",
       "    .dataframe tbody tr th:only-of-type {\n",
       "        vertical-align: middle;\n",
       "    }\n",
       "\n",
       "    .dataframe tbody tr th {\n",
       "        vertical-align: top;\n",
       "    }\n",
       "\n",
       "    .dataframe thead th {\n",
       "        text-align: right;\n",
       "    }\n",
       "</style>\n",
       "<table border=\"1\" class=\"dataframe\">\n",
       "  <thead>\n",
       "    <tr style=\"text-align: right;\">\n",
       "      <th></th>\n",
       "      <th>PC1</th>\n",
       "      <th>PC2</th>\n",
       "      <th>PC3</th>\n",
       "    </tr>\n",
       "  </thead>\n",
       "  <tbody>\n",
       "    <tr>\n",
       "      <th>PrecipTotal</th>\n",
       "      <td>-0.016251</td>\n",
       "      <td>-0.475389</td>\n",
       "      <td>0.099707</td>\n",
       "    </tr>\n",
       "    <tr>\n",
       "      <th>StnPressure</th>\n",
       "      <td>0.533180</td>\n",
       "      <td>0.374020</td>\n",
       "      <td>0.185248</td>\n",
       "    </tr>\n",
       "    <tr>\n",
       "      <th>SeaLevel</th>\n",
       "      <td>0.494408</td>\n",
       "      <td>0.422302</td>\n",
       "      <td>0.184081</td>\n",
       "    </tr>\n",
       "    <tr>\n",
       "      <th>ResultSpeed</th>\n",
       "      <td>-0.464062</td>\n",
       "      <td>0.469948</td>\n",
       "      <td>0.160427</td>\n",
       "    </tr>\n",
       "    <tr>\n",
       "      <th>ResultDir</th>\n",
       "      <td>0.015601</td>\n",
       "      <td>0.273823</td>\n",
       "      <td>-0.926035</td>\n",
       "    </tr>\n",
       "    <tr>\n",
       "      <th>AvgSpeed</th>\n",
       "      <td>-0.505389</td>\n",
       "      <td>0.399932</td>\n",
       "      <td>0.196416</td>\n",
       "    </tr>\n",
       "  </tbody>\n",
       "</table>\n",
       "</div>"
      ],
      "text/plain": [
       "                  PC1       PC2       PC3\n",
       "PrecipTotal -0.016251 -0.475389  0.099707\n",
       "StnPressure  0.533180  0.374020  0.185248\n",
       "SeaLevel     0.494408  0.422302  0.184081\n",
       "ResultSpeed -0.464062  0.469948  0.160427\n",
       "ResultDir    0.015601  0.273823 -0.926035\n",
       "AvgSpeed    -0.505389  0.399932  0.196416"
      ]
     },
     "execution_count": 30,
     "metadata": {},
     "output_type": "execute_result"
    }
   ],
   "source": [
    "pd.DataFrame({'PC1': pc1_ev_2, 'PC2': pc2_ev_2, 'PC3':pc3_ev_2},\n",
    "             index=COLUMNS2)"
   ]
  },
  {
   "cell_type": "code",
   "execution_count": 31,
   "metadata": {},
   "outputs": [
    {
     "data": {
      "image/png": "[encoded data removed]",
      "text/plain": [
       "<Figure size 720x576 with 1 Axes>"
      ]
     },
     "metadata": {
      "needs_background": "light"
     },
     "output_type": "display_data"
    }
   ],
   "source": [
    "fig, ax = plt.subplots(figsize=(10,8))\n",
    "ax.scatter(weather_pca2.PC1.values, weather_pca2.PC2.values, alpha=0.4)\n",
    "\n",
    "ax.set_title('PC1 vs. PC2')\n",
    "ax.set_xlabel('principal component 1')\n",
    "ax.set_ylabel('principal component 2')\n",
    "plt.show()"
   ]
  },
  {
   "cell_type": "code",
   "execution_count": 32,
   "metadata": {},
   "outputs": [],
   "source": [
    "#merging the data back together with weather\n",
    "weather_2 = weather_2.drop(COLUMNS,axis=1)\n",
    "weather_2 = weather_2.drop(COLUMNS2,axis=1)"
   ]
  },
  {
   "cell_type": "code",
   "execution_count": 33,
   "metadata": {
    "scrolled": true
   },
   "outputs": [],
   "source": [
    "weather_2 = pd.concat([weather_2, weather_pca[['PC1','PC2']]],axis=1)\n",
    "weather_2 = pd.concat([weather_2, weather_pca2[['PC1','PC2']]],axis=1)"
   ]
  },
  {
   "cell_type": "code",
   "execution_count": 34,
   "metadata": {},
   "outputs": [],
   "source": [
    "weather_2.columns = ['Year', 'Month', 'Daylight', 'PC1', 'PC2', 'PC1y', 'PC2y']"
   ]
  },
  {
   "cell_type": "code",
   "execution_count": 35,
   "metadata": {
    "scrolled": true
   },
   "outputs": [
    {
     "data": {
      "text/html": [
       "<div>\n",
       "<style scoped>\n",
       "    .dataframe tbody tr th:only-of-type {\n",
       "        vertical-align: middle;\n",
       "    }\n",
       "\n",
       "    .dataframe tbody tr th {\n",
       "        vertical-align: top;\n",
       "    }\n",
       "\n",
       "    .dataframe thead th {\n",
       "        text-align: right;\n",
       "    }\n",
       "</style>\n",
       "<table border=\"1\" class=\"dataframe\">\n",
       "  <thead>\n",
       "    <tr style=\"text-align: right;\">\n",
       "      <th></th>\n",
       "      <th>Year</th>\n",
       "      <th>Month</th>\n",
       "      <th>Daylight</th>\n",
       "      <th>PC1</th>\n",
       "      <th>PC2</th>\n",
       "      <th>PC1y</th>\n",
       "      <th>PC2y</th>\n",
       "    </tr>\n",
       "  </thead>\n",
       "  <tbody>\n",
       "    <tr>\n",
       "      <th>0</th>\n",
       "      <td>2007</td>\n",
       "      <td>5</td>\n",
       "      <td>872.806452</td>\n",
       "      <td>1.086340</td>\n",
       "      <td>-1.45957</td>\n",
       "      <td>0.489807</td>\n",
       "      <td>2.961671</td>\n",
       "    </tr>\n",
       "    <tr>\n",
       "      <th>1</th>\n",
       "      <td>2007</td>\n",
       "      <td>6</td>\n",
       "      <td>910.333333</td>\n",
       "      <td>-1.578003</td>\n",
       "      <td>-0.30557</td>\n",
       "      <td>-0.473280</td>\n",
       "      <td>-0.221587</td>\n",
       "    </tr>\n",
       "  </tbody>\n",
       "</table>\n",
       "</div>"
      ],
      "text/plain": [
       "   Year  Month    Daylight       PC1      PC2      PC1y      PC2y\n",
       "0  2007      5  872.806452  1.086340 -1.45957  0.489807  2.961671\n",
       "1  2007      6  910.333333 -1.578003 -0.30557 -0.473280 -0.221587"
      ]
     },
     "execution_count": 35,
     "metadata": {},
     "output_type": "execute_result"
    }
   ],
   "source": [
    "weather_2.head(2)"
   ]
  },
  {
   "cell_type": "markdown",
   "metadata": {},
   "source": [
    "### Re-doing the preprocessing for train/test data as well to fit this weather data"
   ]
  },
  {
   "cell_type": "code",
   "execution_count": 36,
   "metadata": {},
   "outputs": [],
   "source": [
    "train = pd.read_csv('../assets/train.csv')\n",
    "test = pd.read_csv('../assets/test.csv')"
   ]
  },
  {
   "cell_type": "code",
   "execution_count": 37,
   "metadata": {},
   "outputs": [],
   "source": [
    "test = test.drop(['Id'], axis=1)"
   ]
  },
  {
   "cell_type": "code",
   "execution_count": 38,
   "metadata": {
    "scrolled": true
   },
   "outputs": [
    {
     "name": "stdout",
     "output_type": "stream",
     "text": [
      "(10506, 12)\n",
      "(116293, 10)\n"
     ]
    }
   ],
   "source": [
    "#checking the shape of both files\n",
    "print(train.shape)\n",
    "print(test.shape)"
   ]
  },
  {
   "cell_type": "code",
   "execution_count": 39,
   "metadata": {},
   "outputs": [
    {
     "data": {
      "text/html": [
       "<div>\n",
       "<style scoped>\n",
       "    .dataframe tbody tr th:only-of-type {\n",
       "        vertical-align: middle;\n",
       "    }\n",
       "\n",
       "    .dataframe tbody tr th {\n",
       "        vertical-align: top;\n",
       "    }\n",
       "\n",
       "    .dataframe thead th {\n",
       "        text-align: right;\n",
       "    }\n",
       "</style>\n",
       "<table border=\"1\" class=\"dataframe\">\n",
       "  <thead>\n",
       "    <tr style=\"text-align: right;\">\n",
       "      <th></th>\n",
       "      <th>Date</th>\n",
       "      <th>Address</th>\n",
       "      <th>Species</th>\n",
       "      <th>Block</th>\n",
       "      <th>Street</th>\n",
       "      <th>Trap</th>\n",
       "      <th>AddressNumberAndStreet</th>\n",
       "      <th>Latitude</th>\n",
       "      <th>Longitude</th>\n",
       "      <th>AddressAccuracy</th>\n",
       "      <th>NumMosquitos</th>\n",
       "      <th>WnvPresent</th>\n",
       "    </tr>\n",
       "  </thead>\n",
       "  <tbody>\n",
       "    <tr>\n",
       "      <th>0</th>\n",
       "      <td>2007-05-29</td>\n",
       "      <td>4100 North Oak Park Avenue, Chicago, IL 60634,...</td>\n",
       "      <td>CULEX PIPIENS/RESTUANS</td>\n",
       "      <td>41</td>\n",
       "      <td>N OAK PARK AVE</td>\n",
       "      <td>T002</td>\n",
       "      <td>4100  N OAK PARK AVE, Chicago, IL</td>\n",
       "      <td>41.95469</td>\n",
       "      <td>-87.800991</td>\n",
       "      <td>9</td>\n",
       "      <td>1</td>\n",
       "      <td>0</td>\n",
       "    </tr>\n",
       "    <tr>\n",
       "      <th>1</th>\n",
       "      <td>2007-05-29</td>\n",
       "      <td>4100 North Oak Park Avenue, Chicago, IL 60634,...</td>\n",
       "      <td>CULEX RESTUANS</td>\n",
       "      <td>41</td>\n",
       "      <td>N OAK PARK AVE</td>\n",
       "      <td>T002</td>\n",
       "      <td>4100  N OAK PARK AVE, Chicago, IL</td>\n",
       "      <td>41.95469</td>\n",
       "      <td>-87.800991</td>\n",
       "      <td>9</td>\n",
       "      <td>1</td>\n",
       "      <td>0</td>\n",
       "    </tr>\n",
       "  </tbody>\n",
       "</table>\n",
       "</div>"
      ],
      "text/plain": [
       "         Date                                            Address  \\\n",
       "0  2007-05-29  4100 North Oak Park Avenue, Chicago, IL 60634,...   \n",
       "1  2007-05-29  4100 North Oak Park Avenue, Chicago, IL 60634,...   \n",
       "\n",
       "                  Species  Block           Street  Trap  \\\n",
       "0  CULEX PIPIENS/RESTUANS     41   N OAK PARK AVE  T002   \n",
       "1          CULEX RESTUANS     41   N OAK PARK AVE  T002   \n",
       "\n",
       "              AddressNumberAndStreet  Latitude  Longitude  AddressAccuracy  \\\n",
       "0  4100  N OAK PARK AVE, Chicago, IL  41.95469 -87.800991                9   \n",
       "1  4100  N OAK PARK AVE, Chicago, IL  41.95469 -87.800991                9   \n",
       "\n",
       "   NumMosquitos  WnvPresent  \n",
       "0             1           0  \n",
       "1             1           0  "
      ]
     },
     "execution_count": 39,
     "metadata": {},
     "output_type": "execute_result"
    }
   ],
   "source": [
    "train.head(2)"
   ]
  },
  {
   "cell_type": "code",
   "execution_count": 40,
   "metadata": {},
   "outputs": [],
   "source": [
    "#change Species into dummy variables\n",
    "column = ['Species']\n",
    "\n",
    "train_explore = pd.get_dummies(data = train, prefix=column, columns = column, drop_first=True)"
   ]
  },
  {
   "cell_type": "code",
   "execution_count": 41,
   "metadata": {},
   "outputs": [
    {
     "data": {
      "text/html": [
       "<div>\n",
       "<style scoped>\n",
       "    .dataframe tbody tr th:only-of-type {\n",
       "        vertical-align: middle;\n",
       "    }\n",
       "\n",
       "    .dataframe tbody tr th {\n",
       "        vertical-align: top;\n",
       "    }\n",
       "\n",
       "    .dataframe thead th {\n",
       "        text-align: right;\n",
       "    }\n",
       "</style>\n",
       "<table border=\"1\" class=\"dataframe\">\n",
       "  <thead>\n",
       "    <tr style=\"text-align: right;\">\n",
       "      <th></th>\n",
       "      <th>Block</th>\n",
       "      <th>Latitude</th>\n",
       "      <th>Longitude</th>\n",
       "      <th>AddressAccuracy</th>\n",
       "      <th>NumMosquitos</th>\n",
       "      <th>Species_CULEX PIPIENS</th>\n",
       "      <th>Species_CULEX PIPIENS/RESTUANS</th>\n",
       "      <th>Species_CULEX RESTUANS</th>\n",
       "      <th>Species_CULEX SALINARIUS</th>\n",
       "      <th>Species_CULEX TARSALIS</th>\n",
       "      <th>Species_CULEX TERRITANS</th>\n",
       "    </tr>\n",
       "    <tr>\n",
       "      <th>WnvPresent</th>\n",
       "      <th></th>\n",
       "      <th></th>\n",
       "      <th></th>\n",
       "      <th></th>\n",
       "      <th></th>\n",
       "      <th></th>\n",
       "      <th></th>\n",
       "      <th></th>\n",
       "      <th></th>\n",
       "      <th></th>\n",
       "      <th></th>\n",
       "    </tr>\n",
       "  </thead>\n",
       "  <tbody>\n",
       "    <tr>\n",
       "      <th>0</th>\n",
       "      <td>354994</td>\n",
       "      <td>416520.964695</td>\n",
       "      <td>-873038.944137</td>\n",
       "      <td>77816</td>\n",
       "      <td>120520</td>\n",
       "      <td>2459.0</td>\n",
       "      <td>4490.0</td>\n",
       "      <td>2691.0</td>\n",
       "      <td>86.0</td>\n",
       "      <td>6.0</td>\n",
       "      <td>222.0</td>\n",
       "    </tr>\n",
       "    <tr>\n",
       "      <th>1</th>\n",
       "      <td>19942</td>\n",
       "      <td>23062.044683</td>\n",
       "      <td>-48336.289135</td>\n",
       "      <td>4336</td>\n",
       "      <td>14519</td>\n",
       "      <td>240.0</td>\n",
       "      <td>262.0</td>\n",
       "      <td>49.0</td>\n",
       "      <td>0.0</td>\n",
       "      <td>0.0</td>\n",
       "      <td>0.0</td>\n",
       "    </tr>\n",
       "  </tbody>\n",
       "</table>\n",
       "</div>"
      ],
      "text/plain": [
       "             Block       Latitude      Longitude  AddressAccuracy  \\\n",
       "WnvPresent                                                          \n",
       "0           354994  416520.964695 -873038.944137            77816   \n",
       "1            19942   23062.044683  -48336.289135             4336   \n",
       "\n",
       "            NumMosquitos  Species_CULEX PIPIENS  \\\n",
       "WnvPresent                                        \n",
       "0                 120520                 2459.0   \n",
       "1                  14519                  240.0   \n",
       "\n",
       "            Species_CULEX PIPIENS/RESTUANS  Species_CULEX RESTUANS  \\\n",
       "WnvPresent                                                           \n",
       "0                                   4490.0                  2691.0   \n",
       "1                                    262.0                    49.0   \n",
       "\n",
       "            Species_CULEX SALINARIUS  Species_CULEX TARSALIS  \\\n",
       "WnvPresent                                                     \n",
       "0                               86.0                     6.0   \n",
       "1                                0.0                     0.0   \n",
       "\n",
       "            Species_CULEX TERRITANS  \n",
       "WnvPresent                           \n",
       "0                             222.0  \n",
       "1                               0.0  "
      ]
     },
     "execution_count": 41,
     "metadata": {},
     "output_type": "execute_result"
    }
   ],
   "source": [
    "train_explore.groupby(['WnvPresent']).sum()\n",
    "\n",
    "#~10% of the Mosquitos carry the virus"
   ]
  },
  {
   "cell_type": "code",
   "execution_count": 42,
   "metadata": {},
   "outputs": [],
   "source": [
    "combined = pd.merge(train,test,how='outer')"
   ]
  },
  {
   "cell_type": "code",
   "execution_count": 43,
   "metadata": {},
   "outputs": [
    {
     "data": {
      "text/plain": [
       "(126799, 12)"
      ]
     },
     "execution_count": 43,
     "metadata": {},
     "output_type": "execute_result"
    }
   ],
   "source": [
    "combined.shape"
   ]
  },
  {
   "cell_type": "code",
   "execution_count": 44,
   "metadata": {},
   "outputs": [],
   "source": [
    "#changing Date to type - date\n",
    "combined['Date'] = pd.to_datetime(combined['Date'])"
   ]
  },
  {
   "cell_type": "code",
   "execution_count": 45,
   "metadata": {},
   "outputs": [],
   "source": [
    "combined = combined.drop(['Address','Block','Street','AddressNumberAndStreet','AddressAccuracy'],axis=1)"
   ]
  },
  {
   "cell_type": "code",
   "execution_count": 46,
   "metadata": {
    "scrolled": true
   },
   "outputs": [
    {
     "data": {
      "text/html": [
       "<div>\n",
       "<style scoped>\n",
       "    .dataframe tbody tr th:only-of-type {\n",
       "        vertical-align: middle;\n",
       "    }\n",
       "\n",
       "    .dataframe tbody tr th {\n",
       "        vertical-align: top;\n",
       "    }\n",
       "\n",
       "    .dataframe thead th {\n",
       "        text-align: right;\n",
       "    }\n",
       "</style>\n",
       "<table border=\"1\" class=\"dataframe\">\n",
       "  <thead>\n",
       "    <tr style=\"text-align: right;\">\n",
       "      <th></th>\n",
       "      <th>Date</th>\n",
       "      <th>Species</th>\n",
       "      <th>Trap</th>\n",
       "      <th>Latitude</th>\n",
       "      <th>Longitude</th>\n",
       "      <th>NumMosquitos</th>\n",
       "      <th>WnvPresent</th>\n",
       "    </tr>\n",
       "  </thead>\n",
       "  <tbody>\n",
       "    <tr>\n",
       "      <th>0</th>\n",
       "      <td>2007-05-29</td>\n",
       "      <td>CULEX PIPIENS/RESTUANS</td>\n",
       "      <td>T002</td>\n",
       "      <td>41.95469</td>\n",
       "      <td>-87.800991</td>\n",
       "      <td>1.0</td>\n",
       "      <td>0.0</td>\n",
       "    </tr>\n",
       "    <tr>\n",
       "      <th>1</th>\n",
       "      <td>2007-05-29</td>\n",
       "      <td>CULEX RESTUANS</td>\n",
       "      <td>T002</td>\n",
       "      <td>41.95469</td>\n",
       "      <td>-87.800991</td>\n",
       "      <td>1.0</td>\n",
       "      <td>0.0</td>\n",
       "    </tr>\n",
       "  </tbody>\n",
       "</table>\n",
       "</div>"
      ],
      "text/plain": [
       "        Date                 Species  Trap  Latitude  Longitude  NumMosquitos  \\\n",
       "0 2007-05-29  CULEX PIPIENS/RESTUANS  T002  41.95469 -87.800991           1.0   \n",
       "1 2007-05-29          CULEX RESTUANS  T002  41.95469 -87.800991           1.0   \n",
       "\n",
       "   WnvPresent  \n",
       "0         0.0  \n",
       "1         0.0  "
      ]
     },
     "execution_count": 46,
     "metadata": {},
     "output_type": "execute_result"
    }
   ],
   "source": [
    "combined.head(2)"
   ]
  },
  {
   "cell_type": "code",
   "execution_count": 47,
   "metadata": {},
   "outputs": [
    {
     "data": {
      "text/plain": [
       "<matplotlib.axes._subplots.AxesSubplot at 0x1a29f09978>"
      ]
     },
     "execution_count": 47,
     "metadata": {},
     "output_type": "execute_result"
    },
    {
     "data": {
      "image/png": "[encoded data removed]",
      "text/plain": [
       "<Figure size 360x360 with 2 Axes>"
      ]
     },
     "metadata": {
      "needs_background": "light"
     },
     "output_type": "display_data"
    }
   ],
   "source": [
    "#to find out the general correlation between variables first\n",
    "fig, ax = plt.subplots(figsize=(5,5)) \n",
    "ax.set_title('Heat Map for all columns')\n",
    "sns.heatmap(combined.corr(), ax = ax, annot=False, annot_kws={\"size\": 5})\n",
    "\n",
    "#Not much correlation except for Lat/Long"
   ]
  },
  {
   "cell_type": "code",
   "execution_count": 48,
   "metadata": {},
   "outputs": [],
   "source": [
    "#change Species into dummy variables\n",
    "column = ['Species']\n",
    "\n",
    "combined = pd.get_dummies(data = combined, prefix=column, columns = column, drop_first=True)"
   ]
  },
  {
   "cell_type": "code",
   "execution_count": 49,
   "metadata": {
    "scrolled": true
   },
   "outputs": [
    {
     "data": {
      "text/html": [
       "<div>\n",
       "<style scoped>\n",
       "    .dataframe tbody tr th:only-of-type {\n",
       "        vertical-align: middle;\n",
       "    }\n",
       "\n",
       "    .dataframe tbody tr th {\n",
       "        vertical-align: top;\n",
       "    }\n",
       "\n",
       "    .dataframe thead th {\n",
       "        text-align: right;\n",
       "    }\n",
       "</style>\n",
       "<table border=\"1\" class=\"dataframe\">\n",
       "  <thead>\n",
       "    <tr style=\"text-align: right;\">\n",
       "      <th></th>\n",
       "      <th>Date</th>\n",
       "      <th>Trap</th>\n",
       "      <th>Latitude</th>\n",
       "      <th>Longitude</th>\n",
       "      <th>NumMosquitos</th>\n",
       "      <th>WnvPresent</th>\n",
       "      <th>Species_CULEX PIPIENS</th>\n",
       "      <th>Species_CULEX PIPIENS/RESTUANS</th>\n",
       "      <th>Species_CULEX RESTUANS</th>\n",
       "      <th>Species_CULEX SALINARIUS</th>\n",
       "      <th>Species_CULEX TARSALIS</th>\n",
       "      <th>Species_CULEX TERRITANS</th>\n",
       "      <th>Species_UNSPECIFIED CULEX</th>\n",
       "      <th>Year</th>\n",
       "      <th>Month</th>\n",
       "    </tr>\n",
       "  </thead>\n",
       "  <tbody>\n",
       "    <tr>\n",
       "      <th>0</th>\n",
       "      <td>2007-05-29</td>\n",
       "      <td>T002</td>\n",
       "      <td>41.95469</td>\n",
       "      <td>-87.800991</td>\n",
       "      <td>1.0</td>\n",
       "      <td>0.0</td>\n",
       "      <td>0</td>\n",
       "      <td>1</td>\n",
       "      <td>0</td>\n",
       "      <td>0</td>\n",
       "      <td>0</td>\n",
       "      <td>0</td>\n",
       "      <td>0</td>\n",
       "      <td>2007</td>\n",
       "      <td>5</td>\n",
       "    </tr>\n",
       "    <tr>\n",
       "      <th>1</th>\n",
       "      <td>2007-05-29</td>\n",
       "      <td>T002</td>\n",
       "      <td>41.95469</td>\n",
       "      <td>-87.800991</td>\n",
       "      <td>1.0</td>\n",
       "      <td>0.0</td>\n",
       "      <td>0</td>\n",
       "      <td>0</td>\n",
       "      <td>1</td>\n",
       "      <td>0</td>\n",
       "      <td>0</td>\n",
       "      <td>0</td>\n",
       "      <td>0</td>\n",
       "      <td>2007</td>\n",
       "      <td>5</td>\n",
       "    </tr>\n",
       "  </tbody>\n",
       "</table>\n",
       "</div>"
      ],
      "text/plain": [
       "        Date  Trap  Latitude  Longitude  NumMosquitos  WnvPresent  \\\n",
       "0 2007-05-29  T002  41.95469 -87.800991           1.0         0.0   \n",
       "1 2007-05-29  T002  41.95469 -87.800991           1.0         0.0   \n",
       "\n",
       "   Species_CULEX PIPIENS  Species_CULEX PIPIENS/RESTUANS  \\\n",
       "0                      0                               1   \n",
       "1                      0                               0   \n",
       "\n",
       "   Species_CULEX RESTUANS  Species_CULEX SALINARIUS  Species_CULEX TARSALIS  \\\n",
       "0                       0                         0                       0   \n",
       "1                       1                         0                       0   \n",
       "\n",
       "   Species_CULEX TERRITANS  Species_UNSPECIFIED CULEX  Year  Month  \n",
       "0                        0                          0  2007      5  \n",
       "1                        0                          0  2007      5  "
      ]
     },
     "execution_count": 49,
     "metadata": {},
     "output_type": "execute_result"
    }
   ],
   "source": [
    "combined['Date'] = pd.to_datetime(combined['Date'])\n",
    "combined['Year'] = combined['Date'].dt.year\n",
    "combined['Month'] = combined['Date'].dt.month\n",
    "combined.head(2)"
   ]
  },
  {
   "cell_type": "code",
   "execution_count": 50,
   "metadata": {},
   "outputs": [
    {
     "data": {
      "text/plain": [
       "(126799, 15)"
      ]
     },
     "execution_count": 50,
     "metadata": {},
     "output_type": "execute_result"
    }
   ],
   "source": [
    "combined.shape"
   ]
  },
  {
   "cell_type": "code",
   "execution_count": 51,
   "metadata": {},
   "outputs": [
    {
     "data": {
      "text/html": [
       "<div>\n",
       "<style scoped>\n",
       "    .dataframe tbody tr th:only-of-type {\n",
       "        vertical-align: middle;\n",
       "    }\n",
       "\n",
       "    .dataframe tbody tr th {\n",
       "        vertical-align: top;\n",
       "    }\n",
       "\n",
       "    .dataframe thead th {\n",
       "        text-align: right;\n",
       "    }\n",
       "</style>\n",
       "<table border=\"1\" class=\"dataframe\">\n",
       "  <thead>\n",
       "    <tr style=\"text-align: right;\">\n",
       "      <th></th>\n",
       "      <th>Year</th>\n",
       "      <th>Month</th>\n",
       "      <th>Daylight</th>\n",
       "      <th>PC1</th>\n",
       "      <th>PC2</th>\n",
       "      <th>PC1y</th>\n",
       "      <th>PC2y</th>\n",
       "    </tr>\n",
       "  </thead>\n",
       "  <tbody>\n",
       "    <tr>\n",
       "      <th>0</th>\n",
       "      <td>2007</td>\n",
       "      <td>5</td>\n",
       "      <td>872.806452</td>\n",
       "      <td>1.086340</td>\n",
       "      <td>-1.45957</td>\n",
       "      <td>0.489807</td>\n",
       "      <td>2.961671</td>\n",
       "    </tr>\n",
       "    <tr>\n",
       "      <th>1</th>\n",
       "      <td>2007</td>\n",
       "      <td>6</td>\n",
       "      <td>910.333333</td>\n",
       "      <td>-1.578003</td>\n",
       "      <td>-0.30557</td>\n",
       "      <td>-0.473280</td>\n",
       "      <td>-0.221587</td>\n",
       "    </tr>\n",
       "  </tbody>\n",
       "</table>\n",
       "</div>"
      ],
      "text/plain": [
       "   Year  Month    Daylight       PC1      PC2      PC1y      PC2y\n",
       "0  2007      5  872.806452  1.086340 -1.45957  0.489807  2.961671\n",
       "1  2007      6  910.333333 -1.578003 -0.30557 -0.473280 -0.221587"
      ]
     },
     "execution_count": 51,
     "metadata": {},
     "output_type": "execute_result"
    }
   ],
   "source": [
    "weather_2.head(2)"
   ]
  },
  {
   "cell_type": "code",
   "execution_count": 52,
   "metadata": {
    "scrolled": true
   },
   "outputs": [],
   "source": [
    "full = pd.merge(combined,weather_2, on=['Year','Month'])"
   ]
  },
  {
   "cell_type": "code",
   "execution_count": 53,
   "metadata": {},
   "outputs": [
    {
     "data": {
      "text/plain": [
       "(126799, 20)"
      ]
     },
     "execution_count": 53,
     "metadata": {},
     "output_type": "execute_result"
    }
   ],
   "source": [
    "full.shape"
   ]
  },
  {
   "cell_type": "code",
   "execution_count": 54,
   "metadata": {},
   "outputs": [
    {
     "data": {
      "text/html": [
       "<div>\n",
       "<style scoped>\n",
       "    .dataframe tbody tr th:only-of-type {\n",
       "        vertical-align: middle;\n",
       "    }\n",
       "\n",
       "    .dataframe tbody tr th {\n",
       "        vertical-align: top;\n",
       "    }\n",
       "\n",
       "    .dataframe thead th {\n",
       "        text-align: right;\n",
       "    }\n",
       "</style>\n",
       "<table border=\"1\" class=\"dataframe\">\n",
       "  <thead>\n",
       "    <tr style=\"text-align: right;\">\n",
       "      <th></th>\n",
       "      <th>Date</th>\n",
       "      <th>Trap</th>\n",
       "      <th>Latitude</th>\n",
       "      <th>Longitude</th>\n",
       "      <th>NumMosquitos</th>\n",
       "      <th>WnvPresent</th>\n",
       "      <th>Species_CULEX PIPIENS</th>\n",
       "      <th>Species_CULEX PIPIENS/RESTUANS</th>\n",
       "      <th>Species_CULEX RESTUANS</th>\n",
       "      <th>Species_CULEX SALINARIUS</th>\n",
       "      <th>Species_CULEX TARSALIS</th>\n",
       "      <th>Species_CULEX TERRITANS</th>\n",
       "      <th>Species_UNSPECIFIED CULEX</th>\n",
       "      <th>Year</th>\n",
       "      <th>Month</th>\n",
       "      <th>Daylight</th>\n",
       "      <th>PC1</th>\n",
       "      <th>PC2</th>\n",
       "      <th>PC1y</th>\n",
       "      <th>PC2y</th>\n",
       "    </tr>\n",
       "  </thead>\n",
       "  <tbody>\n",
       "    <tr>\n",
       "      <th>0</th>\n",
       "      <td>2007-05-29</td>\n",
       "      <td>T002</td>\n",
       "      <td>41.95469</td>\n",
       "      <td>-87.800991</td>\n",
       "      <td>1.0</td>\n",
       "      <td>0.0</td>\n",
       "      <td>0</td>\n",
       "      <td>1</td>\n",
       "      <td>0</td>\n",
       "      <td>0</td>\n",
       "      <td>0</td>\n",
       "      <td>0</td>\n",
       "      <td>0</td>\n",
       "      <td>2007</td>\n",
       "      <td>5</td>\n",
       "      <td>872.806452</td>\n",
       "      <td>1.08634</td>\n",
       "      <td>-1.45957</td>\n",
       "      <td>0.489807</td>\n",
       "      <td>2.961671</td>\n",
       "    </tr>\n",
       "    <tr>\n",
       "      <th>1</th>\n",
       "      <td>2007-05-29</td>\n",
       "      <td>T002</td>\n",
       "      <td>41.95469</td>\n",
       "      <td>-87.800991</td>\n",
       "      <td>1.0</td>\n",
       "      <td>0.0</td>\n",
       "      <td>0</td>\n",
       "      <td>0</td>\n",
       "      <td>1</td>\n",
       "      <td>0</td>\n",
       "      <td>0</td>\n",
       "      <td>0</td>\n",
       "      <td>0</td>\n",
       "      <td>2007</td>\n",
       "      <td>5</td>\n",
       "      <td>872.806452</td>\n",
       "      <td>1.08634</td>\n",
       "      <td>-1.45957</td>\n",
       "      <td>0.489807</td>\n",
       "      <td>2.961671</td>\n",
       "    </tr>\n",
       "  </tbody>\n",
       "</table>\n",
       "</div>"
      ],
      "text/plain": [
       "        Date  Trap  Latitude  Longitude  NumMosquitos  WnvPresent  \\\n",
       "0 2007-05-29  T002  41.95469 -87.800991           1.0         0.0   \n",
       "1 2007-05-29  T002  41.95469 -87.800991           1.0         0.0   \n",
       "\n",
       "   Species_CULEX PIPIENS  Species_CULEX PIPIENS/RESTUANS  \\\n",
       "0                      0                               1   \n",
       "1                      0                               0   \n",
       "\n",
       "   Species_CULEX RESTUANS  Species_CULEX SALINARIUS  Species_CULEX TARSALIS  \\\n",
       "0                       0                         0                       0   \n",
       "1                       1                         0                       0   \n",
       "\n",
       "   Species_CULEX TERRITANS  Species_UNSPECIFIED CULEX  Year  Month  \\\n",
       "0                        0                          0  2007      5   \n",
       "1                        0                          0  2007      5   \n",
       "\n",
       "     Daylight      PC1      PC2      PC1y      PC2y  \n",
       "0  872.806452  1.08634 -1.45957  0.489807  2.961671  \n",
       "1  872.806452  1.08634 -1.45957  0.489807  2.961671  "
      ]
     },
     "execution_count": 54,
     "metadata": {},
     "output_type": "execute_result"
    }
   ],
   "source": [
    "full.head(2)"
   ]
  },
  {
   "cell_type": "code",
   "execution_count": 55,
   "metadata": {},
   "outputs": [],
   "source": [
    "#Split the file back into it's test and train files\n",
    "train2 = full.loc[full['Year'].isin([2007,2009,2011,2013])]\n",
    "test2 = full.loc[full['Year'].isin([2008,2010,2012,2014])]"
   ]
  },
  {
   "cell_type": "code",
   "execution_count": 56,
   "metadata": {},
   "outputs": [
    {
     "name": "stdout",
     "output_type": "stream",
     "text": [
      "(10506, 20)\n",
      "(116293, 20)\n"
     ]
    }
   ],
   "source": [
    "print(train2.shape)\n",
    "print(test2.shape)"
   ]
  },
  {
   "cell_type": "code",
   "execution_count": 57,
   "metadata": {},
   "outputs": [
    {
     "data": {
      "text/html": [
       "<div>\n",
       "<style scoped>\n",
       "    .dataframe tbody tr th:only-of-type {\n",
       "        vertical-align: middle;\n",
       "    }\n",
       "\n",
       "    .dataframe tbody tr th {\n",
       "        vertical-align: top;\n",
       "    }\n",
       "\n",
       "    .dataframe thead th {\n",
       "        text-align: right;\n",
       "    }\n",
       "</style>\n",
       "<table border=\"1\" class=\"dataframe\">\n",
       "  <thead>\n",
       "    <tr style=\"text-align: right;\">\n",
       "      <th></th>\n",
       "      <th>Date</th>\n",
       "      <th>Trap</th>\n",
       "      <th>Latitude</th>\n",
       "      <th>Longitude</th>\n",
       "      <th>NumMosquitos</th>\n",
       "      <th>WnvPresent</th>\n",
       "      <th>Species_CULEX PIPIENS</th>\n",
       "      <th>Species_CULEX PIPIENS/RESTUANS</th>\n",
       "      <th>Species_CULEX RESTUANS</th>\n",
       "      <th>Species_CULEX SALINARIUS</th>\n",
       "      <th>Species_CULEX TARSALIS</th>\n",
       "      <th>Species_CULEX TERRITANS</th>\n",
       "      <th>Species_UNSPECIFIED CULEX</th>\n",
       "      <th>Year</th>\n",
       "      <th>Month</th>\n",
       "      <th>Daylight</th>\n",
       "      <th>PC1</th>\n",
       "      <th>PC2</th>\n",
       "      <th>PC1y</th>\n",
       "      <th>PC2y</th>\n",
       "    </tr>\n",
       "  </thead>\n",
       "  <tbody>\n",
       "    <tr>\n",
       "      <th>0</th>\n",
       "      <td>2007-05-29</td>\n",
       "      <td>T002</td>\n",
       "      <td>41.95469</td>\n",
       "      <td>-87.800991</td>\n",
       "      <td>1.0</td>\n",
       "      <td>0.0</td>\n",
       "      <td>0</td>\n",
       "      <td>1</td>\n",
       "      <td>0</td>\n",
       "      <td>0</td>\n",
       "      <td>0</td>\n",
       "      <td>0</td>\n",
       "      <td>0</td>\n",
       "      <td>2007</td>\n",
       "      <td>5</td>\n",
       "      <td>872.806452</td>\n",
       "      <td>1.08634</td>\n",
       "      <td>-1.45957</td>\n",
       "      <td>0.489807</td>\n",
       "      <td>2.961671</td>\n",
       "    </tr>\n",
       "    <tr>\n",
       "      <th>1</th>\n",
       "      <td>2007-05-29</td>\n",
       "      <td>T002</td>\n",
       "      <td>41.95469</td>\n",
       "      <td>-87.800991</td>\n",
       "      <td>1.0</td>\n",
       "      <td>0.0</td>\n",
       "      <td>0</td>\n",
       "      <td>0</td>\n",
       "      <td>1</td>\n",
       "      <td>0</td>\n",
       "      <td>0</td>\n",
       "      <td>0</td>\n",
       "      <td>0</td>\n",
       "      <td>2007</td>\n",
       "      <td>5</td>\n",
       "      <td>872.806452</td>\n",
       "      <td>1.08634</td>\n",
       "      <td>-1.45957</td>\n",
       "      <td>0.489807</td>\n",
       "      <td>2.961671</td>\n",
       "    </tr>\n",
       "  </tbody>\n",
       "</table>\n",
       "</div>"
      ],
      "text/plain": [
       "        Date  Trap  Latitude  Longitude  NumMosquitos  WnvPresent  \\\n",
       "0 2007-05-29  T002  41.95469 -87.800991           1.0         0.0   \n",
       "1 2007-05-29  T002  41.95469 -87.800991           1.0         0.0   \n",
       "\n",
       "   Species_CULEX PIPIENS  Species_CULEX PIPIENS/RESTUANS  \\\n",
       "0                      0                               1   \n",
       "1                      0                               0   \n",
       "\n",
       "   Species_CULEX RESTUANS  Species_CULEX SALINARIUS  Species_CULEX TARSALIS  \\\n",
       "0                       0                         0                       0   \n",
       "1                       1                         0                       0   \n",
       "\n",
       "   Species_CULEX TERRITANS  Species_UNSPECIFIED CULEX  Year  Month  \\\n",
       "0                        0                          0  2007      5   \n",
       "1                        0                          0  2007      5   \n",
       "\n",
       "     Daylight      PC1      PC2      PC1y      PC2y  \n",
       "0  872.806452  1.08634 -1.45957  0.489807  2.961671  \n",
       "1  872.806452  1.08634 -1.45957  0.489807  2.961671  "
      ]
     },
     "execution_count": 57,
     "metadata": {},
     "output_type": "execute_result"
    }
   ],
   "source": [
    "train2.head(2)"
   ]
  },
  {
   "cell_type": "code",
   "execution_count": 58,
   "metadata": {
    "scrolled": true
   },
   "outputs": [
    {
     "data": {
      "text/plain": [
       "<matplotlib.axes._subplots.AxesSubplot at 0x115da5d30>"
      ]
     },
     "execution_count": 58,
     "metadata": {},
     "output_type": "execute_result"
    },
    {
     "data": {
      "image/png": "[encoded data removed]",
      "text/plain": [
       "<Figure size 1440x1440 with 2 Axes>"
      ]
     },
     "metadata": {
      "needs_background": "light"
     },
     "output_type": "display_data"
    }
   ],
   "source": [
    "#to find out the general correlation between variables first\n",
    "import seaborn as sns\n",
    "fig, ax = plt.subplots(figsize=(20,20)) \n",
    "ax.set_title('Heat Map for all columns')\n",
    "sns.heatmap(train2.corr(), ax = ax, annot=False, annot_kws={\"size\": 20})\n",
    "#Again some correlation between the Long and Latitudes\n",
    "#Some correlations between the species"
   ]
  },
  {
   "cell_type": "code",
   "execution_count": 59,
   "metadata": {
    "scrolled": true
   },
   "outputs": [
    {
     "data": {
      "text/plain": [
       "WnvPresent                        1.000000\n",
       "NumMosquitos                      0.196820\n",
       "PC1y                              0.128814\n",
       "Month                             0.100143\n",
       "Species_CULEX PIPIENS             0.096206\n",
       "Year                              0.050865\n",
       "Latitude                          0.028697\n",
       "Species_CULEX PIPIENS/RESTUANS    0.010960\n",
       "Species_CULEX TARSALIS           -0.005624\n",
       "PC2y                             -0.013184\n",
       "Species_CULEX SALINARIUS         -0.021373\n",
       "Species_CULEX TERRITANS          -0.034566\n",
       "PC2                              -0.050964\n",
       "Longitude                        -0.060345\n",
       "Daylight                         -0.073487\n",
       "PC1                              -0.077599\n",
       "Species_CULEX RESTUANS           -0.092094\n",
       "Species_UNSPECIFIED CULEX              NaN\n",
       "Name: WnvPresent, dtype: float64"
      ]
     },
     "execution_count": 59,
     "metadata": {},
     "output_type": "execute_result"
    }
   ],
   "source": [
    "corr_matrix = train2.corr()\n",
    "corr_matrix['WnvPresent'].sort_values(ascending = False)"
   ]
  },
  {
   "cell_type": "code",
   "execution_count": 60,
   "metadata": {
    "scrolled": false
   },
   "outputs": [
    {
     "data": {
      "image/png": "[encoded data removed]",
      "text/plain": [
       "<Figure size 1080x720 with 1 Axes>"
      ]
     },
     "metadata": {
      "needs_background": "light"
     },
     "output_type": "display_data"
    }
   ],
   "source": [
    "fig, ax = plt.subplots(figsize=(15,10))\n",
    "plt.xticks(rotation=90)\n",
    "ax = sns.boxplot(y=train2.NumMosquitos, x=train2.WnvPresent, orient = 'v', width = 0.5, fliersize = 10).set(\n",
    "    xlabel='WnvPresent', \n",
    "    ylabel='NumMosquitos')\n",
    "\n",
    "#In general"
   ]
  },
  {
   "cell_type": "code",
   "execution_count": 61,
   "metadata": {
    "scrolled": true
   },
   "outputs": [
    {
     "data": {
      "text/plain": [
       "NumMosquitos                      1.000000\n",
       "WnvPresent                        0.196820\n",
       "Species_CULEX PIPIENS             0.134754\n",
       "PC1y                              0.119809\n",
       "Daylight                          0.073968\n",
       "Species_CULEX PIPIENS/RESTUANS    0.061499\n",
       "Longitude                         0.036633\n",
       "Species_CULEX TARSALIS           -0.017317\n",
       "Month                            -0.026040\n",
       "Year                             -0.029611\n",
       "PC2                              -0.029878\n",
       "Species_CULEX SALINARIUS         -0.062886\n",
       "Species_CULEX TERRITANS          -0.096136\n",
       "PC2y                             -0.120596\n",
       "Species_CULEX RESTUANS           -0.158393\n",
       "Latitude                         -0.184806\n",
       "PC1                              -0.192266\n",
       "Species_UNSPECIFIED CULEX              NaN\n",
       "Name: NumMosquitos, dtype: float64"
      ]
     },
     "execution_count": 61,
     "metadata": {},
     "output_type": "execute_result"
    }
   ],
   "source": [
    "corr_matrix['NumMosquitos'].sort_values(ascending = False)"
   ]
  },
  {
   "cell_type": "code",
   "execution_count": 62,
   "metadata": {
    "scrolled": true
   },
   "outputs": [
    {
     "data": {
      "text/plain": [
       "Daylight                          1.000000\n",
       "PC2                               0.437506\n",
       "Species_CULEX RESTUANS            0.249205\n",
       "Year                              0.158609\n",
       "NumMosquitos                      0.073968\n",
       "Latitude                          0.063148\n",
       "Species_CULEX SALINARIUS          0.019430\n",
       "Species_CULEX PIPIENS/RESTUANS   -0.009934\n",
       "Species_CULEX TERRITANS          -0.024264\n",
       "Species_CULEX TARSALIS           -0.027924\n",
       "WnvPresent                       -0.073487\n",
       "Longitude                        -0.075828\n",
       "Species_CULEX PIPIENS            -0.233306\n",
       "PC1y                             -0.312804\n",
       "PC1                              -0.482615\n",
       "PC2y                             -0.490088\n",
       "Month                            -0.950132\n",
       "Species_UNSPECIFIED CULEX              NaN\n",
       "Name: Daylight, dtype: float64"
      ]
     },
     "execution_count": 62,
     "metadata": {},
     "output_type": "execute_result"
    }
   ],
   "source": [
    "corr_matrix['Daylight'].sort_values(ascending = False)"
   ]
  },
  {
   "cell_type": "code",
   "execution_count": 63,
   "metadata": {},
   "outputs": [
    {
     "data": {
      "text/plain": [
       "Index(['Date', 'Trap', 'Latitude', 'Longitude', 'NumMosquitos', 'WnvPresent',\n",
       "       'Species_CULEX PIPIENS', 'Species_CULEX PIPIENS/RESTUANS',\n",
       "       'Species_CULEX RESTUANS', 'Species_CULEX SALINARIUS',\n",
       "       'Species_CULEX TARSALIS', 'Species_CULEX TERRITANS',\n",
       "       'Species_UNSPECIFIED CULEX', 'Year', 'Month', 'Daylight', 'PC1', 'PC2',\n",
       "       'PC1y', 'PC2y'],\n",
       "      dtype='object')"
      ]
     },
     "execution_count": 63,
     "metadata": {},
     "output_type": "execute_result"
    }
   ],
   "source": [
    "train2.columns"
   ]
  },
  {
   "cell_type": "code",
   "execution_count": 64,
   "metadata": {},
   "outputs": [],
   "source": [
    "train3 = train2.groupby(['Date','Trap']).agg({'Year':'max',\n",
    "                                              'Month':'max',\n",
    "                                              'Latitude':'max',\n",
    "                                              'Longitude':'max',\n",
    "                                              'Species_CULEX PIPIENS':'sum',\n",
    "                                              'Species_CULEX PIPIENS/RESTUANS':'sum',\n",
    "                                              'Species_CULEX RESTUANS':'sum',\n",
    "                                              'Species_CULEX SALINARIUS':'sum',\n",
    "                                              'Species_CULEX TARSALIS':'sum',\n",
    "                                              'Species_CULEX TERRITANS':'sum',\n",
    "                                              'Species_UNSPECIFIED CULEX':'sum',\n",
    "                                              'Daylight':'mean',\n",
    "                                              'PC1':'mean',\n",
    "                                              'PC2':'mean',\n",
    "                                              'PC1y':'mean',\n",
    "                                              'PC2y':'mean',\n",
    "                                              'NumMosquitos':'sum',\n",
    "                                              'WnvPresent':'max'})"
   ]
  },
  {
   "cell_type": "code",
   "execution_count": 65,
   "metadata": {},
   "outputs": [
    {
     "data": {
      "text/plain": [
       "<function matplotlib.pyplot.legend(*args, **kwargs)>"
      ]
     },
     "execution_count": 65,
     "metadata": {},
     "output_type": "execute_result"
    },
    {
     "data": {
      "image/png": "[encoded data removed]",
      "text/plain": [
       "<Figure size 720x504 with 2 Axes>"
      ]
     },
     "metadata": {
      "needs_background": "light"
     },
     "output_type": "display_data"
    }
   ],
   "source": [
    "train3.plot(kind='scatter', x= 'Longitude', y='Latitude', alpha=0.4,\n",
    "             s=train3['NumMosquitos'], label='NumMosquitos', figsize=(10,7),\n",
    "            c ='WnvPresent', cmap = plt.get_cmap(\"jet\"),colorbar=True)\n",
    "plt.legend\n",
    "\n",
    "#Size of circle = Number of Mosquitos\n",
    "#Colour['Red'] = WNV Present"
   ]
  },
  {
   "cell_type": "code",
   "execution_count": 66,
   "metadata": {
    "scrolled": true
   },
   "outputs": [
    {
     "data": {
      "text/html": [
       "<div>\n",
       "<style scoped>\n",
       "    .dataframe tbody tr th:only-of-type {\n",
       "        vertical-align: middle;\n",
       "    }\n",
       "\n",
       "    .dataframe tbody tr th {\n",
       "        vertical-align: top;\n",
       "    }\n",
       "\n",
       "    .dataframe thead th {\n",
       "        text-align: right;\n",
       "    }\n",
       "</style>\n",
       "<table border=\"1\" class=\"dataframe\">\n",
       "  <thead>\n",
       "    <tr style=\"text-align: right;\">\n",
       "      <th></th>\n",
       "      <th></th>\n",
       "      <th>Year</th>\n",
       "      <th>Month</th>\n",
       "      <th>Latitude</th>\n",
       "      <th>Longitude</th>\n",
       "      <th>Species_CULEX PIPIENS</th>\n",
       "      <th>Species_CULEX PIPIENS/RESTUANS</th>\n",
       "      <th>Species_CULEX RESTUANS</th>\n",
       "      <th>Species_CULEX SALINARIUS</th>\n",
       "      <th>Species_CULEX TARSALIS</th>\n",
       "      <th>Species_CULEX TERRITANS</th>\n",
       "      <th>Species_UNSPECIFIED CULEX</th>\n",
       "      <th>Daylight</th>\n",
       "      <th>PC1</th>\n",
       "      <th>PC2</th>\n",
       "      <th>PC1y</th>\n",
       "      <th>PC2y</th>\n",
       "      <th>NumMosquitos</th>\n",
       "      <th>WnvPresent</th>\n",
       "    </tr>\n",
       "    <tr>\n",
       "      <th>Date</th>\n",
       "      <th>Trap</th>\n",
       "      <th></th>\n",
       "      <th></th>\n",
       "      <th></th>\n",
       "      <th></th>\n",
       "      <th></th>\n",
       "      <th></th>\n",
       "      <th></th>\n",
       "      <th></th>\n",
       "      <th></th>\n",
       "      <th></th>\n",
       "      <th></th>\n",
       "      <th></th>\n",
       "      <th></th>\n",
       "      <th></th>\n",
       "      <th></th>\n",
       "      <th></th>\n",
       "      <th></th>\n",
       "      <th></th>\n",
       "    </tr>\n",
       "  </thead>\n",
       "  <tbody>\n",
       "    <tr>\n",
       "      <th rowspan=\"5\" valign=\"top\">2007-05-29</th>\n",
       "      <th>T002</th>\n",
       "      <td>2007</td>\n",
       "      <td>5</td>\n",
       "      <td>41.954690</td>\n",
       "      <td>-87.800991</td>\n",
       "      <td>0</td>\n",
       "      <td>1</td>\n",
       "      <td>1</td>\n",
       "      <td>0</td>\n",
       "      <td>0</td>\n",
       "      <td>0</td>\n",
       "      <td>0</td>\n",
       "      <td>872.806452</td>\n",
       "      <td>1.08634</td>\n",
       "      <td>-1.45957</td>\n",
       "      <td>0.489807</td>\n",
       "      <td>2.961671</td>\n",
       "      <td>2.0</td>\n",
       "      <td>0.0</td>\n",
       "    </tr>\n",
       "    <tr>\n",
       "      <th>T007</th>\n",
       "      <td>2007</td>\n",
       "      <td>5</td>\n",
       "      <td>41.994991</td>\n",
       "      <td>-87.769279</td>\n",
       "      <td>0</td>\n",
       "      <td>0</td>\n",
       "      <td>1</td>\n",
       "      <td>0</td>\n",
       "      <td>0</td>\n",
       "      <td>0</td>\n",
       "      <td>0</td>\n",
       "      <td>872.806452</td>\n",
       "      <td>1.08634</td>\n",
       "      <td>-1.45957</td>\n",
       "      <td>0.489807</td>\n",
       "      <td>2.961671</td>\n",
       "      <td>1.0</td>\n",
       "      <td>0.0</td>\n",
       "    </tr>\n",
       "    <tr>\n",
       "      <th>T015</th>\n",
       "      <td>2007</td>\n",
       "      <td>5</td>\n",
       "      <td>41.974089</td>\n",
       "      <td>-87.824812</td>\n",
       "      <td>0</td>\n",
       "      <td>1</td>\n",
       "      <td>1</td>\n",
       "      <td>0</td>\n",
       "      <td>0</td>\n",
       "      <td>0</td>\n",
       "      <td>0</td>\n",
       "      <td>872.806452</td>\n",
       "      <td>1.08634</td>\n",
       "      <td>-1.45957</td>\n",
       "      <td>0.489807</td>\n",
       "      <td>2.961671</td>\n",
       "      <td>5.0</td>\n",
       "      <td>0.0</td>\n",
       "    </tr>\n",
       "    <tr>\n",
       "      <th>T045</th>\n",
       "      <td>2007</td>\n",
       "      <td>5</td>\n",
       "      <td>41.921600</td>\n",
       "      <td>-87.666455</td>\n",
       "      <td>0</td>\n",
       "      <td>0</td>\n",
       "      <td>1</td>\n",
       "      <td>0</td>\n",
       "      <td>0</td>\n",
       "      <td>0</td>\n",
       "      <td>0</td>\n",
       "      <td>872.806452</td>\n",
       "      <td>1.08634</td>\n",
       "      <td>-1.45957</td>\n",
       "      <td>0.489807</td>\n",
       "      <td>2.961671</td>\n",
       "      <td>2.0</td>\n",
       "      <td>0.0</td>\n",
       "    </tr>\n",
       "    <tr>\n",
       "      <th>T046</th>\n",
       "      <td>2007</td>\n",
       "      <td>5</td>\n",
       "      <td>41.891118</td>\n",
       "      <td>-87.654491</td>\n",
       "      <td>0</td>\n",
       "      <td>0</td>\n",
       "      <td>1</td>\n",
       "      <td>0</td>\n",
       "      <td>0</td>\n",
       "      <td>0</td>\n",
       "      <td>0</td>\n",
       "      <td>872.806452</td>\n",
       "      <td>1.08634</td>\n",
       "      <td>-1.45957</td>\n",
       "      <td>0.489807</td>\n",
       "      <td>2.961671</td>\n",
       "      <td>1.0</td>\n",
       "      <td>0.0</td>\n",
       "    </tr>\n",
       "  </tbody>\n",
       "</table>\n",
       "</div>"
      ],
      "text/plain": [
       "                 Year  Month   Latitude  Longitude  Species_CULEX PIPIENS  \\\n",
       "Date       Trap                                                             \n",
       "2007-05-29 T002  2007      5  41.954690 -87.800991                      0   \n",
       "           T007  2007      5  41.994991 -87.769279                      0   \n",
       "           T015  2007      5  41.974089 -87.824812                      0   \n",
       "           T045  2007      5  41.921600 -87.666455                      0   \n",
       "           T046  2007      5  41.891118 -87.654491                      0   \n",
       "\n",
       "                 Species_CULEX PIPIENS/RESTUANS  Species_CULEX RESTUANS  \\\n",
       "Date       Trap                                                           \n",
       "2007-05-29 T002                               1                       1   \n",
       "           T007                               0                       1   \n",
       "           T015                               1                       1   \n",
       "           T045                               0                       1   \n",
       "           T046                               0                       1   \n",
       "\n",
       "                 Species_CULEX SALINARIUS  Species_CULEX TARSALIS  \\\n",
       "Date       Trap                                                     \n",
       "2007-05-29 T002                         0                       0   \n",
       "           T007                         0                       0   \n",
       "           T015                         0                       0   \n",
       "           T045                         0                       0   \n",
       "           T046                         0                       0   \n",
       "\n",
       "                 Species_CULEX TERRITANS  Species_UNSPECIFIED CULEX  \\\n",
       "Date       Trap                                                       \n",
       "2007-05-29 T002                        0                          0   \n",
       "           T007                        0                          0   \n",
       "           T015                        0                          0   \n",
       "           T045                        0                          0   \n",
       "           T046                        0                          0   \n",
       "\n",
       "                   Daylight      PC1      PC2      PC1y      PC2y  \\\n",
       "Date       Trap                                                     \n",
       "2007-05-29 T002  872.806452  1.08634 -1.45957  0.489807  2.961671   \n",
       "           T007  872.806452  1.08634 -1.45957  0.489807  2.961671   \n",
       "           T015  872.806452  1.08634 -1.45957  0.489807  2.961671   \n",
       "           T045  872.806452  1.08634 -1.45957  0.489807  2.961671   \n",
       "           T046  872.806452  1.08634 -1.45957  0.489807  2.961671   \n",
       "\n",
       "                 NumMosquitos  WnvPresent  \n",
       "Date       Trap                            \n",
       "2007-05-29 T002           2.0         0.0  \n",
       "           T007           1.0         0.0  \n",
       "           T015           5.0         0.0  \n",
       "           T045           2.0         0.0  \n",
       "           T046           1.0         0.0  "
      ]
     },
     "execution_count": 66,
     "metadata": {},
     "output_type": "execute_result"
    }
   ],
   "source": [
    "train3.head()"
   ]
  },
  {
   "cell_type": "code",
   "execution_count": 67,
   "metadata": {},
   "outputs": [],
   "source": [
    "train3 = train3.reset_index()"
   ]
  },
  {
   "cell_type": "code",
   "execution_count": 68,
   "metadata": {},
   "outputs": [],
   "source": [
    "train3 = train3.drop(['Date','Trap'],axis=1)"
   ]
  },
  {
   "cell_type": "code",
   "execution_count": 69,
   "metadata": {},
   "outputs": [],
   "source": [
    "from sklearn.preprocessing import StandardScaler\n",
    "from sklearn.linear_model import LogisticRegression\n",
    "from sklearn.ensemble import RandomForestClassifier, AdaBoostClassifier, BaggingClassifier, GradientBoostingClassifier\n",
    "from sklearn.neighbors import KNeighborsClassifier\n",
    "from sklearn.svm import SVC\n",
    "from sklearn.model_selection import cross_val_score, GridSearchCV, train_test_split, StratifiedShuffleSplit\n",
    "from sklearn.pipeline import Pipeline\n",
    "from sklearn.metrics import accuracy_score, confusion_matrix, roc_auc_score\n",
    "from sklearn.tree import DecisionTreeClassifier"
   ]
  },
  {
   "cell_type": "code",
   "execution_count": 70,
   "metadata": {
    "scrolled": true
   },
   "outputs": [
    {
     "data": {
      "text/html": [
       "<div>\n",
       "<style scoped>\n",
       "    .dataframe tbody tr th:only-of-type {\n",
       "        vertical-align: middle;\n",
       "    }\n",
       "\n",
       "    .dataframe tbody tr th {\n",
       "        vertical-align: top;\n",
       "    }\n",
       "\n",
       "    .dataframe thead th {\n",
       "        text-align: right;\n",
       "    }\n",
       "</style>\n",
       "<table border=\"1\" class=\"dataframe\">\n",
       "  <thead>\n",
       "    <tr style=\"text-align: right;\">\n",
       "      <th></th>\n",
       "      <th>Year</th>\n",
       "      <th>Month</th>\n",
       "      <th>Latitude</th>\n",
       "      <th>Longitude</th>\n",
       "      <th>Species_CULEX PIPIENS</th>\n",
       "      <th>Species_CULEX PIPIENS/RESTUANS</th>\n",
       "      <th>Species_CULEX RESTUANS</th>\n",
       "      <th>Species_CULEX SALINARIUS</th>\n",
       "      <th>Species_CULEX TARSALIS</th>\n",
       "      <th>Species_CULEX TERRITANS</th>\n",
       "      <th>Species_UNSPECIFIED CULEX</th>\n",
       "      <th>Daylight</th>\n",
       "      <th>PC1</th>\n",
       "      <th>PC2</th>\n",
       "      <th>PC1y</th>\n",
       "      <th>PC2y</th>\n",
       "      <th>NumMosquitos</th>\n",
       "      <th>WnvPresent</th>\n",
       "    </tr>\n",
       "  </thead>\n",
       "  <tbody>\n",
       "    <tr>\n",
       "      <th>0</th>\n",
       "      <td>2007</td>\n",
       "      <td>5</td>\n",
       "      <td>41.954690</td>\n",
       "      <td>-87.800991</td>\n",
       "      <td>0</td>\n",
       "      <td>1</td>\n",
       "      <td>1</td>\n",
       "      <td>0</td>\n",
       "      <td>0</td>\n",
       "      <td>0</td>\n",
       "      <td>0</td>\n",
       "      <td>872.806452</td>\n",
       "      <td>1.08634</td>\n",
       "      <td>-1.45957</td>\n",
       "      <td>0.489807</td>\n",
       "      <td>2.961671</td>\n",
       "      <td>2.0</td>\n",
       "      <td>0.0</td>\n",
       "    </tr>\n",
       "    <tr>\n",
       "      <th>1</th>\n",
       "      <td>2007</td>\n",
       "      <td>5</td>\n",
       "      <td>41.994991</td>\n",
       "      <td>-87.769279</td>\n",
       "      <td>0</td>\n",
       "      <td>0</td>\n",
       "      <td>1</td>\n",
       "      <td>0</td>\n",
       "      <td>0</td>\n",
       "      <td>0</td>\n",
       "      <td>0</td>\n",
       "      <td>872.806452</td>\n",
       "      <td>1.08634</td>\n",
       "      <td>-1.45957</td>\n",
       "      <td>0.489807</td>\n",
       "      <td>2.961671</td>\n",
       "      <td>1.0</td>\n",
       "      <td>0.0</td>\n",
       "    </tr>\n",
       "  </tbody>\n",
       "</table>\n",
       "</div>"
      ],
      "text/plain": [
       "   Year  Month   Latitude  Longitude  Species_CULEX PIPIENS  \\\n",
       "0  2007      5  41.954690 -87.800991                      0   \n",
       "1  2007      5  41.994991 -87.769279                      0   \n",
       "\n",
       "   Species_CULEX PIPIENS/RESTUANS  Species_CULEX RESTUANS  \\\n",
       "0                               1                       1   \n",
       "1                               0                       1   \n",
       "\n",
       "   Species_CULEX SALINARIUS  Species_CULEX TARSALIS  Species_CULEX TERRITANS  \\\n",
       "0                         0                       0                        0   \n",
       "1                         0                       0                        0   \n",
       "\n",
       "   Species_UNSPECIFIED CULEX    Daylight      PC1      PC2      PC1y  \\\n",
       "0                          0  872.806452  1.08634 -1.45957  0.489807   \n",
       "1                          0  872.806452  1.08634 -1.45957  0.489807   \n",
       "\n",
       "       PC2y  NumMosquitos  WnvPresent  \n",
       "0  2.961671           2.0         0.0  \n",
       "1  2.961671           1.0         0.0  "
      ]
     },
     "execution_count": 70,
     "metadata": {},
     "output_type": "execute_result"
    }
   ],
   "source": [
    "train3.head(2)"
   ]
  },
  {
   "cell_type": "markdown",
   "metadata": {},
   "source": [
    "### Selecting columns to include to X"
   ]
  },
  {
   "cell_type": "code",
   "execution_count": 71,
   "metadata": {
    "scrolled": true
   },
   "outputs": [
    {
     "name": "stderr",
     "output_type": "stream",
     "text": [
      "/anaconda3/lib/python3.7/site-packages/sklearn/preprocessing/data.py:645: DataConversionWarning: Data with input dtype uint8, float64 were all converted to float64 by StandardScaler.\n",
      "  return self.partial_fit(X, y)\n",
      "/anaconda3/lib/python3.7/site-packages/sklearn/base.py:464: DataConversionWarning: Data with input dtype uint8, float64 were all converted to float64 by StandardScaler.\n",
      "  return self.fit(X, **fit_params).transform(X)\n"
     ]
    }
   ],
   "source": [
    "X = train3.iloc[:,2:16]\n",
    "ss = StandardScaler()\n",
    "Xs = pd.DataFrame(ss.fit_transform(X), columns=X.columns)\n",
    "y = train3.WnvPresent"
   ]
  },
  {
   "cell_type": "code",
   "execution_count": 72,
   "metadata": {
    "scrolled": true
   },
   "outputs": [
    {
     "data": {
      "text/plain": [
       "Index(['Latitude', 'Longitude', 'Species_CULEX PIPIENS',\n",
       "       'Species_CULEX PIPIENS/RESTUANS', 'Species_CULEX RESTUANS',\n",
       "       'Species_CULEX SALINARIUS', 'Species_CULEX TARSALIS',\n",
       "       'Species_CULEX TERRITANS', 'Species_UNSPECIFIED CULEX', 'Daylight',\n",
       "       'PC1', 'PC2', 'PC1y', 'PC2y'],\n",
       "      dtype='object')"
      ]
     },
     "execution_count": 72,
     "metadata": {},
     "output_type": "execute_result"
    }
   ],
   "source": [
    "Xs.columns"
   ]
  },
  {
   "cell_type": "code",
   "execution_count": 73,
   "metadata": {},
   "outputs": [],
   "source": [
    "#Train,test split\n",
    "X_train, X_test, y_train, y_test = train_test_split(Xs, y, random_state=42 , train_size=0.7 , test_size=0.3,stratify=y)"
   ]
  },
  {
   "cell_type": "code",
   "execution_count": 74,
   "metadata": {
    "scrolled": true
   },
   "outputs": [
    {
     "name": "stdout",
     "output_type": "stream",
     "text": [
      "Fitting 3 folds for each of 36 candidates, totalling 108 fits\n"
     ]
    },
    {
     "name": "stderr",
     "output_type": "stream",
     "text": [
      "[Parallel(n_jobs=-1)]: Using backend LokyBackend with 12 concurrent workers.\n",
      "[Parallel(n_jobs=-1)]: Done   1 tasks      | elapsed:    3.8s\n",
      "[Parallel(n_jobs=-1)]: Done   8 tasks      | elapsed:    4.0s\n",
      "[Parallel(n_jobs=-1)]: Done  17 tasks      | elapsed:    4.0s\n",
      "[Parallel(n_jobs=-1)]: Done  26 tasks      | elapsed:    4.1s\n",
      "[Parallel(n_jobs=-1)]: Done  37 tasks      | elapsed:    4.1s\n",
      "[Parallel(n_jobs=-1)]: Done  48 tasks      | elapsed:    4.2s\n",
      "[Parallel(n_jobs=-1)]: Batch computation too fast (0.1897s.) Setting batch_size=2.\n",
      "[Parallel(n_jobs=-1)]: Done  61 tasks      | elapsed:    4.3s\n",
      "[Parallel(n_jobs=-1)]: Done  74 out of 108 | elapsed:    4.3s remaining:    2.0s\n",
      "[Parallel(n_jobs=-1)]: Done  85 out of 108 | elapsed:    4.4s remaining:    1.2s\n",
      "[Parallel(n_jobs=-1)]: Done 108 out of 108 | elapsed:    4.5s finished\n",
      "[Parallel(n_jobs=-1)]: Using backend LokyBackend with 12 concurrent workers.\n",
      "[Parallel(n_jobs=-1)]: Done   1 tasks      | elapsed:    0.1s\n",
      "[Parallel(n_jobs=-1)]: Batch computation too fast (0.0760s.) Setting batch_size=4.\n",
      "[Parallel(n_jobs=-1)]: Done   8 tasks      | elapsed:    0.1s\n"
     ]
    },
    {
     "name": "stdout",
     "output_type": "stream",
     "text": [
      "Decision Tree\n",
      "Best Score: 0.9227202472952086\n",
      "Best Params: {'clf__max_depth': 10, 'clf__min_samples_split': 25}\n",
      "Model Score on X_train: 0.9377901578458682\n",
      "Accuracy score of prediction: 0.9191335740072202\n",
      "TN: 1247, FP:22, FN:90, TP:26\n",
      "Precision of the model is 0.5416666666666666\n",
      "Recall of the model is 0.22413793103448276\n",
      "ROC_AUC: 0.6034007228064454\n",
      "\n",
      "\n",
      "Fitting 3 folds for each of 30 candidates, totalling 90 fits\n"
     ]
    },
    {
     "name": "stderr",
     "output_type": "stream",
     "text": [
      "[Parallel(n_jobs=-1)]: Done  17 tasks      | elapsed:    0.2s\n",
      "[Parallel(n_jobs=-1)]: Done  90 out of  90 | elapsed:    0.8s finished\n",
      "/anaconda3/lib/python3.7/site-packages/sklearn/ensemble/forest.py:246: FutureWarning: The default value of n_estimators will change from 10 in version 0.20 to 100 in 0.22.\n",
      "  \"10 in version 0.20 to 100 in 0.22.\", FutureWarning)\n",
      "[Parallel(n_jobs=-1)]: Using backend LokyBackend with 12 concurrent workers.\n"
     ]
    },
    {
     "name": "stdout",
     "output_type": "stream",
     "text": [
      "RandomForest\n",
      "Best Score: 0.9252962390520351\n",
      "Best Params: {'clf__max_depth': 75, 'clf__min_samples_split': 20}\n",
      "Model Score on X_train: 0.9356236459300526\n",
      "Accuracy score of prediction: 0.9249097472924188\n",
      "TN: 1257, FP:12, FN:92, TP:24\n",
      "Precision of the model is 0.6666666666666666\n",
      "Recall of the model is 0.20689655172413793\n",
      "ROC_AUC: 0.5987201434743621\n",
      "\n",
      "\n",
      "Fitting 3 folds for each of 96 candidates, totalling 288 fits\n"
     ]
    },
    {
     "name": "stderr",
     "output_type": "stream",
     "text": [
      "[Parallel(n_jobs=-1)]: Done   1 tasks      | elapsed:    0.2s\n",
      "[Parallel(n_jobs=-1)]: Batch computation too fast (0.1523s.) Setting batch_size=2.\n",
      "[Parallel(n_jobs=-1)]: Done   8 tasks      | elapsed:    0.7s\n",
      "[Parallel(n_jobs=-1)]: Done  17 tasks      | elapsed:    1.3s\n",
      "[Parallel(n_jobs=-1)]: Done  28 tasks      | elapsed:    1.7s\n",
      "[Parallel(n_jobs=-1)]: Done  50 tasks      | elapsed:    2.5s\n",
      "[Parallel(n_jobs=-1)]: Done  72 tasks      | elapsed:    3.2s\n",
      "[Parallel(n_jobs=-1)]: Done  98 tasks      | elapsed:    3.9s\n",
      "[Parallel(n_jobs=-1)]: Done 124 tasks      | elapsed:    4.9s\n",
      "[Parallel(n_jobs=-1)]: Done 154 tasks      | elapsed:    5.6s\n",
      "[Parallel(n_jobs=-1)]: Done 184 tasks      | elapsed:    6.4s\n",
      "[Parallel(n_jobs=-1)]: Done 218 tasks      | elapsed:    7.5s\n",
      "[Parallel(n_jobs=-1)]: Done 288 out of 288 | elapsed:   10.2s finished\n",
      "/anaconda3/lib/python3.7/site-packages/sklearn/linear_model/sag.py:334: ConvergenceWarning: The max_iter was reached which means the coef_ did not converge\n",
      "  \"the coef_ did not converge\", ConvergenceWarning)\n",
      "[Parallel(n_jobs=-1)]: Using backend LokyBackend with 12 concurrent workers.\n"
     ]
    },
    {
     "name": "stdout",
     "output_type": "stream",
     "text": [
      "LogReg\n",
      "Best Score: 0.9232354456465739\n",
      "Best Params: {'clf__C': 1, 'clf__max_iter': 50, 'clf__solver': 'saga'}\n",
      "Model Score on X_train: 0.9226245744351594\n",
      "Accuracy score of prediction: 0.9249097472924188\n",
      "TN: 1267, FP:2, FN:102, TP:14\n",
      "Precision of the model is 0.875\n",
      "Recall of the model is 0.1206896551724138\n",
      "ROC_AUC: 0.559556805521589\n",
      "\n",
      "\n",
      "Fitting 3 folds for each of 36 candidates, totalling 108 fits\n"
     ]
    },
    {
     "name": "stderr",
     "output_type": "stream",
     "text": [
      "[Parallel(n_jobs=-1)]: Done   1 tasks      | elapsed:    0.6s\n",
      "[Parallel(n_jobs=-1)]: Done   8 tasks      | elapsed:    1.0s\n",
      "[Parallel(n_jobs=-1)]: Done  17 tasks      | elapsed:    2.2s\n",
      "[Parallel(n_jobs=-1)]: Done  26 tasks      | elapsed:    6.7s\n",
      "[Parallel(n_jobs=-1)]: Done  37 tasks      | elapsed:    9.1s\n",
      "[Parallel(n_jobs=-1)]: Done  48 tasks      | elapsed:   10.5s\n",
      "[Parallel(n_jobs=-1)]: Done  61 tasks      | elapsed:   16.2s\n",
      "[Parallel(n_jobs=-1)]: Done  74 tasks      | elapsed:   18.3s\n",
      "[Parallel(n_jobs=-1)]: Done  96 out of 108 | elapsed:   21.0s remaining:    2.6s\n",
      "[Parallel(n_jobs=-1)]: Done 108 out of 108 | elapsed:   26.0s finished\n"
     ]
    },
    {
     "name": "stdout",
     "output_type": "stream",
     "text": [
      "KNN\n",
      "Best Score: 0.9227202472952086\n",
      "Best Params: {'clf__n_neighbors': 15, 'clf__p': 3, 'clf__weights': 'uniform'}\n",
      "Model Score on X_train: 0.9241720829464563\n",
      "Accuracy score of prediction: 0.9227436823104693\n",
      "TN: 1262, FP:7, FN:100, TP:16\n",
      "Precision of the model is 0.6956521739130435\n",
      "Recall of the model is 0.13793103448275862\n",
      "ROC_AUC: 0.566207440015217\n",
      "\n",
      "\n",
      "Fitting 3 folds for each of 1 candidates, totalling 3 fits\n"
     ]
    },
    {
     "name": "stderr",
     "output_type": "stream",
     "text": [
      "[Parallel(n_jobs=-1)]: Using backend LokyBackend with 12 concurrent workers.\n",
      "[Parallel(n_jobs=-1)]: Done   3 out of   3 | elapsed:    0.2s remaining:    0.0s\n",
      "[Parallel(n_jobs=-1)]: Done   3 out of   3 | elapsed:    0.2s finished\n",
      "/anaconda3/lib/python3.7/site-packages/sklearn/svm/base.py:196: FutureWarning: The default value of gamma will change from 'auto' to 'scale' in version 0.22 to account better for unscaled features. Set gamma explicitly to 'auto' or 'scale' to avoid this warning.\n",
      "  \"avoid this warning.\", FutureWarning)\n"
     ]
    },
    {
     "name": "stdout",
     "output_type": "stream",
     "text": [
      "SVC\n",
      "Best Score: 0.9185986604842864\n",
      "Best Params: {'clf__kernel': 'rbf'}\n",
      "Model Score on X_train: 0.9251005880532343\n",
      "Accuracy score of prediction: 0.91985559566787\n",
      "TN: 1269, FP:0, FN:111, TP:5\n",
      "Precision of the model is 1.0\n",
      "Recall of the model is 0.04310344827586207\n",
      "ROC_AUC: 0.521551724137931\n",
      "\n",
      "\n",
      "Fitting 3 folds for each of 6 candidates, totalling 18 fits\n"
     ]
    },
    {
     "name": "stderr",
     "output_type": "stream",
     "text": [
      "[Parallel(n_jobs=-1)]: Using backend LokyBackend with 12 concurrent workers.\n",
      "[Parallel(n_jobs=-1)]: Batch computation too fast (0.1092s.) Setting batch_size=2.\n",
      "[Parallel(n_jobs=-1)]: Done   3 out of  18 | elapsed:    0.1s remaining:    0.6s\n",
      "[Parallel(n_jobs=-1)]: Done   5 out of  18 | elapsed:    0.2s remaining:    0.5s\n",
      "[Parallel(n_jobs=-1)]: Done   7 out of  18 | elapsed:    0.2s remaining:    0.4s\n",
      "[Parallel(n_jobs=-1)]: Done   9 out of  18 | elapsed:    0.3s remaining:    0.3s\n",
      "[Parallel(n_jobs=-1)]: Done  11 out of  18 | elapsed:    0.6s remaining:    0.4s\n",
      "[Parallel(n_jobs=-1)]: Done  13 out of  18 | elapsed:    1.2s remaining:    0.5s\n",
      "[Parallel(n_jobs=-1)]: Done  15 out of  18 | elapsed:    1.2s remaining:    0.2s\n",
      "[Parallel(n_jobs=-1)]: Done  18 out of  18 | elapsed:    2.6s finished\n",
      "[Parallel(n_jobs=-1)]: Using backend LokyBackend with 12 concurrent workers.\n",
      "[Parallel(n_jobs=-1)]: Done   1 tasks      | elapsed:    0.0s\n",
      "[Parallel(n_jobs=-1)]: Batch computation too fast (0.0294s.) Setting batch_size=12.\n"
     ]
    },
    {
     "name": "stdout",
     "output_type": "stream",
     "text": [
      "AdaBoost\n",
      "Best Score: 0.9237506439979392\n",
      "Best Params: {'clf__n_estimators': 25}\n",
      "Model Score on X_train: 0.9241720829464563\n",
      "Accuracy score of prediction: 0.9191335740072202\n",
      "TN: 1257, FP:12, FN:100, TP:16\n",
      "Precision of the model is 0.5714285714285714\n",
      "Recall of the model is 0.13793103448275862\n",
      "ROC_AUC: 0.5642373848536725\n",
      "\n",
      "\n",
      "Fitting 3 folds for each of 36 candidates, totalling 108 fits\n"
     ]
    },
    {
     "name": "stderr",
     "output_type": "stream",
     "text": [
      "[Parallel(n_jobs=-1)]: Done   8 tasks      | elapsed:    0.1s\n",
      "[Parallel(n_jobs=-1)]: Done  19 out of 108 | elapsed:    0.3s remaining:    1.3s\n",
      "[Parallel(n_jobs=-1)]: Done  96 out of 108 | elapsed:    2.1s remaining:    0.3s\n",
      "[Parallel(n_jobs=-1)]: Done 108 out of 108 | elapsed:    2.1s finished\n",
      "/anaconda3/lib/python3.7/site-packages/ipykernel_launcher.py:73: RuntimeWarning: invalid value encountered in long_scalars\n",
      "/anaconda3/lib/python3.7/site-packages/ipykernel_launcher.py:86: RuntimeWarning: invalid value encountered in long_scalars\n",
      "[Parallel(n_jobs=-1)]: Using backend LokyBackend with 12 concurrent workers.\n"
     ]
    },
    {
     "name": "stdout",
     "output_type": "stream",
     "text": [
      "BaggingClass\n",
      "Best Score: 0.9165378670788253\n",
      "Best Params: {'clf__max_features': 1, 'clf__max_samples': 1, 'clf__n_estimators': 10}\n",
      "Model Score on X_train: 0.9167440420922315\n",
      "Accuracy score of prediction: 0.916245487364621\n",
      "TN: 1269, FP:0, FN:116, TP:0\n",
      "Precision of the model is nan\n",
      "Recall of the model is 0.0\n",
      "ROC_AUC: 0.5\n",
      "\n",
      "\n",
      "Fitting 3 folds for each of 40 candidates, totalling 120 fits\n"
     ]
    },
    {
     "name": "stderr",
     "output_type": "stream",
     "text": [
      "[Parallel(n_jobs=-1)]: Done   1 tasks      | elapsed:    0.2s\n",
      "[Parallel(n_jobs=-1)]: Batch computation too fast (0.1509s.) Setting batch_size=2.\n",
      "[Parallel(n_jobs=-1)]: Done   8 tasks      | elapsed:    0.5s\n",
      "[Parallel(n_jobs=-1)]: Done  17 tasks      | elapsed:    1.0s\n",
      "[Parallel(n_jobs=-1)]: Done  31 tasks      | elapsed:    2.1s\n",
      "[Parallel(n_jobs=-1)]: Done  50 tasks      | elapsed:    3.4s\n",
      "[Parallel(n_jobs=-1)]: Batch computation too slow (2.0411s.) Setting batch_size=1.\n",
      "[Parallel(n_jobs=-1)]: Done  72 tasks      | elapsed:    5.0s\n",
      "[Parallel(n_jobs=-1)]: Done  92 tasks      | elapsed:    6.2s\n",
      "[Parallel(n_jobs=-1)]: Done  97 out of 120 | elapsed:    6.4s remaining:    1.5s\n",
      "[Parallel(n_jobs=-1)]: Done 110 out of 120 | elapsed:    7.2s remaining:    0.7s\n"
     ]
    },
    {
     "name": "stdout",
     "output_type": "stream",
     "text": [
      "GradientBoost\n",
      "Best Score: 0.9252962390520351\n",
      "Best Params: {'clf__loss': 'deviance', 'clf__max_features': 'sqrt', 'clf__n_estimators': 50}\n",
      "Model Score on X_train: 0.9266480965645311\n",
      "Accuracy score of prediction: 0.9249097472924188\n",
      "TN: 1265, FP:4, FN:100, TP:16\n",
      "Precision of the model is 0.8\n",
      "Recall of the model is 0.13793103448275862\n",
      "ROC_AUC: 0.5673894731121437\n",
      "\n",
      "\n"
     ]
    },
    {
     "name": "stderr",
     "output_type": "stream",
     "text": [
      "[Parallel(n_jobs=-1)]: Done 120 out of 120 | elapsed:    8.8s finished\n"
     ]
    },
    {
     "data": {
      "text/html": [
       "<div>\n",
       "<style scoped>\n",
       "    .dataframe tbody tr th:only-of-type {\n",
       "        vertical-align: middle;\n",
       "    }\n",
       "\n",
       "    .dataframe tbody tr th {\n",
       "        vertical-align: top;\n",
       "    }\n",
       "\n",
       "    .dataframe thead th {\n",
       "        text-align: right;\n",
       "    }\n",
       "</style>\n",
       "<table border=\"1\" class=\"dataframe\">\n",
       "  <thead>\n",
       "    <tr style=\"text-align: right;\">\n",
       "      <th></th>\n",
       "      <th>model</th>\n",
       "      <th>parameters</th>\n",
       "      <th>scores</th>\n",
       "      <th>recall</th>\n",
       "      <th>precision</th>\n",
       "      <th>roc_auc</th>\n",
       "    </tr>\n",
       "  </thead>\n",
       "  <tbody>\n",
       "    <tr>\n",
       "      <th>0</th>\n",
       "      <td>Decision Tree</td>\n",
       "      <td>{'clf__max_depth': 10, 'clf__min_samples_split...</td>\n",
       "      <td>0.919134</td>\n",
       "      <td>0.224138</td>\n",
       "      <td>0.541667</td>\n",
       "      <td>0.603401</td>\n",
       "    </tr>\n",
       "    <tr>\n",
       "      <th>1</th>\n",
       "      <td>RandomForest</td>\n",
       "      <td>{'clf__max_depth': 75, 'clf__min_samples_split...</td>\n",
       "      <td>0.924910</td>\n",
       "      <td>0.206897</td>\n",
       "      <td>0.666667</td>\n",
       "      <td>0.598720</td>\n",
       "    </tr>\n",
       "    <tr>\n",
       "      <th>2</th>\n",
       "      <td>LogReg</td>\n",
       "      <td>{'clf__C': 1, 'clf__max_iter': 50, 'clf__solve...</td>\n",
       "      <td>0.924910</td>\n",
       "      <td>0.120690</td>\n",
       "      <td>0.875000</td>\n",
       "      <td>0.559557</td>\n",
       "    </tr>\n",
       "    <tr>\n",
       "      <th>3</th>\n",
       "      <td>KNN</td>\n",
       "      <td>{'clf__n_neighbors': 15, 'clf__p': 3, 'clf__we...</td>\n",
       "      <td>0.922744</td>\n",
       "      <td>0.137931</td>\n",
       "      <td>0.695652</td>\n",
       "      <td>0.566207</td>\n",
       "    </tr>\n",
       "    <tr>\n",
       "      <th>4</th>\n",
       "      <td>SVC</td>\n",
       "      <td>{'clf__kernel': 'rbf'}</td>\n",
       "      <td>0.919856</td>\n",
       "      <td>0.043103</td>\n",
       "      <td>1.000000</td>\n",
       "      <td>0.521552</td>\n",
       "    </tr>\n",
       "    <tr>\n",
       "      <th>5</th>\n",
       "      <td>AdaBoost</td>\n",
       "      <td>{'clf__n_estimators': 25}</td>\n",
       "      <td>0.919134</td>\n",
       "      <td>0.137931</td>\n",
       "      <td>0.571429</td>\n",
       "      <td>0.564237</td>\n",
       "    </tr>\n",
       "    <tr>\n",
       "      <th>6</th>\n",
       "      <td>BaggingClass</td>\n",
       "      <td>{'clf__max_features': 1, 'clf__max_samples': 1...</td>\n",
       "      <td>0.916245</td>\n",
       "      <td>0.000000</td>\n",
       "      <td>NaN</td>\n",
       "      <td>0.500000</td>\n",
       "    </tr>\n",
       "    <tr>\n",
       "      <th>7</th>\n",
       "      <td>GradientBoost</td>\n",
       "      <td>{'clf__loss': 'deviance', 'clf__max_features':...</td>\n",
       "      <td>0.924910</td>\n",
       "      <td>0.137931</td>\n",
       "      <td>0.800000</td>\n",
       "      <td>0.567389</td>\n",
       "    </tr>\n",
       "  </tbody>\n",
       "</table>\n",
       "</div>"
      ],
      "text/plain": [
       "           model                                         parameters    scores  \\\n",
       "0  Decision Tree  {'clf__max_depth': 10, 'clf__min_samples_split...  0.919134   \n",
       "1   RandomForest  {'clf__max_depth': 75, 'clf__min_samples_split...  0.924910   \n",
       "2         LogReg  {'clf__C': 1, 'clf__max_iter': 50, 'clf__solve...  0.924910   \n",
       "3            KNN  {'clf__n_neighbors': 15, 'clf__p': 3, 'clf__we...  0.922744   \n",
       "4            SVC                             {'clf__kernel': 'rbf'}  0.919856   \n",
       "5       AdaBoost                          {'clf__n_estimators': 25}  0.919134   \n",
       "6   BaggingClass  {'clf__max_features': 1, 'clf__max_samples': 1...  0.916245   \n",
       "7  GradientBoost  {'clf__loss': 'deviance', 'clf__max_features':...  0.924910   \n",
       "\n",
       "     recall  precision   roc_auc  \n",
       "0  0.224138   0.541667  0.603401  \n",
       "1  0.206897   0.666667  0.598720  \n",
       "2  0.120690   0.875000  0.559557  \n",
       "3  0.137931   0.695652  0.566207  \n",
       "4  0.043103   1.000000  0.521552  \n",
       "5  0.137931   0.571429  0.564237  \n",
       "6  0.000000        NaN  0.500000  \n",
       "7  0.137931   0.800000  0.567389  "
      ]
     },
     "execution_count": 74,
     "metadata": {},
     "output_type": "execute_result"
    }
   ],
   "source": [
    "model = []\n",
    "parameters = []\n",
    "scores = []\n",
    "precision = []\n",
    "recall = []\n",
    "ra_score = []\n",
    "\n",
    "# To put the name of model, models from sklearn, and hyperparameters of the model we want to search through in order\n",
    "\n",
    "names = ['Decision Tree', 'RandomForest', 'LogReg','KNN','SVC','AdaBoost', 'BaggingClass', 'GradientBoost']\n",
    "\n",
    "estimators = [DecisionTreeClassifier(), RandomForestClassifier(), LogisticRegression(), KNeighborsClassifier(),\n",
    "             SVC(), AdaBoostClassifier(), BaggingClassifier(), GradientBoostingClassifier()]\n",
    "\n",
    "params = [\n",
    "    {'clf__max_depth': [None, 10, 15, 20, 30, 35],\n",
    "    'clf__min_samples_split': [5,10,15,20,25,30]}, #DecisionTree\n",
    "\n",
    "    {'clf__max_depth': [None,50,75,100,150,200],\n",
    "     'clf__min_samples_split': [5,10,15,20,30]}, #RandomForest\n",
    "    \n",
    "    {'clf__C':[1,3,5,10],\n",
    "     'clf__solver':['lbfgs', 'liblinear', 'sag', 'saga'],\n",
    "     'clf__max_iter':[50,100,125,150,175,200]}, #LogisticRegression\n",
    "    \n",
    "    {'clf__n_neighbors':[3,5,10,15,20,25],\n",
    "     'clf__weights':['uniform','distance'],\n",
    "     'clf__p':[1,2,3]}, #KNeighborsClassifier\n",
    "    \n",
    "    {'clf__kernel':['rbf']}, #SVC - 'something wrong with 'sigmoid','poly','linear'\n",
    "    \n",
    "    {'clf__n_estimators':[25,40,50,100,200,500]}, #AdaBoost\n",
    "    \n",
    "    {'clf__n_estimators':[10,30,50,100],\n",
    "     'clf__max_samples':[1,5,10],\n",
    "     'clf__max_features':[1,5,10]}, #BaggingClassifier\n",
    "    \n",
    "    {'clf__loss' : ['deviance', 'exponential'],\n",
    "     'clf__n_estimators':[50,75,100,200,500],\n",
    "     'clf__max_features': [None, 'auto','sqrt','log2']} #GradientBoosting\n",
    "]\n",
    "\n",
    "for name, estimator, param in zip(names, estimators, params):\n",
    "    clf_pipe = Pipeline([\n",
    "        # not sure if we need to scale the X\n",
    "        # removed ('ss', StandardScaler),\n",
    "        ('clf', estimator)\n",
    "    ])\n",
    "#     cv = StratifiedKFold(shuffle=True, n_splits=3)\n",
    "    cv = StratifiedShuffleSplit(n_splits=3, test_size=0.2, random_state=0)\n",
    "    gs = GridSearchCV(clf_pipe, param_grid=param, cv=cv, verbose=10, n_jobs=-1)\n",
    "    gs.fit(X_train, y_train)\n",
    "    \n",
    "    print(name)\n",
    "    print('Best Score: {}'.format(gs.best_score_))\n",
    "    print('Best Params: {}'.format(gs.best_params_))\n",
    "    \n",
    "    # Best Model\n",
    "    grid_model = gs.best_estimator_\n",
    "    \n",
    "    print('Model Score on X_train: {}'.format(grid_model.score(X_train, y_train)))\n",
    "    \n",
    "    # Prediction and score\n",
    "    pred = grid_model.predict(X_test)\n",
    "    print('Accuracy score of prediction: {}'.format(accuracy_score(y_test, pred)))\n",
    "    \n",
    "    \n",
    "    # Confusion Matrix \n",
    "    conf_matrix = confusion_matrix(y_test, pred)\n",
    "    \n",
    "    tn, fp, fn, tp = confusion_matrix(y_test, pred).ravel()\n",
    "    print('TN: {}, FP:{}, FN:{}, TP:{}'.format(tn,fp,fn,tp))\n",
    "    print('Precision of the model is {}'. format(tp/(tp+fp)))\n",
    "    print('Recall of the model is {}'.format(tp/(tp+fn)))\n",
    "    \n",
    "    #roc_auc\n",
    "    ra = roc_auc_score(y_test, pred)\n",
    "    print ('ROC_AUC: {}'.format(ra))\n",
    "   \n",
    "    \n",
    "    print('\\n')\n",
    "    model.append(name)\n",
    "    parameters.append(gs.best_params_)\n",
    "    scores.append(accuracy_score(y_test, pred))\n",
    "    recall.append(tp/(tp+fn))\n",
    "    precision.append(tp/(tp+fp))\n",
    "    ra_score.append(ra) \n",
    "    \n",
    "results = pd.DataFrame({'model': model, \n",
    "              'parameters': parameters, \n",
    "              'scores': scores, \n",
    "              'recall': recall, \n",
    "              'precision': precision,\n",
    "              'roc_auc':ra_score\n",
    "                       })\n",
    "results"
   ]
  },
  {
   "cell_type": "markdown",
   "metadata": {},
   "source": [
    "### The following section is added to check the predict_proba scores\n",
    "\n",
    "#### P/S: wasn't able to add this into the loop, so it was done manually instead"
   ]
  },
  {
   "cell_type": "code",
   "execution_count": 75,
   "metadata": {},
   "outputs": [],
   "source": [
    "estimators = [DecisionTreeClassifier(), RandomForestClassifier(), LogisticRegression(), KNeighborsClassifier(),\n",
    "             SVC(), AdaBoostClassifier(), BaggingClassifier(), GradientBoostingClassifier()]"
   ]
  },
  {
   "cell_type": "code",
   "execution_count": 76,
   "metadata": {
    "scrolled": true
   },
   "outputs": [
    {
     "data": {
      "text/plain": [
       "0.8165708812260535"
      ]
     },
     "execution_count": 76,
     "metadata": {},
     "output_type": "execute_result"
    }
   ],
   "source": [
    "model = DecisionTreeClassifier(max_depth = 10 , min_samples_split=25)\n",
    "DTC = model.fit(X_train, y_train)\n",
    "pred = DTC.predict_proba(X_test)[:,1]\n",
    "roc_auc_score(y_test, pred)"
   ]
  },
  {
   "cell_type": "code",
   "execution_count": 77,
   "metadata": {},
   "outputs": [
    {
     "name": "stderr",
     "output_type": "stream",
     "text": [
      "/anaconda3/lib/python3.7/site-packages/sklearn/ensemble/forest.py:246: FutureWarning: The default value of n_estimators will change from 10 in version 0.20 to 100 in 0.22.\n",
      "  \"10 in version 0.20 to 100 in 0.22.\", FutureWarning)\n"
     ]
    },
    {
     "data": {
      "text/plain": [
       "0.8678908181842886"
      ]
     },
     "execution_count": 77,
     "metadata": {},
     "output_type": "execute_result"
    }
   ],
   "source": [
    "model = RandomForestClassifier(max_depth = 100 , min_samples_split=30)\n",
    "RF = model.fit(X_train, y_train)\n",
    "pred = RF.predict_proba(X_test)[:,1]\n",
    "roc_auc_score(y_test, pred)"
   ]
  },
  {
   "cell_type": "code",
   "execution_count": 78,
   "metadata": {},
   "outputs": [
    {
     "data": {
      "text/plain": [
       "0.8468723675987067"
      ]
     },
     "execution_count": 78,
     "metadata": {},
     "output_type": "execute_result"
    }
   ],
   "source": [
    "model = LogisticRegression(C=3, max_iter=175 , solver='lbfgs')\n",
    "LogReg = model.fit(X_train, y_train)\n",
    "pred = LogReg.predict_proba(X_test)[:,1]\n",
    "roc_auc_score(y_test, pred)"
   ]
  },
  {
   "cell_type": "code",
   "execution_count": 79,
   "metadata": {},
   "outputs": [
    {
     "data": {
      "text/plain": [
       "0.8274571343170023"
      ]
     },
     "execution_count": 79,
     "metadata": {},
     "output_type": "execute_result"
    }
   ],
   "source": [
    "model = KNeighborsClassifier(n_neighbors=25, p=2, weights='uniform')\n",
    "Knn = model.fit(X_train, y_train)\n",
    "pred = Knn.predict_proba(X_test)[:,1]\n",
    "roc_auc_score(y_test, pred)"
   ]
  },
  {
   "cell_type": "code",
   "execution_count": 80,
   "metadata": {},
   "outputs": [
    {
     "name": "stderr",
     "output_type": "stream",
     "text": [
      "/anaconda3/lib/python3.7/site-packages/sklearn/svm/base.py:196: FutureWarning: The default value of gamma will change from 'auto' to 'scale' in version 0.22 to account better for unscaled features. Set gamma explicitly to 'auto' or 'scale' to avoid this warning.\n",
      "  \"avoid this warning.\", FutureWarning)\n"
     ]
    },
    {
     "data": {
      "text/plain": [
       "0.7549523110785034"
      ]
     },
     "execution_count": 80,
     "metadata": {},
     "output_type": "execute_result"
    }
   ],
   "source": [
    "model = SVC(kernel='rbf', probability=True)\n",
    "svc = model.fit(X_train, y_train)\n",
    "pred = svc.predict_proba(X_test)[:,1]\n",
    "roc_auc_score(y_test, pred)"
   ]
  },
  {
   "cell_type": "code",
   "execution_count": 81,
   "metadata": {},
   "outputs": [
    {
     "data": {
      "text/plain": [
       "0.8647828863346104"
      ]
     },
     "execution_count": 81,
     "metadata": {},
     "output_type": "execute_result"
    }
   ],
   "source": [
    "model = AdaBoostClassifier(n_estimators=25)\n",
    "Ada = model.fit(X_train, y_train)\n",
    "pred = Ada.predict_proba(X_test)[:,1]\n",
    "roc_auc_score(y_test, pred)"
   ]
  },
  {
   "cell_type": "code",
   "execution_count": 82,
   "metadata": {},
   "outputs": [
    {
     "data": {
      "text/plain": [
       "0.8711583924349883"
      ]
     },
     "execution_count": 82,
     "metadata": {},
     "output_type": "execute_result"
    }
   ],
   "source": [
    "model = GradientBoostingClassifier(loss='exponential', max_features='log2', n_estimators=200)\n",
    "GB = model.fit(X_train, y_train)\n",
    "pred = GB.predict_proba(X_test)[:,1]\n",
    "roc_auc_score(y_test, pred)"
   ]
  },
  {
   "cell_type": "markdown",
   "metadata": {},
   "source": [
    "### Use this as our final model"
   ]
  },
  {
   "cell_type": "code",
   "execution_count": 83,
   "metadata": {},
   "outputs": [
    {
     "name": "stderr",
     "output_type": "stream",
     "text": [
      "/anaconda3/lib/python3.7/site-packages/sklearn/ensemble/forest.py:246: FutureWarning: The default value of n_estimators will change from 10 in version 0.20 to 100 in 0.22.\n",
      "  \"10 in version 0.20 to 100 in 0.22.\", FutureWarning)\n"
     ]
    },
    {
     "data": {
      "text/plain": [
       "0.8586111790440477"
      ]
     },
     "execution_count": 83,
     "metadata": {},
     "output_type": "execute_result"
    }
   ],
   "source": [
    "#use this final model\n",
    "model = RandomForestClassifier(max_depth = 100 , min_samples_split=30)\n",
    "RF = model.fit(X_train, y_train)\n",
    "pred = RF.predict_proba(X_test)[:,1]\n",
    "roc_auc_score(y_test, pred)"
   ]
  },
  {
   "cell_type": "markdown",
   "metadata": {},
   "source": [
    "### Preprocessing the same way for the test set"
   ]
  },
  {
   "cell_type": "code",
   "execution_count": 84,
   "metadata": {
    "scrolled": true
   },
   "outputs": [
    {
     "data": {
      "text/html": [
       "<div>\n",
       "<style scoped>\n",
       "    .dataframe tbody tr th:only-of-type {\n",
       "        vertical-align: middle;\n",
       "    }\n",
       "\n",
       "    .dataframe tbody tr th {\n",
       "        vertical-align: top;\n",
       "    }\n",
       "\n",
       "    .dataframe thead th {\n",
       "        text-align: right;\n",
       "    }\n",
       "</style>\n",
       "<table border=\"1\" class=\"dataframe\">\n",
       "  <thead>\n",
       "    <tr style=\"text-align: right;\">\n",
       "      <th></th>\n",
       "      <th>Date</th>\n",
       "      <th>Trap</th>\n",
       "      <th>Latitude</th>\n",
       "      <th>Longitude</th>\n",
       "      <th>NumMosquitos</th>\n",
       "      <th>WnvPresent</th>\n",
       "      <th>Species_CULEX PIPIENS</th>\n",
       "      <th>Species_CULEX PIPIENS/RESTUANS</th>\n",
       "      <th>Species_CULEX RESTUANS</th>\n",
       "      <th>Species_CULEX SALINARIUS</th>\n",
       "      <th>Species_CULEX TARSALIS</th>\n",
       "      <th>Species_CULEX TERRITANS</th>\n",
       "      <th>Species_UNSPECIFIED CULEX</th>\n",
       "      <th>Year</th>\n",
       "      <th>Month</th>\n",
       "      <th>Daylight</th>\n",
       "      <th>PC1</th>\n",
       "      <th>PC2</th>\n",
       "      <th>PC1y</th>\n",
       "      <th>PC2y</th>\n",
       "    </tr>\n",
       "  </thead>\n",
       "  <tbody>\n",
       "    <tr>\n",
       "      <th>10506</th>\n",
       "      <td>2008-06-11</td>\n",
       "      <td>T002</td>\n",
       "      <td>41.95469</td>\n",
       "      <td>-87.800991</td>\n",
       "      <td>NaN</td>\n",
       "      <td>NaN</td>\n",
       "      <td>0</td>\n",
       "      <td>1</td>\n",
       "      <td>0</td>\n",
       "      <td>0</td>\n",
       "      <td>0</td>\n",
       "      <td>0</td>\n",
       "      <td>0</td>\n",
       "      <td>2008</td>\n",
       "      <td>6</td>\n",
       "      <td>910.333333</td>\n",
       "      <td>-1.450421</td>\n",
       "      <td>-0.092691</td>\n",
       "      <td>-2.263588</td>\n",
       "      <td>-0.333583</td>\n",
       "    </tr>\n",
       "    <tr>\n",
       "      <th>10507</th>\n",
       "      <td>2008-06-11</td>\n",
       "      <td>T002</td>\n",
       "      <td>41.95469</td>\n",
       "      <td>-87.800991</td>\n",
       "      <td>NaN</td>\n",
       "      <td>NaN</td>\n",
       "      <td>0</td>\n",
       "      <td>0</td>\n",
       "      <td>1</td>\n",
       "      <td>0</td>\n",
       "      <td>0</td>\n",
       "      <td>0</td>\n",
       "      <td>0</td>\n",
       "      <td>2008</td>\n",
       "      <td>6</td>\n",
       "      <td>910.333333</td>\n",
       "      <td>-1.450421</td>\n",
       "      <td>-0.092691</td>\n",
       "      <td>-2.263588</td>\n",
       "      <td>-0.333583</td>\n",
       "    </tr>\n",
       "  </tbody>\n",
       "</table>\n",
       "</div>"
      ],
      "text/plain": [
       "            Date  Trap  Latitude  Longitude  NumMosquitos  WnvPresent  \\\n",
       "10506 2008-06-11  T002  41.95469 -87.800991           NaN         NaN   \n",
       "10507 2008-06-11  T002  41.95469 -87.800991           NaN         NaN   \n",
       "\n",
       "       Species_CULEX PIPIENS  Species_CULEX PIPIENS/RESTUANS  \\\n",
       "10506                      0                               1   \n",
       "10507                      0                               0   \n",
       "\n",
       "       Species_CULEX RESTUANS  Species_CULEX SALINARIUS  \\\n",
       "10506                       0                         0   \n",
       "10507                       1                         0   \n",
       "\n",
       "       Species_CULEX TARSALIS  Species_CULEX TERRITANS  \\\n",
       "10506                       0                        0   \n",
       "10507                       0                        0   \n",
       "\n",
       "       Species_UNSPECIFIED CULEX  Year  Month    Daylight       PC1       PC2  \\\n",
       "10506                          0  2008      6  910.333333 -1.450421 -0.092691   \n",
       "10507                          0  2008      6  910.333333 -1.450421 -0.092691   \n",
       "\n",
       "           PC1y      PC2y  \n",
       "10506 -2.263588 -0.333583  \n",
       "10507 -2.263588 -0.333583  "
      ]
     },
     "execution_count": 84,
     "metadata": {},
     "output_type": "execute_result"
    }
   ],
   "source": [
    "test2.head(2)"
   ]
  },
  {
   "cell_type": "code",
   "execution_count": 85,
   "metadata": {},
   "outputs": [
    {
     "data": {
      "text/html": [
       "<div>\n",
       "<style scoped>\n",
       "    .dataframe tbody tr th:only-of-type {\n",
       "        vertical-align: middle;\n",
       "    }\n",
       "\n",
       "    .dataframe tbody tr th {\n",
       "        vertical-align: top;\n",
       "    }\n",
       "\n",
       "    .dataframe thead th {\n",
       "        text-align: right;\n",
       "    }\n",
       "</style>\n",
       "<table border=\"1\" class=\"dataframe\">\n",
       "  <thead>\n",
       "    <tr style=\"text-align: right;\">\n",
       "      <th></th>\n",
       "      <th>Species_CULEX PIPIENS</th>\n",
       "      <th>Species_CULEX PIPIENS/RESTUANS</th>\n",
       "      <th>Species_CULEX RESTUANS</th>\n",
       "      <th>Species_CULEX SALINARIUS</th>\n",
       "      <th>Species_CULEX TARSALIS</th>\n",
       "      <th>Species_CULEX TERRITANS</th>\n",
       "      <th>Species_UNSPECIFIED CULEX</th>\n",
       "      <th>Year</th>\n",
       "      <th>Month</th>\n",
       "      <th>Daylight</th>\n",
       "      <th>PC1</th>\n",
       "      <th>PC2</th>\n",
       "      <th>PC1y</th>\n",
       "      <th>PC2y</th>\n",
       "    </tr>\n",
       "  </thead>\n",
       "  <tbody>\n",
       "    <tr>\n",
       "      <th>10506</th>\n",
       "      <td>0</td>\n",
       "      <td>1</td>\n",
       "      <td>0</td>\n",
       "      <td>0</td>\n",
       "      <td>0</td>\n",
       "      <td>0</td>\n",
       "      <td>0</td>\n",
       "      <td>2008</td>\n",
       "      <td>6</td>\n",
       "      <td>910.333333</td>\n",
       "      <td>-1.450421</td>\n",
       "      <td>-0.092691</td>\n",
       "      <td>-2.263588</td>\n",
       "      <td>-0.333583</td>\n",
       "    </tr>\n",
       "  </tbody>\n",
       "</table>\n",
       "</div>"
      ],
      "text/plain": [
       "       Species_CULEX PIPIENS  Species_CULEX PIPIENS/RESTUANS  \\\n",
       "10506                      0                               1   \n",
       "\n",
       "       Species_CULEX RESTUANS  Species_CULEX SALINARIUS  \\\n",
       "10506                       0                         0   \n",
       "\n",
       "       Species_CULEX TARSALIS  Species_CULEX TERRITANS  \\\n",
       "10506                       0                        0   \n",
       "\n",
       "       Species_UNSPECIFIED CULEX  Year  Month    Daylight       PC1       PC2  \\\n",
       "10506                          0  2008      6  910.333333 -1.450421 -0.092691   \n",
       "\n",
       "           PC1y      PC2y  \n",
       "10506 -2.263588 -0.333583  "
      ]
     },
     "execution_count": 85,
     "metadata": {},
     "output_type": "execute_result"
    }
   ],
   "source": [
    "test2.iloc[:,6:20].head(1)"
   ]
  },
  {
   "cell_type": "code",
   "execution_count": 86,
   "metadata": {
    "scrolled": false
   },
   "outputs": [
    {
     "name": "stderr",
     "output_type": "stream",
     "text": [
      "/anaconda3/lib/python3.7/site-packages/sklearn/preprocessing/data.py:645: DataConversionWarning: Data with input dtype uint8, float64 were all converted to float64 by StandardScaler.\n",
      "  return self.partial_fit(X, y)\n",
      "/anaconda3/lib/python3.7/site-packages/sklearn/base.py:464: DataConversionWarning: Data with input dtype uint8, float64 were all converted to float64 by StandardScaler.\n",
      "  return self.fit(X, **fit_params).transform(X)\n"
     ]
    }
   ],
   "source": [
    "X = pd.concat([test2.iloc[:,2:4],test2.iloc[:,6:20]],axis = 1)\n",
    "X = X.drop(['Month','Year'],axis=1)\n",
    "Xs = pd.DataFrame(ss.fit_transform(X), columns=X.columns)"
   ]
  },
  {
   "cell_type": "code",
   "execution_count": 87,
   "metadata": {
    "scrolled": true
   },
   "outputs": [],
   "source": [
    "final_pred = model.predict_proba(Xs)[:,1]"
   ]
  },
  {
   "cell_type": "code",
   "execution_count": 88,
   "metadata": {},
   "outputs": [
    {
     "data": {
      "text/plain": [
       "array([0.05743704, 0.03861789, 0.43416287, ..., 0.        , 0.        ,\n",
       "       0.        ])"
      ]
     },
     "execution_count": 88,
     "metadata": {},
     "output_type": "execute_result"
    }
   ],
   "source": [
    "final_pred"
   ]
  },
  {
   "cell_type": "markdown",
   "metadata": {},
   "source": [
    "### From the final prediction, combine to create a new database for submission"
   ]
  },
  {
   "cell_type": "code",
   "execution_count": 89,
   "metadata": {
    "scrolled": true
   },
   "outputs": [
    {
     "name": "stdout",
     "output_type": "stream",
     "text": [
      "(116293, 2)\n"
     ]
    },
    {
     "data": {
      "text/html": [
       "<div>\n",
       "<style scoped>\n",
       "    .dataframe tbody tr th:only-of-type {\n",
       "        vertical-align: middle;\n",
       "    }\n",
       "\n",
       "    .dataframe tbody tr th {\n",
       "        vertical-align: top;\n",
       "    }\n",
       "\n",
       "    .dataframe thead th {\n",
       "        text-align: right;\n",
       "    }\n",
       "</style>\n",
       "<table border=\"1\" class=\"dataframe\">\n",
       "  <thead>\n",
       "    <tr style=\"text-align: right;\">\n",
       "      <th></th>\n",
       "      <th>Id</th>\n",
       "      <th>WnvPresent</th>\n",
       "    </tr>\n",
       "  </thead>\n",
       "  <tbody>\n",
       "    <tr>\n",
       "      <th>0</th>\n",
       "      <td>1</td>\n",
       "      <td>0.057437</td>\n",
       "    </tr>\n",
       "    <tr>\n",
       "      <th>1</th>\n",
       "      <td>2</td>\n",
       "      <td>0.038618</td>\n",
       "    </tr>\n",
       "    <tr>\n",
       "      <th>2</th>\n",
       "      <td>3</td>\n",
       "      <td>0.434163</td>\n",
       "    </tr>\n",
       "    <tr>\n",
       "      <th>3</th>\n",
       "      <td>4</td>\n",
       "      <td>0.000000</td>\n",
       "    </tr>\n",
       "    <tr>\n",
       "      <th>4</th>\n",
       "      <td>5</td>\n",
       "      <td>0.000000</td>\n",
       "    </tr>\n",
       "  </tbody>\n",
       "</table>\n",
       "</div>"
      ],
      "text/plain": [
       "   Id  WnvPresent\n",
       "0   1    0.057437\n",
       "1   2    0.038618\n",
       "2   3    0.434163\n",
       "3   4    0.000000\n",
       "4   5    0.000000"
      ]
     },
     "execution_count": 89,
     "metadata": {},
     "output_type": "execute_result"
    }
   ],
   "source": [
    "sample = pd.read_csv('../assets/samplesubmission.csv')\n",
    "sub = pd.DataFrame()\n",
    "sub['Id']=sample['Id']\n",
    "sub['WnvPresent'] = final_pred\n",
    "print(sub.shape)\n",
    "sub.head()"
   ]
  },
  {
   "cell_type": "code",
   "execution_count": 90,
   "metadata": {},
   "outputs": [],
   "source": [
    "sub.to_csv('submission/sub4.csv',index=False)"
   ]
  },
  {
   "cell_type": "code",
   "execution_count": null,
   "metadata": {},
   "outputs": [],
   "source": []
  }
 ],
 "metadata": {
  "kernelspec": {
   "display_name": "Python 3",
   "language": "python",
   "name": "python3"
  },
  "language_info": {
   "codemirror_mode": {
    "name": "ipython",
    "version": 3
   },
   "file_extension": ".py",
   "mimetype": "text/x-python",
   "name": "python",
   "nbconvert_exporter": "python",
   "pygments_lexer": "ipython3",
   "version": "3.7.3"
  }
 },
 "nbformat": 4,
 "nbformat_minor": 2
}
