{
 "cells": [
  {
   "cell_type": "markdown",
   "metadata": {},
   "source": [
    "# Cost Benefit Analysis"
   ]
  },
  {
   "cell_type": "markdown",
   "metadata": {},
   "source": [
    "## 1. When should we spray?"
   ]
  },
  {
   "cell_type": "markdown",
   "metadata": {},
   "source": [
    "<img src=\"assets/monthly_wnv.png\">"
   ]
  },
  {
   "cell_type": "markdown",
   "metadata": {},
   "source": [
    "From the chart above, we notice a trend where WNV presence peak between August and September but it's much more obvious in 2007 and 2013. Since we only have spray data for 2011 and 2013, and there were only 2 sprays in 2011, we will put our focus on sprays in 2013. "
   ]
  },
  {
   "cell_type": "markdown",
   "metadata": {},
   "source": [
    "<img src=\"assets/effectiveness_of_spray.png\">"
   ]
  },
  {
   "cell_type": "markdown",
   "metadata": {},
   "source": [
    "By plotting the heatmap on prevalence of WNV in 2013 by month, we can see that prevalence of the WNV indeed peaks in August and September. This suggests that if we start spraying in end-July(before the expected spike in Aug and Sep), we may be able to reduce the prevalence of WNV in subsequent months.\n",
    "\n",
    "Next, we will look at where we can target the spraying to increase the effectiveness of sprays."
   ]
  },
  {
   "cell_type": "markdown",
   "metadata": {},
   "source": [
    "## 2. Where should we spray?"
   ]
  },
  {
   "cell_type": "markdown",
   "metadata": {},
   "source": [
    "<img src=\"assets/dangerzones.png\">"
   ]
  },
  {
   "cell_type": "markdown",
   "metadata": {},
   "source": [
    "This heatmap shows the predicted area where there will be WNV based on our model. We can hence target the sprays to these area to increase the effectiveness of the spray, and thereby reducing the prevalence of WNV."
   ]
  },
  {
   "cell_type": "markdown",
   "metadata": {},
   "source": [
    "## 3. Weighing the cost of inaccuracy"
   ]
  },
  {
   "cell_type": "markdown",
   "metadata": {},
   "source": [
    "Since this is a classification problem, we would ideally want to work towards minimizing the number of false positive and false negative classifications. Especially when such misclassification would result in an increased probability of epidemic or unnecessarily spending money on spraying locations where there no WNV is detected. \n",
    "\n",
    "In our classification:\n",
    "\n",
    "False Positive refers to the scenario where we predicted that the area has the WNV virus but it does not actually have the virus. This could result in an increased in spraying when it is not required, as well as creating fear and loss in productivity if anyone is quarantined. \n",
    "\n",
    "False Negative on the other hand refers to the scenario where we predicted that an area free of WNV but in actual fact it's plagued with the WNV. This may potentially lead to an increased chance of human epidemic and eventually resulting in a huge negative economic impact downstream."
   ]
  },
  {
   "cell_type": "markdown",
   "metadata": {},
   "source": [
    "<img src=\"assets/confusion_matrix.png\">"
   ]
  },
  {
   "cell_type": "markdown",
   "metadata": {},
   "source": [
    "## 4. Calculating the Cost VS Savings"
   ]
  },
  {
   "cell_type": "markdown",
   "metadata": {},
   "source": [
    "From our model, roughly about 234 miles are predicted to be have WNV. To calculate the cost of spraying, we first assume that we will be spraying about 40% of Chicago and the cost of spraying per mile is ~11k, the estimated cost of spraying would be\n",
    "\n",
    "$$ 0.4 * 234  miles * $11,000 = $1.02 million $$\n",
    "\n",
    "We assume we managed to reduce the number of WNV from 117 to 44 from 2016 to 2016\n",
    "\n",
    "We find that each infection case cost roughly $21k and we can calculate the savings we can get by reducing the number of WNV from 117 in 2013 to 44 in 2014,\n",
    "\n",
    "$$ (117-44) * $21,000 = $1.71million $$\n",
    "\n",
    "Overall, we can get a total of $700k in savings by making the decision to spray."
   ]
  },
  {
   "cell_type": "markdown",
   "metadata": {},
   "source": [
    "## 5. Conclusion and Recommendations"
   ]
  },
  {
   "cell_type": "markdown",
   "metadata": {},
   "source": [
    "Since the savings from spraying is greater then the cost of spraying, we would recommend to always spray in order to control the spread of WNV. We could also consider spraying slightly earlier, near end of July before the expected peak of WNV to further reduce the spread of west nile virus.\n",
    "\n",
    "In addition, we could consider larviciding in June, which is the process of controlling mosquitoes when they are in the larvae or pupal form. This could further prevent the spread of WNV in subsequent months.\n",
    "\n"
   ]
  },
  {
   "cell_type": "markdown",
   "metadata": {},
   "source": [
    "## 6. References"
   ]
  },
  {
   "cell_type": "markdown",
   "metadata": {},
   "source": [
    "\n",
    "1. https://www.cdc.gov/westnile/statsmaps/cumMapsData.html\n",
    "2. https://chicagoflaneur.com/2016/06/20/a-different-way-of-looking-at-density-in-chicago/\n",
    "3. https://www.sporcle.com/games/No1LesbroinChi/populated_chicago_neighborhoods/results\n",
    "4. https://www.sciencedaily.com/releases/2014/02/140210184713.htm\n"
   ]
  }
 ],
 "metadata": {
  "kernelspec": {
   "display_name": "Python 3",
   "language": "python",
   "name": "python3"
  },
  "language_info": {
   "codemirror_mode": {
    "name": "ipython",
    "version": 3
   },
   "file_extension": ".py",
   "mimetype": "text/x-python",
   "name": "python",
   "nbconvert_exporter": "python",
   "pygments_lexer": "ipython3",
   "version": "3.7.3"
  }
 },
 "nbformat": 4,
 "nbformat_minor": 2
}
